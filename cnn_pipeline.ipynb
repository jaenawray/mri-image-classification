{
 "cells": [
  {
   "cell_type": "markdown",
   "metadata": {},
   "source": [
    "# Imports "
   ]
  },
  {
   "cell_type": "code",
   "execution_count": 598,
   "metadata": {},
   "outputs": [],
   "source": [
    "import torch\n",
    "from sklearn.metrics import confusion_matrix, classification_report\n",
    "import csv \n",
    "import seaborn as sns\n",
    "import Dataset_processing as dp \n",
    "import torch.nn as nn\n",
    "import matplotlib.pyplot as plt \n",
    "import torch.optim as optim\n",
    "import seaborn as sns\n",
    "import os\n",
    "import cv2\n",
    "from tqdm import tqdm \n",
    "import pandas as pd\n",
    "import torch\n",
    "from torch.utils.data import Dataset, DataLoader\n",
    "import torchvision.transforms as transforms\n",
    "from torchvision import transforms\n",
    "from tqdm import tqdm\n",
    "import torch.nn.functional as F\n",
    "import numpy as np \n",
    "from PIL import Image\n",
    "import torch\n",
    "import itertools\n",
    "import copy\n",
    "from torch import nn, optim\n",
    "from torch.utils.data import DataLoader\n",
    "from sklearn.model_selection import ParameterGrid\n",
    "import plot_dataset_distribution as data_plots \n",
    "from torchvision.transforms import ToTensor\n",
    "import os\n",
    "import cv2\n",
    "import numpy as np\n",
    "import pandas as pd\n",
    "from PIL import Image\n",
    "from torch.utils.data import Dataset\n",
    "from torchvision import transforms\n",
    "\n"
   ]
  },
  {
   "cell_type": "markdown",
   "metadata": {},
   "source": [
    "# Label encoding and Loading the Datasets"
   ]
  },
  {
   "cell_type": "code",
   "execution_count": 599,
   "metadata": {},
   "outputs": [],
   "source": [
    "label_map = {\n",
    "    \"Glioma\": 0,\n",
    "    \"Meningioma\": 1,\n",
    "    \"Pituitary\": 2,\n",
    "    \"No_Tumor\": 3\n",
    "}\n",
    "\n",
    "# Reverse map to get readable labels\n",
    "reversed_map = {\n",
    "    0: \"Glioma\",\n",
    "    1: \"Meningioma\",\n",
    "    2: \"Pituitary\",\n",
    "    3: \"No_Tumor\"\n",
    "}"
   ]
  },
  {
   "cell_type": "code",
   "execution_count": 600,
   "metadata": {},
   "outputs": [
    {
     "name": "stdout",
     "output_type": "stream",
     "text": [
      "Train                                                filename       label\n",
      "0                                           gl_2003.jpg      Glioma\n",
      "1                                           pi_1224.jpg   Pituitary\n",
      "2                                     me_image(107).jpg  Meningioma\n",
      "3     gl_0126_jpg.rf.fae17fdfdba906952459f8c391267bf...      Glioma\n",
      "4                                       gl_gg (133).jpg      Glioma\n",
      "...                                                 ...         ...\n",
      "6072                                         gl_787.jpg      Glioma\n",
      "6073                                    gl_gg (632).jpg      Glioma\n",
      "6074                                         me_234.jpg  Meningioma\n",
      "6075                                     pi_p (295).jpg   Pituitary\n",
      "6076                                     me_m2 (67).jpg  Meningioma\n",
      "\n",
      "[6077 rows x 2 columns]\n",
      "Test                                               filename       label\n",
      "0                                      gl_gg (563).jpg      Glioma\n",
      "1                                          pi_1542.jpg   Pituitary\n",
      "2    no_0437_jpg.rf.ef7da7bdf423d16bf218dbf3f264c65...    No_Tumor\n",
      "3                                     no_image(24).jpg    No_Tumor\n",
      "4                                          pi_1032.jpg   Pituitary\n",
      "..                                                 ...         ...\n",
      "868  me_0432_jpg.rf.b963fd0cc0ec2305b73e8b4d9a3480b...  Meningioma\n",
      "869                                     pi_p (807).jpg   Pituitary\n",
      "870  me_0477_jpg.rf.207cf2e0409c7e50674cd7a7aa9f7c8...  Meningioma\n",
      "871                                     pi_p (104).jpg   Pituitary\n",
      "872                                        gl_2224.jpg      Glioma\n",
      "\n",
      "[873 rows x 2 columns]\n",
      "Valid                                                filename       label\n",
      "0                                      gl_image(32).jpg      Glioma\n",
      "1                                        pi_p (594).jpg   Pituitary\n",
      "2     gl_0559_jpg.rf.1d8d257bbcb800f2e59cbf1d4cbfc2e...      Glioma\n",
      "3                                           gl_2017.jpg      Glioma\n",
      "4     gl_0310_jpg.rf.55b2520296336ec2735cb44f5650d53...      Glioma\n",
      "...                                                 ...         ...\n",
      "1749                                        pi_1201.jpg   Pituitary\n",
      "1750                                         gl_793.jpg      Glioma\n",
      "1751                                         me_552.jpg  Meningioma\n",
      "1752  no_0073_jpg.rf.e73e68b8a5748f55b046cdda7600146...    No_Tumor\n",
      "1753                                     me_m (148).jpg  Meningioma\n",
      "\n",
      "[1754 rows x 2 columns]\n"
     ]
    }
   ],
   "source": [
    "train_df = pd.read_csv('image_data/train.csv')\n",
    "test_df = pd.read_csv('image_data/test.csv')\n",
    "valid_df = pd.read_csv('image_data/valid.csv')\n",
    "\n",
    "print(\"Train\", train_df)\n",
    "print(\"Test\", test_df)\n",
    "print(\"Valid\", valid_df)\n",
    "\n"
   ]
  },
  {
   "cell_type": "markdown",
   "metadata": {},
   "source": [
    "# Let us visualize our Data "
   ]
  },
  {
   "cell_type": "code",
   "execution_count": 601,
   "metadata": {},
   "outputs": [
    {
     "data": {
      "text/plain": [
       "[{'Split': 'train_images', 'Label': 'Glioma', 'Count': 2210},\n",
       " {'Split': 'train_images', 'Label': 'Meningioma', 'Count': 1505},\n",
       " {'Split': 'train_images', 'Label': 'Pituitary', 'Count': 1720},\n",
       " {'Split': 'train_images', 'Label': 'No Tumor', 'Count': 642},\n",
       " {'Split': 'valid_images', 'Label': 'Glioma', 'Count': 631},\n",
       " {'Split': 'valid_images', 'Label': 'Meningioma', 'Count': 452},\n",
       " {'Split': 'valid_images', 'Label': 'Pituitary', 'Count': 484},\n",
       " {'Split': 'valid_images', 'Label': 'No Tumor', 'Count': 187},\n",
       " {'Split': 'test_images', 'Label': 'Glioma', 'Count': 316},\n",
       " {'Split': 'test_images', 'Label': 'Meningioma', 'Count': 227},\n",
       " {'Split': 'test_images', 'Label': 'Pituitary', 'Count': 237},\n",
       " {'Split': 'test_images', 'Label': 'No Tumor', 'Count': 93}]"
      ]
     },
     "execution_count": 601,
     "metadata": {},
     "output_type": "execute_result"
    }
   ],
   "source": [
    "data_plots.data\n"
   ]
  },
  {
   "cell_type": "markdown",
   "metadata": {},
   "source": [
    "# Data Preprocessing "
   ]
  },
  {
   "cell_type": "code",
   "execution_count": 602,
   "metadata": {},
   "outputs": [],
   "source": [
    "transform = transforms.Compose([\n",
    "    transforms.Resize((128, 128)),           # PIL → PIL\n",
    "    transforms.RandomHorizontalFlip(0.5),    # PIL → PIL\n",
    "    transforms.RandomVerticalFlip(0.5),      # PIL → PIL\n",
    "    transforms.RandomRotation(30),           # PIL → PIL\n",
    "    transforms.ToTensor(),                   # PIL → Tensor [1×128×128]\n",
    "    transforms.Normalize(mean=(0.5,), std=(0.5,))\n",
    "])\n",
    "\n",
    "# 2) Clean Dataset: NO torch.tensor() before transform\n",
    "class MRIDataset(Dataset):\n",
    "    def __init__(self, image_dir, csv_file, transform=None):\n",
    "        self.image_dir = image_dir\n",
    "        self.df        = pd.read_csv(csv_file)  # cols: [filename, label]\n",
    "        self.transform = transform\n",
    "\n",
    "    def __len__(self):\n",
    "        return len(self.df)\n",
    "\n",
    "    def __getitem__(self, idx):\n",
    "        # --- a) Load grayscale via OpenCV (NumPy array) ---\n",
    "        fname = self.df.iloc[idx, 0]\n",
    "        path  = os.path.join(self.image_dir, fname)\n",
    "        arr   = cv2.imread(path, cv2.IMREAD_GRAYSCALE)\n",
    "        if arr is None:\n",
    "            raise FileNotFoundError(f\"Cannot read {path}\")\n",
    "\n",
    "        # --- b) Inline NumPy preprocessing ---\n",
    "        arr = cv2.resize(arr, (128, 128))\n",
    "        arr = cv2.medianBlur(arr, 3)\n",
    "        arr = cv2.normalize(arr, None, 50, 200, cv2.NORM_MINMAX)\n",
    "        arr = arr / 255.0                        # still NumPy, shape (128,128)\n",
    "\n",
    "        # --- c) Convert to PIL in mode 'L' ---\n",
    "        pil = Image.fromarray((arr * 255).astype(np.uint8), mode=\"L\")\n",
    "\n",
    "        # --- d) Apply transforms (PIL→Tensor) ---\n",
    "        if self.transform:\n",
    "            img_tensor = self.transform(pil)\n",
    "        else:\n",
    "            from torchvision.transforms import ToTensor\n",
    "            img_tensor = ToTensor()(pil)\n",
    "\n",
    "        # --- e) Map label ---\n",
    "        label_text = self.df.iloc[idx, 1].strip()\n",
    "        label      = label_map[label_text]       # your label_map must match exactly\n",
    "        return img_tensor, label\n",
    "\n"
   ]
  },
  {
   "cell_type": "code",
   "execution_count": 603,
   "metadata": {},
   "outputs": [],
   "source": [
    "train_dataset = MRIDataset(\"image_data/train_images\", \"image_data/train.csv\", transform=transform)\n",
    "valid_dataset = MRIDataset(\"image_data/valid_images\", \"image_data/valid.csv\", transform=transform)\n",
    "test_dataset = MRIDataset(\"image_data/test_images\", \"image_data/test.csv\", transform=transform)\n",
    "\n",
    "\n",
    "train_loader = DataLoader(train_dataset, batch_size=64, shuffle=True)\n",
    "valid_loader = DataLoader(valid_dataset, batch_size=64, shuffle=False)\n",
    "test_loader = DataLoader(test_dataset, batch_size=64, shuffle=True)\n"
   ]
  },
  {
   "cell_type": "markdown",
   "metadata": {},
   "source": [
    "# CNN Model"
   ]
  },
  {
   "cell_type": "code",
   "execution_count": 604,
   "metadata": {},
   "outputs": [],
   "source": [
    "# Model Architecture \n",
    "class MRICNN(nn.Module):\n",
    "     def __init__(self, num_classes=4):\n",
    "        super(MRICNN, self).__init__()\n",
    "        \n",
    "        self.conv_block1 = nn.Sequential(\n",
    "            nn.Conv2d(1, 64, kernel_size=3, padding=1),  \n",
    "            nn.BatchNorm2d(64),\n",
    "            nn.LeakyReLU(negative_slope=0.01),\n",
    "            nn.MaxPool2d(2)  # 64x64x64\n",
    "        )\n",
    "        \n",
    "        self.conv_block2 = nn.Sequential(\n",
    "            nn.Conv2d(64, 128, kernel_size=3, padding=1),  \n",
    "            nn.BatchNorm2d(128),\n",
    "            nn.ReLU(),\n",
    "            nn.MaxPool2d(2)  # 128x32x32\n",
    "        )\n",
    "\n",
    "        self.conv_block3 = nn.Sequential(\n",
    "            nn.Conv2d(128, 256, kernel_size=3, padding=1),  \n",
    "            nn.BatchNorm2d(256),\n",
    "            nn.ReLU(),\n",
    "            nn.MaxPool2d(2)  # 256x16x16\n",
    "        )\n",
    "        \n",
    "        self.dropout = nn.Dropout(0.5)\n",
    "        self.fc1 = nn.Linear(256 * 16 * 16, 256)  \n",
    "        self.fc2 = nn.Linear(256, num_classes)\n",
    "\n",
    "     def forward(self, x):\n",
    "        x = self.conv_block1(x)\n",
    "        x = self.conv_block2(x)\n",
    "        x = self.conv_block3(x)\n",
    "        x = x.view(x.size(0), -1)  # Flatten\n",
    "        x = self.dropout(F.relu(self.fc1(x)))\n",
    "        x = self.fc2(x)\n",
    "        return x \n"
   ]
  },
  {
   "cell_type": "markdown",
   "metadata": {},
   "source": [
    "# Training Loop "
   ]
  },
  {
   "cell_type": "code",
   "execution_count": 605,
   "metadata": {},
   "outputs": [],
   "source": [
    "def train_model(\n",
    "    model,\n",
    "    train_loader,\n",
    "    valid_loader,\n",
    "    criterion,\n",
    "    optimizer,\n",
    "    num_epochs,\n",
    "    patience=5,\n",
    "    save_path=\"best_mri_model.pth\"\n",
    "):\n",
    "    device = torch.device(\"cuda\" if torch.cuda.is_available() else \"cpu\")\n",
    "    model.to(device)\n",
    "\n",
    "    best_val_acc = 0.0\n",
    "    early_stop_counter = 0\n",
    "\n",
    "    train_losses, val_losses = [], []\n",
    "    train_accuracies, val_accuracies = [], []\n",
    "\n",
    "    for epoch in range(num_epochs):\n",
    "        model.train()\n",
    "        running_loss, correct = 0.0, 0\n",
    "\n",
    "        loop = tqdm(train_loader, desc=f\"Epoch [{epoch+1}/{num_epochs}]\", leave=False)\n",
    "        for images, labels in loop:\n",
    "            images, labels = images.to(device), labels.to(device)\n",
    "            optimizer.zero_grad()\n",
    "\n",
    "            outputs = model(images)\n",
    "            loss = criterion(outputs, labels)\n",
    "            loss.backward()\n",
    "            optimizer.step()\n",
    "\n",
    "            running_loss += loss.item() * images.size(0)\n",
    "            correct += (outputs.argmax(1) == labels).sum().item()\n",
    "\n",
    "            loop.set_postfix(loss=loss.item())\n",
    "\n",
    "        avg_train_loss = running_loss / len(train_loader.dataset)\n",
    "        train_acc = correct / len(train_loader.dataset)\n",
    "        train_losses.append(avg_train_loss)\n",
    "        train_accuracies.append(train_acc)\n",
    "\n",
    "        # Validation\n",
    "        model.eval()\n",
    "        val_loss, val_correct = 0.0, 0\n",
    "        with torch.no_grad():\n",
    "            for images, labels in valid_loader:\n",
    "                images, labels = images.to(device), labels.to(device)\n",
    "                outputs = model(images)\n",
    "                loss = criterion(outputs, labels)\n",
    "\n",
    "                val_loss += loss.item() * images.size(0)\n",
    "                val_correct += (outputs.argmax(1) == labels).sum().item()\n",
    "\n",
    "        avg_val_loss = val_loss / len(valid_loader.dataset)\n",
    "        val_acc = val_correct / len(valid_loader.dataset)\n",
    "        val_losses.append(avg_val_loss)\n",
    "        val_accuracies.append(val_acc)\n",
    "\n",
    "        print(f\"\\nEpoch {epoch+1}:\")\n",
    "        print(f\"  Train Loss: {avg_train_loss:.4f} | Train Acc: {train_acc:.4f}\")\n",
    "        print(f\"  Val   Loss: {avg_val_loss:.4f} | Val   Acc: {val_acc:.4f}\")\n",
    "\n",
    "        # Save best model\n",
    "        best_val_acc = val_acc\n",
    "        early_stop_counter = 0\n",
    "        torch.save(model.state_dict(), save_path)\n",
    "        print(f\"Saved new best model to {save_path}\")\n",
    "        \n",
    "\n",
    "    # Plotting \n",
    "    plt.figure(figsize=(12, 5))\n",
    "    plt.subplot(1, 2, 1)\n",
    "    plt.plot(train_losses, label=\"Train Loss\")\n",
    "    plt.plot(val_losses, label=\"Val Loss\")\n",
    "    plt.title(\"Loss per Epoch\")\n",
    "    plt.xlabel(\"Epoch\")\n",
    "    plt.ylabel(\"Loss\")\n",
    "    plt.legend()\n",
    "\n",
    "    plt.subplot(1, 2, 2)\n",
    "    plt.plot(train_accuracies, label=\"Train Acc\")\n",
    "    plt.plot(val_accuracies, label=\"Val Acc\")\n",
    "    plt.title(\"Accuracy per Epoch\")\n",
    "    plt.xlabel(\"Epoch\")\n",
    "    plt.ylabel(\"Accuracy\")\n",
    "    plt.legend()\n",
    "\n",
    "    plt.tight_layout()\n",
    "    plt.show()\n"
   ]
  },
  {
   "cell_type": "markdown",
   "metadata": {},
   "source": [
    "# Evaluate "
   ]
  },
  {
   "cell_type": "code",
   "execution_count": 606,
   "metadata": {},
   "outputs": [],
   "source": [
    "def evaluate_on_test(model, test_loader, criterion, model_path=\"best_mri_model.pth\"):\n",
    "    device = torch.device(\"cuda\" if torch.cuda.is_available() else \"cpu\")\n",
    "    state = torch.load(model_path, map_location=device)\n",
    "    model.load_state_dict(state)\n",
    "    model.to(device).eval()\n",
    "\n",
    "    total_loss, correct = 0.0, 0\n",
    "    with torch.no_grad():\n",
    "        for images, labels in test_loader:\n",
    "            images, labels = images.to(device), labels.to(device)\n",
    "            outputs = model(images)\n",
    "            loss = criterion(outputs, labels)\n",
    "            total_loss += loss.item() * images.size(0)\n",
    "            correct += (outputs.argmax(1) == labels).sum().item()\n",
    "\n",
    "    avg_loss = total_loss / len(test_loader.dataset)\n",
    "    acc = correct / len(test_loader.dataset)\n",
    "\n",
    "    print(f\"\\n Test Loss: {avg_loss:.4f} | Test Accuracy: {acc:.4f}\")\n",
    "\n"
   ]
  },
  {
   "cell_type": "markdown",
   "metadata": {},
   "source": [
    "# Hyperparameter Search "
   ]
  },
  {
   "cell_type": "code",
   "execution_count": 595,
   "metadata": {},
   "outputs": [],
   "source": [
    "def hyperparameter_search(\n",
    "    param_grid,            \n",
    "    train_csv, valid_csv, test_csv,\n",
    "    train_dir, valid_dir, test_dir,\n",
    "    transform,\n",
    "    num_epochs=5,\n",
    "    patience=5,\n",
    "    device=None\n",
    "):\n",
    "    device = device or torch.device(\"cuda\" if torch.cuda.is_available() else \"cpu\")\n",
    "    best_acc, best_cfg = 0.0, None\n",
    "    all_results = []\n",
    "\n",
    "    for cfg in ParameterGrid(param_grid):\n",
    "        # 1) Build DataLoaders\n",
    "        train_loader = DataLoader(\n",
    "            MRIDataset(train_dir, train_csv, transform=transform),\n",
    "            batch_size=cfg[\"batch_size\"], shuffle=True\n",
    "        )\n",
    "        valid_loader = DataLoader(\n",
    "            MRIDataset(valid_dir, valid_csv, transform=transform),\n",
    "            batch_size=cfg[\"batch_size\"], shuffle=False\n",
    "        )\n",
    "\n",
    "        # 2) Instantiate model, loss, optimizer\n",
    "        model     = MRICNN(num_classes=4).to(device)\n",
    "        criterion = nn.CrossEntropyLoss()\n",
    "        optimizer = optim.AdamW(\n",
    "            model.parameters(),\n",
    "            lr=cfg[\"lr\"],\n",
    "            weight_decay=cfg.get(\"weight_decay\", 0.0)\n",
    "        )\n",
    "\n",
    "        # 3) Train & save best for this config\n",
    "        save_path = f\"model_lr{cfg['lr']}_bs{cfg['batch_size']}_wd{cfg.get('weight_decay',0)}.pth\"\n",
    "        train_model(\n",
    "            model, train_loader, valid_loader,\n",
    "            criterion, optimizer,\n",
    "            num_epochs, patience, save_path\n",
    "        )\n",
    "\n",
    "        # 4) Reload best and evaluate on validation\n",
    "        model.load_state_dict(torch.load(save_path, map_location=device))\n",
    "        model.to(device).eval()\n",
    "        correct, total = 0, 0\n",
    "        with torch.no_grad():\n",
    "            for imgs, labels in valid_loader:\n",
    "                imgs, labels = imgs.to(device), labels.to(device)\n",
    "                preds = model(imgs).argmax(dim=1)\n",
    "                correct += (preds == labels).sum().item()\n",
    "                total   += labels.size(0)\n",
    "        val_acc = correct / total\n",
    "\n",
    "        all_results.append({**cfg, \"val_acc\": val_acc})\n",
    "        print(f\"Config {cfg} → Val Acc: {val_acc:.4f}\")\n",
    "\n",
    "        if val_acc > best_acc:\n",
    "            best_acc, best_cfg = val_acc, cfg\n",
    "\n",
    "    print(f\"\\n Best config: {best_cfg} with val_acc={best_acc:.4f}\")\n",
    "\n",
    "    # 5) Build test loader using best batch_size, then evaluate on test\n",
    "    test_loader = DataLoader(\n",
    "        MRIDataset(test_dir, test_csv, transform=transform),\n",
    "        batch_size=best_cfg[\"batch_size\"], shuffle=False\n",
    "    )\n",
    "    print(\"\\n=== Evaluating best model on TEST set ===\")\n",
    "    evaluate_on_test(\n",
    "        model_class := MRICNN(num_classes=4),\n",
    "        test_loader,\n",
    "        criterion := nn.CrossEntropyLoss(),\n",
    "        model_path=f\"model_lr{best_cfg['lr']}_bs{best_cfg['batch_size']}_wd{best_cfg.get('weight_decay',0)}.pth\"\n",
    "    )\n",
    "\n",
    "    return all_results, best_cfg\n"
   ]
  },
  {
   "cell_type": "markdown",
   "metadata": {},
   "source": [
    "# Testing full pipline "
   ]
  },
  {
   "cell_type": "code",
   "execution_count": 636,
   "metadata": {},
   "outputs": [
    {
     "name": "stderr",
     "output_type": "stream",
     "text": [
      "                                                                          \r"
     ]
    },
    {
     "name": "stdout",
     "output_type": "stream",
     "text": [
      "\n",
      "Epoch 1:\n",
      "  Train Loss: 1.9497 | Train Acc: 0.4428\n",
      "  Val   Loss: 0.9964 | Val   Acc: 0.5924\n",
      "Saved new best model to model_lr0.001_bs16_wd0.0001.pth\n"
     ]
    },
    {
     "name": "stderr",
     "output_type": "stream",
     "text": [
      "                                                                          \r"
     ]
    },
    {
     "name": "stdout",
     "output_type": "stream",
     "text": [
      "\n",
      "Epoch 2:\n",
      "  Train Loss: 1.1522 | Train Acc: 0.4836\n",
      "  Val   Loss: 1.0453 | Val   Acc: 0.5741\n",
      "Saved new best model to model_lr0.001_bs16_wd0.0001.pth\n"
     ]
    },
    {
     "name": "stderr",
     "output_type": "stream",
     "text": [
      "                                                                          \r"
     ]
    },
    {
     "name": "stdout",
     "output_type": "stream",
     "text": [
      "\n",
      "Epoch 3:\n",
      "  Train Loss: 1.1466 | Train Acc: 0.4817\n",
      "  Val   Loss: 0.9683 | Val   Acc: 0.5952\n",
      "Saved new best model to model_lr0.001_bs16_wd0.0001.pth\n"
     ]
    },
    {
     "name": "stderr",
     "output_type": "stream",
     "text": [
      "                                                                          \r"
     ]
    },
    {
     "name": "stdout",
     "output_type": "stream",
     "text": [
      "\n",
      "Epoch 4:\n",
      "  Train Loss: 1.1197 | Train Acc: 0.5037\n",
      "  Val   Loss: 0.9899 | Val   Acc: 0.5696\n",
      "Saved new best model to model_lr0.001_bs16_wd0.0001.pth\n"
     ]
    },
    {
     "name": "stderr",
     "output_type": "stream",
     "text": [
      "                                                                          \r"
     ]
    },
    {
     "name": "stdout",
     "output_type": "stream",
     "text": [
      "\n",
      "Epoch 5:\n",
      "  Train Loss: 1.1076 | Train Acc: 0.4943\n",
      "  Val   Loss: 0.9616 | Val   Acc: 0.5861\n",
      "Saved new best model to model_lr0.001_bs16_wd0.0001.pth\n"
     ]
    },
    {
     "data": {
      "image/png": "[encoded data removed]",
      "text/plain": [
       "<Figure size 1200x500 with 2 Axes>"
      ]
     },
     "metadata": {},
     "output_type": "display_data"
    },
    {
     "name": "stdout",
     "output_type": "stream",
     "text": [
      "Config {'batch_size': 16, 'lr': 0.001, 'weight_decay': 0.0001} → Val Acc: 0.5844\n"
     ]
    },
    {
     "name": "stderr",
     "output_type": "stream",
     "text": [
      "                                                                          \r"
     ]
    },
    {
     "name": "stdout",
     "output_type": "stream",
     "text": [
      "\n",
      "Epoch 1:\n",
      "  Train Loss: 1.9614 | Train Acc: 0.4486\n",
      "  Val   Loss: 0.9688 | Val   Acc: 0.5678\n",
      "Saved new best model to model_lr0.001_bs16_wd1e-05.pth\n"
     ]
    },
    {
     "name": "stderr",
     "output_type": "stream",
     "text": [
      "                                                                               \r"
     ]
    },
    {
     "name": "stdout",
     "output_type": "stream",
     "text": [
      "\n",
      "Epoch 2:\n",
      "  Train Loss: 1.1379 | Train Acc: 0.4854\n",
      "  Val   Loss: 0.9998 | Val   Acc: 0.5650\n",
      "Saved new best model to model_lr0.001_bs16_wd1e-05.pth\n"
     ]
    },
    {
     "name": "stderr",
     "output_type": "stream",
     "text": [
      "                                                                          \r"
     ]
    },
    {
     "name": "stdout",
     "output_type": "stream",
     "text": [
      "\n",
      "Epoch 3:\n",
      "  Train Loss: 1.1276 | Train Acc: 0.4583\n",
      "  Val   Loss: 0.9397 | Val   Acc: 0.5781\n",
      "Saved new best model to model_lr0.001_bs16_wd1e-05.pth\n"
     ]
    },
    {
     "name": "stderr",
     "output_type": "stream",
     "text": [
      "                                                                          \r"
     ]
    },
    {
     "name": "stdout",
     "output_type": "stream",
     "text": [
      "\n",
      "Epoch 4:\n",
      "  Train Loss: 1.1042 | Train Acc: 0.4714\n",
      "  Val   Loss: 1.0240 | Val   Acc: 0.5798\n",
      "Saved new best model to model_lr0.001_bs16_wd1e-05.pth\n"
     ]
    },
    {
     "name": "stderr",
     "output_type": "stream",
     "text": [
      "                                                                          \r"
     ]
    },
    {
     "name": "stdout",
     "output_type": "stream",
     "text": [
      "\n",
      "Epoch 5:\n",
      "  Train Loss: 1.1033 | Train Acc: 0.4752\n",
      "  Val   Loss: 1.0612 | Val   Acc: 0.5644\n",
      "Saved new best model to model_lr0.001_bs16_wd1e-05.pth\n"
     ]
    },
    {
     "data": {
      "image/png": "[encoded data removed]",
      "text/plain": [
       "<Figure size 1200x500 with 2 Axes>"
      ]
     },
     "metadata": {},
     "output_type": "display_data"
    },
    {
     "name": "stdout",
     "output_type": "stream",
     "text": [
      "Config {'batch_size': 16, 'lr': 0.001, 'weight_decay': 1e-05} → Val Acc: 0.5587\n"
     ]
    },
    {
     "name": "stderr",
     "output_type": "stream",
     "text": [
      "                                                                          \r"
     ]
    },
    {
     "name": "stdout",
     "output_type": "stream",
     "text": [
      "\n",
      "Epoch 1:\n",
      "  Train Loss: 2.0857 | Train Acc: 0.4700\n",
      "  Val   Loss: 1.0007 | Val   Acc: 0.5730\n",
      "Saved new best model to model_lr0.001_bs16_wd0.001.pth\n"
     ]
    },
    {
     "name": "stderr",
     "output_type": "stream",
     "text": [
      "                                                                          \r"
     ]
    },
    {
     "name": "stdout",
     "output_type": "stream",
     "text": [
      "\n",
      "Epoch 2:\n",
      "  Train Loss: 1.1005 | Train Acc: 0.5081\n",
      "  Val   Loss: 0.9174 | Val   Acc: 0.5992\n",
      "Saved new best model to model_lr0.001_bs16_wd0.001.pth\n"
     ]
    },
    {
     "name": "stderr",
     "output_type": "stream",
     "text": [
      "                                                                             \r"
     ]
    },
    {
     "name": "stdout",
     "output_type": "stream",
     "text": [
      "\n",
      "Epoch 3:\n",
      "  Train Loss: 1.0635 | Train Acc: 0.5169\n",
      "  Val   Loss: 1.0256 | Val   Acc: 0.5827\n",
      "Saved new best model to model_lr0.001_bs16_wd0.001.pth\n"
     ]
    },
    {
     "name": "stderr",
     "output_type": "stream",
     "text": [
      "                                                                         \r"
     ]
    },
    {
     "ename": "KeyboardInterrupt",
     "evalue": "",
     "output_type": "error",
     "traceback": [
      "\u001b[31m---------------------------------------------------------------------------\u001b[39m",
      "\u001b[31mKeyboardInterrupt\u001b[39m                         Traceback (most recent call last)",
      "\u001b[36mCell\u001b[39m\u001b[36m \u001b[39m\u001b[32mIn[636]\u001b[39m\u001b[32m, line 8\u001b[39m\n\u001b[32m      1\u001b[39m param_grid = {\n\u001b[32m      2\u001b[39m     \u001b[33m\"\u001b[39m\u001b[33mlr\u001b[39m\u001b[33m\"\u001b[39m: [\u001b[32m1e-3\u001b[39m, \u001b[32m1e-4\u001b[39m],\n\u001b[32m      3\u001b[39m     \u001b[33m\"\u001b[39m\u001b[33mbatch_size\u001b[39m\u001b[33m\"\u001b[39m: [\u001b[32m16\u001b[39m, \u001b[32m32\u001b[39m, \u001b[32m64\u001b[39m],\n\u001b[32m      4\u001b[39m     \u001b[33m\"\u001b[39m\u001b[33mweight_decay\u001b[39m\u001b[33m\"\u001b[39m: [\u001b[32m1e-4\u001b[39m, \u001b[32m1e-5\u001b[39m, \u001b[32m0.001\u001b[39m]\n\u001b[32m      5\u001b[39m }\n\u001b[32m      7\u001b[39m device = torch.device(\u001b[33m\"\u001b[39m\u001b[33mcuda\u001b[39m\u001b[33m\"\u001b[39m \u001b[38;5;28;01mif\u001b[39;00m torch.cuda.is_available() \u001b[38;5;28;01melse\u001b[39;00m \u001b[33m\"\u001b[39m\u001b[33mcpu\u001b[39m\u001b[33m\"\u001b[39m)\n\u001b[32m----> \u001b[39m\u001b[32m8\u001b[39m results, best_config = \u001b[43mhyperparameter_search\u001b[49m\u001b[43m(\u001b[49m\n\u001b[32m      9\u001b[39m \u001b[43m    \u001b[49m\u001b[43mparam_grid\u001b[49m\u001b[43m=\u001b[49m\u001b[43mparam_grid\u001b[49m\u001b[43m,\u001b[49m\n\u001b[32m     10\u001b[39m \u001b[43m    \u001b[49m\u001b[43mtrain_csv\u001b[49m\u001b[43m=\u001b[49m\u001b[33;43m\"\u001b[39;49m\u001b[33;43mimage_data/train.csv\u001b[39;49m\u001b[33;43m\"\u001b[39;49m\u001b[43m,\u001b[49m\n\u001b[32m     11\u001b[39m \u001b[43m    \u001b[49m\u001b[43mvalid_csv\u001b[49m\u001b[43m=\u001b[49m\u001b[33;43m\"\u001b[39;49m\u001b[33;43mimage_data/valid.csv\u001b[39;49m\u001b[33;43m\"\u001b[39;49m\u001b[43m,\u001b[49m\n\u001b[32m     12\u001b[39m \u001b[43m    \u001b[49m\u001b[43mtest_csv\u001b[49m\u001b[43m \u001b[49m\u001b[43m=\u001b[49m\u001b[33;43m\"\u001b[39;49m\u001b[33;43mimage_data/test.csv\u001b[39;49m\u001b[33;43m\"\u001b[39;49m\u001b[43m,\u001b[49m\n\u001b[32m     13\u001b[39m \u001b[43m    \u001b[49m\u001b[43mtrain_dir\u001b[49m\u001b[43m=\u001b[49m\u001b[33;43m\"\u001b[39;49m\u001b[33;43mimage_data/train_images\u001b[39;49m\u001b[33;43m\"\u001b[39;49m\u001b[43m,\u001b[49m\n\u001b[32m     14\u001b[39m \u001b[43m    \u001b[49m\u001b[43mvalid_dir\u001b[49m\u001b[43m=\u001b[49m\u001b[33;43m\"\u001b[39;49m\u001b[33;43mimage_data/valid_images\u001b[39;49m\u001b[33;43m\"\u001b[39;49m\u001b[43m,\u001b[49m\n\u001b[32m     15\u001b[39m \u001b[43m    \u001b[49m\u001b[43mtest_dir\u001b[49m\u001b[43m \u001b[49m\u001b[43m=\u001b[49m\u001b[33;43m\"\u001b[39;49m\u001b[33;43mimage_data/test_images\u001b[39;49m\u001b[33;43m\"\u001b[39;49m\u001b[43m,\u001b[49m\n\u001b[32m     16\u001b[39m \u001b[43m    \u001b[49m\u001b[43mtransform\u001b[49m\u001b[43m=\u001b[49m\u001b[43mtransform\u001b[49m\u001b[43m,\u001b[49m\n\u001b[32m     17\u001b[39m \u001b[43m    \u001b[49m\u001b[43mnum_epochs\u001b[49m\u001b[43m=\u001b[49m\u001b[32;43m5\u001b[39;49m\u001b[43m,\u001b[49m\n\u001b[32m     18\u001b[39m \u001b[43m    \u001b[49m\u001b[43mpatience\u001b[49m\u001b[43m=\u001b[49m\u001b[32;43m3\u001b[39;49m\u001b[43m,\u001b[49m\n\u001b[32m     19\u001b[39m \u001b[43m    \u001b[49m\u001b[43mdevice\u001b[49m\u001b[43m=\u001b[49m\u001b[43mdevice\u001b[49m\n\u001b[32m     20\u001b[39m \u001b[43m)\u001b[49m\n",
      "\u001b[36mCell\u001b[39m\u001b[36m \u001b[39m\u001b[32mIn[595]\u001b[39m\u001b[32m, line 36\u001b[39m, in \u001b[36mhyperparameter_search\u001b[39m\u001b[34m(param_grid, train_csv, valid_csv, test_csv, train_dir, valid_dir, test_dir, transform, num_epochs, patience, device)\u001b[39m\n\u001b[32m     34\u001b[39m \u001b[38;5;66;03m# 3) Train & save best for this config\u001b[39;00m\n\u001b[32m     35\u001b[39m save_path = \u001b[33mf\u001b[39m\u001b[33m\"\u001b[39m\u001b[33mmodel_lr\u001b[39m\u001b[38;5;132;01m{\u001b[39;00mcfg[\u001b[33m'\u001b[39m\u001b[33mlr\u001b[39m\u001b[33m'\u001b[39m]\u001b[38;5;132;01m}\u001b[39;00m\u001b[33m_bs\u001b[39m\u001b[38;5;132;01m{\u001b[39;00mcfg[\u001b[33m'\u001b[39m\u001b[33mbatch_size\u001b[39m\u001b[33m'\u001b[39m]\u001b[38;5;132;01m}\u001b[39;00m\u001b[33m_wd\u001b[39m\u001b[38;5;132;01m{\u001b[39;00mcfg.get(\u001b[33m'\u001b[39m\u001b[33mweight_decay\u001b[39m\u001b[33m'\u001b[39m,\u001b[32m0\u001b[39m)\u001b[38;5;132;01m}\u001b[39;00m\u001b[33m.pth\u001b[39m\u001b[33m\"\u001b[39m\n\u001b[32m---> \u001b[39m\u001b[32m36\u001b[39m \u001b[43mtrain_model\u001b[49m\u001b[43m(\u001b[49m\n\u001b[32m     37\u001b[39m \u001b[43m    \u001b[49m\u001b[43mmodel\u001b[49m\u001b[43m,\u001b[49m\u001b[43m \u001b[49m\u001b[43mtrain_loader\u001b[49m\u001b[43m,\u001b[49m\u001b[43m \u001b[49m\u001b[43mvalid_loader\u001b[49m\u001b[43m,\u001b[49m\n\u001b[32m     38\u001b[39m \u001b[43m    \u001b[49m\u001b[43mcriterion\u001b[49m\u001b[43m,\u001b[49m\u001b[43m \u001b[49m\u001b[43moptimizer\u001b[49m\u001b[43m,\u001b[49m\n\u001b[32m     39\u001b[39m \u001b[43m    \u001b[49m\u001b[43mnum_epochs\u001b[49m\u001b[43m,\u001b[49m\u001b[43m \u001b[49m\u001b[43mpatience\u001b[49m\u001b[43m,\u001b[49m\u001b[43m \u001b[49m\u001b[43msave_path\u001b[49m\n\u001b[32m     40\u001b[39m \u001b[43m\u001b[49m\u001b[43m)\u001b[49m\n\u001b[32m     42\u001b[39m \u001b[38;5;66;03m# 4) Reload best and evaluate on validation\u001b[39;00m\n\u001b[32m     43\u001b[39m model.load_state_dict(torch.load(save_path, map_location=device))\n",
      "\u001b[36mCell\u001b[39m\u001b[36m \u001b[39m\u001b[32mIn[605]\u001b[39m\u001b[32m, line 29\u001b[39m, in \u001b[36mtrain_model\u001b[39m\u001b[34m(model, train_loader, valid_loader, criterion, optimizer, num_epochs, patience, save_path)\u001b[39m\n\u001b[32m     26\u001b[39m images, labels = images.to(device), labels.to(device)\n\u001b[32m     27\u001b[39m optimizer.zero_grad()\n\u001b[32m---> \u001b[39m\u001b[32m29\u001b[39m outputs = \u001b[43mmodel\u001b[49m\u001b[43m(\u001b[49m\u001b[43mimages\u001b[49m\u001b[43m)\u001b[49m\n\u001b[32m     30\u001b[39m loss = criterion(outputs, labels)\n\u001b[32m     31\u001b[39m loss.backward()\n",
      "\u001b[36mFile \u001b[39m\u001b[32m~/Desktop/AI_project/mri-image-classification/mri-venv/lib/python3.11/site-packages/torch/nn/modules/module.py:1739\u001b[39m, in \u001b[36mModule._wrapped_call_impl\u001b[39m\u001b[34m(self, *args, **kwargs)\u001b[39m\n\u001b[32m   1737\u001b[39m     \u001b[38;5;28;01mreturn\u001b[39;00m \u001b[38;5;28mself\u001b[39m._compiled_call_impl(*args, **kwargs)  \u001b[38;5;66;03m# type: ignore[misc]\u001b[39;00m\n\u001b[32m   1738\u001b[39m \u001b[38;5;28;01melse\u001b[39;00m:\n\u001b[32m-> \u001b[39m\u001b[32m1739\u001b[39m     \u001b[38;5;28;01mreturn\u001b[39;00m \u001b[38;5;28;43mself\u001b[39;49m\u001b[43m.\u001b[49m\u001b[43m_call_impl\u001b[49m\u001b[43m(\u001b[49m\u001b[43m*\u001b[49m\u001b[43margs\u001b[49m\u001b[43m,\u001b[49m\u001b[43m \u001b[49m\u001b[43m*\u001b[49m\u001b[43m*\u001b[49m\u001b[43mkwargs\u001b[49m\u001b[43m)\u001b[49m\n",
      "\u001b[36mFile \u001b[39m\u001b[32m~/Desktop/AI_project/mri-image-classification/mri-venv/lib/python3.11/site-packages/torch/nn/modules/module.py:1750\u001b[39m, in \u001b[36mModule._call_impl\u001b[39m\u001b[34m(self, *args, **kwargs)\u001b[39m\n\u001b[32m   1745\u001b[39m \u001b[38;5;66;03m# If we don't have any hooks, we want to skip the rest of the logic in\u001b[39;00m\n\u001b[32m   1746\u001b[39m \u001b[38;5;66;03m# this function, and just call forward.\u001b[39;00m\n\u001b[32m   1747\u001b[39m \u001b[38;5;28;01mif\u001b[39;00m \u001b[38;5;129;01mnot\u001b[39;00m (\u001b[38;5;28mself\u001b[39m._backward_hooks \u001b[38;5;129;01mor\u001b[39;00m \u001b[38;5;28mself\u001b[39m._backward_pre_hooks \u001b[38;5;129;01mor\u001b[39;00m \u001b[38;5;28mself\u001b[39m._forward_hooks \u001b[38;5;129;01mor\u001b[39;00m \u001b[38;5;28mself\u001b[39m._forward_pre_hooks\n\u001b[32m   1748\u001b[39m         \u001b[38;5;129;01mor\u001b[39;00m _global_backward_pre_hooks \u001b[38;5;129;01mor\u001b[39;00m _global_backward_hooks\n\u001b[32m   1749\u001b[39m         \u001b[38;5;129;01mor\u001b[39;00m _global_forward_hooks \u001b[38;5;129;01mor\u001b[39;00m _global_forward_pre_hooks):\n\u001b[32m-> \u001b[39m\u001b[32m1750\u001b[39m     \u001b[38;5;28;01mreturn\u001b[39;00m \u001b[43mforward_call\u001b[49m\u001b[43m(\u001b[49m\u001b[43m*\u001b[49m\u001b[43margs\u001b[49m\u001b[43m,\u001b[49m\u001b[43m \u001b[49m\u001b[43m*\u001b[49m\u001b[43m*\u001b[49m\u001b[43mkwargs\u001b[49m\u001b[43m)\u001b[49m\n\u001b[32m   1752\u001b[39m result = \u001b[38;5;28;01mNone\u001b[39;00m\n\u001b[32m   1753\u001b[39m called_always_called_hooks = \u001b[38;5;28mset\u001b[39m()\n",
      "\u001b[36mCell\u001b[39m\u001b[36m \u001b[39m\u001b[32mIn[604]\u001b[39m\u001b[32m, line 33\u001b[39m, in \u001b[36mMRICNN.forward\u001b[39m\u001b[34m(self, x)\u001b[39m\n\u001b[32m     31\u001b[39m \u001b[38;5;28;01mdef\u001b[39;00m\u001b[38;5;250m \u001b[39m\u001b[34mforward\u001b[39m(\u001b[38;5;28mself\u001b[39m, x):\n\u001b[32m     32\u001b[39m    x = \u001b[38;5;28mself\u001b[39m.conv_block1(x)\n\u001b[32m---> \u001b[39m\u001b[32m33\u001b[39m    x = \u001b[38;5;28;43mself\u001b[39;49m\u001b[43m.\u001b[49m\u001b[43mconv_block2\u001b[49m\u001b[43m(\u001b[49m\u001b[43mx\u001b[49m\u001b[43m)\u001b[49m\n\u001b[32m     34\u001b[39m    x = \u001b[38;5;28mself\u001b[39m.conv_block3(x)\n\u001b[32m     35\u001b[39m    x = x.view(x.size(\u001b[32m0\u001b[39m), -\u001b[32m1\u001b[39m)  \u001b[38;5;66;03m# Flatten\u001b[39;00m\n",
      "\u001b[36mFile \u001b[39m\u001b[32m~/Desktop/AI_project/mri-image-classification/mri-venv/lib/python3.11/site-packages/torch/nn/modules/module.py:1739\u001b[39m, in \u001b[36mModule._wrapped_call_impl\u001b[39m\u001b[34m(self, *args, **kwargs)\u001b[39m\n\u001b[32m   1737\u001b[39m     \u001b[38;5;28;01mreturn\u001b[39;00m \u001b[38;5;28mself\u001b[39m._compiled_call_impl(*args, **kwargs)  \u001b[38;5;66;03m# type: ignore[misc]\u001b[39;00m\n\u001b[32m   1738\u001b[39m \u001b[38;5;28;01melse\u001b[39;00m:\n\u001b[32m-> \u001b[39m\u001b[32m1739\u001b[39m     \u001b[38;5;28;01mreturn\u001b[39;00m \u001b[38;5;28;43mself\u001b[39;49m\u001b[43m.\u001b[49m\u001b[43m_call_impl\u001b[49m\u001b[43m(\u001b[49m\u001b[43m*\u001b[49m\u001b[43margs\u001b[49m\u001b[43m,\u001b[49m\u001b[43m \u001b[49m\u001b[43m*\u001b[49m\u001b[43m*\u001b[49m\u001b[43mkwargs\u001b[49m\u001b[43m)\u001b[49m\n",
      "\u001b[36mFile \u001b[39m\u001b[32m~/Desktop/AI_project/mri-image-classification/mri-venv/lib/python3.11/site-packages/torch/nn/modules/module.py:1750\u001b[39m, in \u001b[36mModule._call_impl\u001b[39m\u001b[34m(self, *args, **kwargs)\u001b[39m\n\u001b[32m   1745\u001b[39m \u001b[38;5;66;03m# If we don't have any hooks, we want to skip the rest of the logic in\u001b[39;00m\n\u001b[32m   1746\u001b[39m \u001b[38;5;66;03m# this function, and just call forward.\u001b[39;00m\n\u001b[32m   1747\u001b[39m \u001b[38;5;28;01mif\u001b[39;00m \u001b[38;5;129;01mnot\u001b[39;00m (\u001b[38;5;28mself\u001b[39m._backward_hooks \u001b[38;5;129;01mor\u001b[39;00m \u001b[38;5;28mself\u001b[39m._backward_pre_hooks \u001b[38;5;129;01mor\u001b[39;00m \u001b[38;5;28mself\u001b[39m._forward_hooks \u001b[38;5;129;01mor\u001b[39;00m \u001b[38;5;28mself\u001b[39m._forward_pre_hooks\n\u001b[32m   1748\u001b[39m         \u001b[38;5;129;01mor\u001b[39;00m _global_backward_pre_hooks \u001b[38;5;129;01mor\u001b[39;00m _global_backward_hooks\n\u001b[32m   1749\u001b[39m         \u001b[38;5;129;01mor\u001b[39;00m _global_forward_hooks \u001b[38;5;129;01mor\u001b[39;00m _global_forward_pre_hooks):\n\u001b[32m-> \u001b[39m\u001b[32m1750\u001b[39m     \u001b[38;5;28;01mreturn\u001b[39;00m \u001b[43mforward_call\u001b[49m\u001b[43m(\u001b[49m\u001b[43m*\u001b[49m\u001b[43margs\u001b[49m\u001b[43m,\u001b[49m\u001b[43m \u001b[49m\u001b[43m*\u001b[49m\u001b[43m*\u001b[49m\u001b[43mkwargs\u001b[49m\u001b[43m)\u001b[49m\n\u001b[32m   1752\u001b[39m result = \u001b[38;5;28;01mNone\u001b[39;00m\n\u001b[32m   1753\u001b[39m called_always_called_hooks = \u001b[38;5;28mset\u001b[39m()\n",
      "\u001b[36mFile \u001b[39m\u001b[32m~/Desktop/AI_project/mri-image-classification/mri-venv/lib/python3.11/site-packages/torch/nn/modules/container.py:250\u001b[39m, in \u001b[36mSequential.forward\u001b[39m\u001b[34m(self, input)\u001b[39m\n\u001b[32m    248\u001b[39m \u001b[38;5;28;01mdef\u001b[39;00m\u001b[38;5;250m \u001b[39m\u001b[34mforward\u001b[39m(\u001b[38;5;28mself\u001b[39m, \u001b[38;5;28minput\u001b[39m):\n\u001b[32m    249\u001b[39m     \u001b[38;5;28;01mfor\u001b[39;00m module \u001b[38;5;129;01min\u001b[39;00m \u001b[38;5;28mself\u001b[39m:\n\u001b[32m--> \u001b[39m\u001b[32m250\u001b[39m         \u001b[38;5;28minput\u001b[39m = \u001b[43mmodule\u001b[49m\u001b[43m(\u001b[49m\u001b[38;5;28;43minput\u001b[39;49m\u001b[43m)\u001b[49m\n\u001b[32m    251\u001b[39m     \u001b[38;5;28;01mreturn\u001b[39;00m \u001b[38;5;28minput\u001b[39m\n",
      "\u001b[36mFile \u001b[39m\u001b[32m~/Desktop/AI_project/mri-image-classification/mri-venv/lib/python3.11/site-packages/torch/nn/modules/module.py:1739\u001b[39m, in \u001b[36mModule._wrapped_call_impl\u001b[39m\u001b[34m(self, *args, **kwargs)\u001b[39m\n\u001b[32m   1737\u001b[39m     \u001b[38;5;28;01mreturn\u001b[39;00m \u001b[38;5;28mself\u001b[39m._compiled_call_impl(*args, **kwargs)  \u001b[38;5;66;03m# type: ignore[misc]\u001b[39;00m\n\u001b[32m   1738\u001b[39m \u001b[38;5;28;01melse\u001b[39;00m:\n\u001b[32m-> \u001b[39m\u001b[32m1739\u001b[39m     \u001b[38;5;28;01mreturn\u001b[39;00m \u001b[38;5;28;43mself\u001b[39;49m\u001b[43m.\u001b[49m\u001b[43m_call_impl\u001b[49m\u001b[43m(\u001b[49m\u001b[43m*\u001b[49m\u001b[43margs\u001b[49m\u001b[43m,\u001b[49m\u001b[43m \u001b[49m\u001b[43m*\u001b[49m\u001b[43m*\u001b[49m\u001b[43mkwargs\u001b[49m\u001b[43m)\u001b[49m\n",
      "\u001b[36mFile \u001b[39m\u001b[32m~/Desktop/AI_project/mri-image-classification/mri-venv/lib/python3.11/site-packages/torch/nn/modules/module.py:1750\u001b[39m, in \u001b[36mModule._call_impl\u001b[39m\u001b[34m(self, *args, **kwargs)\u001b[39m\n\u001b[32m   1745\u001b[39m \u001b[38;5;66;03m# If we don't have any hooks, we want to skip the rest of the logic in\u001b[39;00m\n\u001b[32m   1746\u001b[39m \u001b[38;5;66;03m# this function, and just call forward.\u001b[39;00m\n\u001b[32m   1747\u001b[39m \u001b[38;5;28;01mif\u001b[39;00m \u001b[38;5;129;01mnot\u001b[39;00m (\u001b[38;5;28mself\u001b[39m._backward_hooks \u001b[38;5;129;01mor\u001b[39;00m \u001b[38;5;28mself\u001b[39m._backward_pre_hooks \u001b[38;5;129;01mor\u001b[39;00m \u001b[38;5;28mself\u001b[39m._forward_hooks \u001b[38;5;129;01mor\u001b[39;00m \u001b[38;5;28mself\u001b[39m._forward_pre_hooks\n\u001b[32m   1748\u001b[39m         \u001b[38;5;129;01mor\u001b[39;00m _global_backward_pre_hooks \u001b[38;5;129;01mor\u001b[39;00m _global_backward_hooks\n\u001b[32m   1749\u001b[39m         \u001b[38;5;129;01mor\u001b[39;00m _global_forward_hooks \u001b[38;5;129;01mor\u001b[39;00m _global_forward_pre_hooks):\n\u001b[32m-> \u001b[39m\u001b[32m1750\u001b[39m     \u001b[38;5;28;01mreturn\u001b[39;00m \u001b[43mforward_call\u001b[49m\u001b[43m(\u001b[49m\u001b[43m*\u001b[49m\u001b[43margs\u001b[49m\u001b[43m,\u001b[49m\u001b[43m \u001b[49m\u001b[43m*\u001b[49m\u001b[43m*\u001b[49m\u001b[43mkwargs\u001b[49m\u001b[43m)\u001b[49m\n\u001b[32m   1752\u001b[39m result = \u001b[38;5;28;01mNone\u001b[39;00m\n\u001b[32m   1753\u001b[39m called_always_called_hooks = \u001b[38;5;28mset\u001b[39m()\n",
      "\u001b[36mFile \u001b[39m\u001b[32m~/Desktop/AI_project/mri-image-classification/mri-venv/lib/python3.11/site-packages/torch/nn/modules/conv.py:554\u001b[39m, in \u001b[36mConv2d.forward\u001b[39m\u001b[34m(self, input)\u001b[39m\n\u001b[32m    553\u001b[39m \u001b[38;5;28;01mdef\u001b[39;00m\u001b[38;5;250m \u001b[39m\u001b[34mforward\u001b[39m(\u001b[38;5;28mself\u001b[39m, \u001b[38;5;28minput\u001b[39m: Tensor) -> Tensor:\n\u001b[32m--> \u001b[39m\u001b[32m554\u001b[39m     \u001b[38;5;28;01mreturn\u001b[39;00m \u001b[38;5;28;43mself\u001b[39;49m\u001b[43m.\u001b[49m\u001b[43m_conv_forward\u001b[49m\u001b[43m(\u001b[49m\u001b[38;5;28;43minput\u001b[39;49m\u001b[43m,\u001b[49m\u001b[43m \u001b[49m\u001b[38;5;28;43mself\u001b[39;49m\u001b[43m.\u001b[49m\u001b[43mweight\u001b[49m\u001b[43m,\u001b[49m\u001b[43m \u001b[49m\u001b[38;5;28;43mself\u001b[39;49m\u001b[43m.\u001b[49m\u001b[43mbias\u001b[49m\u001b[43m)\u001b[49m\n",
      "\u001b[36mFile \u001b[39m\u001b[32m~/Desktop/AI_project/mri-image-classification/mri-venv/lib/python3.11/site-packages/torch/nn/modules/conv.py:549\u001b[39m, in \u001b[36mConv2d._conv_forward\u001b[39m\u001b[34m(self, input, weight, bias)\u001b[39m\n\u001b[32m    537\u001b[39m \u001b[38;5;28;01mif\u001b[39;00m \u001b[38;5;28mself\u001b[39m.padding_mode != \u001b[33m\"\u001b[39m\u001b[33mzeros\u001b[39m\u001b[33m\"\u001b[39m:\n\u001b[32m    538\u001b[39m     \u001b[38;5;28;01mreturn\u001b[39;00m F.conv2d(\n\u001b[32m    539\u001b[39m         F.pad(\n\u001b[32m    540\u001b[39m             \u001b[38;5;28minput\u001b[39m, \u001b[38;5;28mself\u001b[39m._reversed_padding_repeated_twice, mode=\u001b[38;5;28mself\u001b[39m.padding_mode\n\u001b[32m   (...)\u001b[39m\u001b[32m    547\u001b[39m         \u001b[38;5;28mself\u001b[39m.groups,\n\u001b[32m    548\u001b[39m     )\n\u001b[32m--> \u001b[39m\u001b[32m549\u001b[39m \u001b[38;5;28;01mreturn\u001b[39;00m \u001b[43mF\u001b[49m\u001b[43m.\u001b[49m\u001b[43mconv2d\u001b[49m\u001b[43m(\u001b[49m\n\u001b[32m    550\u001b[39m \u001b[43m    \u001b[49m\u001b[38;5;28;43minput\u001b[39;49m\u001b[43m,\u001b[49m\u001b[43m \u001b[49m\u001b[43mweight\u001b[49m\u001b[43m,\u001b[49m\u001b[43m \u001b[49m\u001b[43mbias\u001b[49m\u001b[43m,\u001b[49m\u001b[43m \u001b[49m\u001b[38;5;28;43mself\u001b[39;49m\u001b[43m.\u001b[49m\u001b[43mstride\u001b[49m\u001b[43m,\u001b[49m\u001b[43m \u001b[49m\u001b[38;5;28;43mself\u001b[39;49m\u001b[43m.\u001b[49m\u001b[43mpadding\u001b[49m\u001b[43m,\u001b[49m\u001b[43m \u001b[49m\u001b[38;5;28;43mself\u001b[39;49m\u001b[43m.\u001b[49m\u001b[43mdilation\u001b[49m\u001b[43m,\u001b[49m\u001b[43m \u001b[49m\u001b[38;5;28;43mself\u001b[39;49m\u001b[43m.\u001b[49m\u001b[43mgroups\u001b[49m\n\u001b[32m    551\u001b[39m \u001b[43m\u001b[49m\u001b[43m)\u001b[49m\n",
      "\u001b[31mKeyboardInterrupt\u001b[39m: "
     ]
    }
   ],
   "source": [
    "\n",
    "param_grid = {\n",
    "    \"lr\": [1e-3, 1e-4],\n",
    "    \"batch_size\": [16, 32, 64],\n",
    "    \"weight_decay\": [1e-4, 1e-5, 0.001]\n",
    "}\n",
    "\n",
    "device = torch.device(\"cuda\" if torch.cuda.is_available() else \"cpu\")\n",
    "results, best_config = hyperparameter_search(\n",
    "    param_grid=param_grid,\n",
    "    train_csv=\"image_data/train.csv\",\n",
    "    valid_csv=\"image_data/valid.csv\",\n",
    "    test_csv =\"image_data/test.csv\",\n",
    "    train_dir=\"image_data/train_images\",\n",
    "    valid_dir=\"image_data/valid_images\",\n",
    "    test_dir =\"image_data/test_images\",\n",
    "    transform=transform,\n",
    "    num_epochs=5,\n",
    "    patience=3,\n",
    "    device=device\n",
    ")"
   ]
  },
  {
   "cell_type": "code",
   "execution_count": 611,
   "metadata": {},
   "outputs": [
    {
     "name": "stderr",
     "output_type": "stream",
     "text": [
      "                                                                           \r"
     ]
    },
    {
     "name": "stdout",
     "output_type": "stream",
     "text": [
      "\n",
      "Epoch 1:\n",
      "  Train Loss: 1.5174 | Train Acc: 0.5058\n",
      "  Val   Loss: 0.9221 | Val   Acc: 0.5952\n",
      "Saved new best model to best_mri_model.pth\n"
     ]
    },
    {
     "name": "stderr",
     "output_type": "stream",
     "text": [
      "                                                                           \r"
     ]
    },
    {
     "name": "stdout",
     "output_type": "stream",
     "text": [
      "\n",
      "Epoch 2:\n",
      "  Train Loss: 1.0278 | Train Acc: 0.5476\n",
      "  Val   Loss: 0.9126 | Val   Acc: 0.6083\n",
      "Saved new best model to best_mri_model.pth\n"
     ]
    },
    {
     "name": "stderr",
     "output_type": "stream",
     "text": [
      "                                                                           \r"
     ]
    },
    {
     "name": "stdout",
     "output_type": "stream",
     "text": [
      "\n",
      "Epoch 3:\n",
      "  Train Loss: 1.0020 | Train Acc: 0.5657\n",
      "  Val   Loss: 0.8110 | Val   Acc: 0.6437\n",
      "Saved new best model to best_mri_model.pth\n"
     ]
    },
    {
     "name": "stderr",
     "output_type": "stream",
     "text": [
      "                                                                             \r"
     ]
    },
    {
     "name": "stdout",
     "output_type": "stream",
     "text": [
      "\n",
      "Epoch 4:\n",
      "  Train Loss: 0.9666 | Train Acc: 0.5794\n",
      "  Val   Loss: 0.8556 | Val   Acc: 0.6277\n",
      "Saved new best model to best_mri_model.pth\n"
     ]
    },
    {
     "name": "stderr",
     "output_type": "stream",
     "text": [
      "                                                                           \r"
     ]
    },
    {
     "name": "stdout",
     "output_type": "stream",
     "text": [
      "\n",
      "Epoch 5:\n",
      "  Train Loss: 0.9396 | Train Acc: 0.5866\n",
      "  Val   Loss: 0.7716 | Val   Acc: 0.6522\n",
      "Saved new best model to best_mri_model.pth\n"
     ]
    },
    {
     "name": "stderr",
     "output_type": "stream",
     "text": [
      "                                                                           \r"
     ]
    },
    {
     "name": "stdout",
     "output_type": "stream",
     "text": [
      "\n",
      "Epoch 6:\n",
      "  Train Loss: 0.9241 | Train Acc: 0.5863\n",
      "  Val   Loss: 0.8248 | Val   Acc: 0.6437\n",
      "Saved new best model to best_mri_model.pth\n"
     ]
    },
    {
     "name": "stderr",
     "output_type": "stream",
     "text": [
      "                                                                           \r"
     ]
    },
    {
     "name": "stdout",
     "output_type": "stream",
     "text": [
      "\n",
      "Epoch 7:\n",
      "  Train Loss: 0.9239 | Train Acc: 0.5896\n",
      "  Val   Loss: 0.8418 | Val   Acc: 0.6363\n",
      "Saved new best model to best_mri_model.pth\n"
     ]
    },
    {
     "name": "stderr",
     "output_type": "stream",
     "text": [
      "                                                                             \r"
     ]
    },
    {
     "name": "stdout",
     "output_type": "stream",
     "text": [
      "\n",
      "Epoch 8:\n",
      "  Train Loss: 0.8915 | Train Acc: 0.6031\n",
      "  Val   Loss: 0.7512 | Val   Acc: 0.6796\n",
      "Saved new best model to best_mri_model.pth\n"
     ]
    },
    {
     "name": "stderr",
     "output_type": "stream",
     "text": [
      "                                                                             \r"
     ]
    },
    {
     "name": "stdout",
     "output_type": "stream",
     "text": [
      "\n",
      "Epoch 9:\n",
      "  Train Loss: 0.8979 | Train Acc: 0.6041\n",
      "  Val   Loss: 0.7493 | Val   Acc: 0.6836\n",
      "Saved new best model to best_mri_model.pth\n"
     ]
    },
    {
     "name": "stderr",
     "output_type": "stream",
     "text": [
      "                                                                                \r"
     ]
    },
    {
     "name": "stdout",
     "output_type": "stream",
     "text": [
      "\n",
      "Epoch 10:\n",
      "  Train Loss: 0.8915 | Train Acc: 0.6085\n",
      "  Val   Loss: 0.7640 | Val   Acc: 0.6784\n",
      "Saved new best model to best_mri_model.pth\n"
     ]
    },
    {
     "name": "stderr",
     "output_type": "stream",
     "text": [
      "                                                                              \r"
     ]
    },
    {
     "name": "stdout",
     "output_type": "stream",
     "text": [
      "\n",
      "Epoch 11:\n",
      "  Train Loss: 0.8710 | Train Acc: 0.6034\n",
      "  Val   Loss: 0.7475 | Val   Acc: 0.6631\n",
      "Saved new best model to best_mri_model.pth\n"
     ]
    },
    {
     "name": "stderr",
     "output_type": "stream",
     "text": [
      "                                                                            \r"
     ]
    },
    {
     "name": "stdout",
     "output_type": "stream",
     "text": [
      "\n",
      "Epoch 12:\n",
      "  Train Loss: 0.8655 | Train Acc: 0.6112\n",
      "  Val   Loss: 0.7492 | Val   Acc: 0.6710\n",
      "Saved new best model to best_mri_model.pth\n"
     ]
    },
    {
     "name": "stderr",
     "output_type": "stream",
     "text": [
      "                                                                            \r"
     ]
    },
    {
     "name": "stdout",
     "output_type": "stream",
     "text": [
      "\n",
      "Epoch 13:\n",
      "  Train Loss: 0.8419 | Train Acc: 0.6176\n",
      "  Val   Loss: 0.7127 | Val   Acc: 0.6824\n",
      "Saved new best model to best_mri_model.pth\n"
     ]
    },
    {
     "name": "stderr",
     "output_type": "stream",
     "text": [
      "                                                                            \r"
     ]
    },
    {
     "name": "stdout",
     "output_type": "stream",
     "text": [
      "\n",
      "Epoch 14:\n",
      "  Train Loss: 0.8561 | Train Acc: 0.6166\n",
      "  Val   Loss: 0.7717 | Val   Acc: 0.6511\n",
      "Saved new best model to best_mri_model.pth\n"
     ]
    },
    {
     "name": "stderr",
     "output_type": "stream",
     "text": [
      "                                                                            \r"
     ]
    },
    {
     "name": "stdout",
     "output_type": "stream",
     "text": [
      "\n",
      "Epoch 15:\n",
      "  Train Loss: 0.8439 | Train Acc: 0.6261\n",
      "  Val   Loss: 0.6463 | Val   Acc: 0.7098\n",
      "Saved new best model to best_mri_model.pth\n"
     ]
    },
    {
     "name": "stderr",
     "output_type": "stream",
     "text": [
      "                                                                            \r"
     ]
    },
    {
     "name": "stdout",
     "output_type": "stream",
     "text": [
      "\n",
      "Epoch 16:\n",
      "  Train Loss: 0.8369 | Train Acc: 0.6174\n",
      "  Val   Loss: 0.7070 | Val   Acc: 0.6739\n",
      "Saved new best model to best_mri_model.pth\n"
     ]
    },
    {
     "name": "stderr",
     "output_type": "stream",
     "text": [
      "                                                                            \r"
     ]
    },
    {
     "name": "stdout",
     "output_type": "stream",
     "text": [
      "\n",
      "Epoch 17:\n",
      "  Train Loss: 0.8148 | Train Acc: 0.6377\n",
      "  Val   Loss: 0.6889 | Val   Acc: 0.7201\n",
      "Saved new best model to best_mri_model.pth\n"
     ]
    },
    {
     "name": "stderr",
     "output_type": "stream",
     "text": [
      "                                                                            \r"
     ]
    },
    {
     "name": "stdout",
     "output_type": "stream",
     "text": [
      "\n",
      "Epoch 18:\n",
      "  Train Loss: 0.8153 | Train Acc: 0.6270\n",
      "  Val   Loss: 0.6688 | Val   Acc: 0.7013\n",
      "Saved new best model to best_mri_model.pth\n"
     ]
    },
    {
     "name": "stderr",
     "output_type": "stream",
     "text": [
      "                                                                            \r"
     ]
    },
    {
     "name": "stdout",
     "output_type": "stream",
     "text": [
      "\n",
      "Epoch 19:\n",
      "  Train Loss: 0.8053 | Train Acc: 0.6317\n",
      "  Val   Loss: 0.6550 | Val   Acc: 0.7121\n",
      "Saved new best model to best_mri_model.pth\n"
     ]
    },
    {
     "name": "stderr",
     "output_type": "stream",
     "text": [
      "                                                                            \r"
     ]
    },
    {
     "name": "stdout",
     "output_type": "stream",
     "text": [
      "\n",
      "Epoch 20:\n",
      "  Train Loss: 0.8157 | Train Acc: 0.6212\n",
      "  Val   Loss: 0.6341 | Val   Acc: 0.7070\n",
      "Saved new best model to best_mri_model.pth\n"
     ]
    },
    {
     "name": "stderr",
     "output_type": "stream",
     "text": [
      "                                                                            \r"
     ]
    },
    {
     "name": "stdout",
     "output_type": "stream",
     "text": [
      "\n",
      "Epoch 21:\n",
      "  Train Loss: 0.7947 | Train Acc: 0.6263\n",
      "  Val   Loss: 0.6232 | Val   Acc: 0.7366\n",
      "Saved new best model to best_mri_model.pth\n"
     ]
    },
    {
     "name": "stderr",
     "output_type": "stream",
     "text": [
      "                                                                            \r"
     ]
    },
    {
     "name": "stdout",
     "output_type": "stream",
     "text": [
      "\n",
      "Epoch 22:\n",
      "  Train Loss: 0.8042 | Train Acc: 0.6227\n",
      "  Val   Loss: 0.6295 | Val   Acc: 0.7075\n",
      "Saved new best model to best_mri_model.pth\n"
     ]
    },
    {
     "name": "stderr",
     "output_type": "stream",
     "text": [
      "                                                                            \r"
     ]
    },
    {
     "name": "stdout",
     "output_type": "stream",
     "text": [
      "\n",
      "Epoch 23:\n",
      "  Train Loss: 0.7847 | Train Acc: 0.6337\n",
      "  Val   Loss: 0.6454 | Val   Acc: 0.7138\n",
      "Saved new best model to best_mri_model.pth\n"
     ]
    },
    {
     "name": "stderr",
     "output_type": "stream",
     "text": [
      "                                                                            \r"
     ]
    },
    {
     "name": "stdout",
     "output_type": "stream",
     "text": [
      "\n",
      "Epoch 24:\n",
      "  Train Loss: 0.7693 | Train Acc: 0.6368\n",
      "  Val   Loss: 0.5893 | Val   Acc: 0.7081\n",
      "Saved new best model to best_mri_model.pth\n"
     ]
    },
    {
     "name": "stderr",
     "output_type": "stream",
     "text": [
      "                                                                            \r"
     ]
    },
    {
     "name": "stdout",
     "output_type": "stream",
     "text": [
      "\n",
      "Epoch 25:\n",
      "  Train Loss: 0.7747 | Train Acc: 0.6370\n",
      "  Val   Loss: 0.7153 | Val   Acc: 0.6773\n",
      "Saved new best model to best_mri_model.pth\n"
     ]
    },
    {
     "name": "stderr",
     "output_type": "stream",
     "text": [
      "                                                                               \r"
     ]
    },
    {
     "name": "stdout",
     "output_type": "stream",
     "text": [
      "\n",
      "Epoch 26:\n",
      "  Train Loss: 0.7629 | Train Acc: 0.6451\n",
      "  Val   Loss: 0.5792 | Val   Acc: 0.7429\n",
      "Saved new best model to best_mri_model.pth\n"
     ]
    },
    {
     "name": "stderr",
     "output_type": "stream",
     "text": [
      "                                                                            \r"
     ]
    },
    {
     "name": "stdout",
     "output_type": "stream",
     "text": [
      "\n",
      "Epoch 27:\n",
      "  Train Loss: 0.7483 | Train Acc: 0.6485\n",
      "  Val   Loss: 0.5273 | Val   Acc: 0.7611\n",
      "Saved new best model to best_mri_model.pth\n"
     ]
    },
    {
     "name": "stderr",
     "output_type": "stream",
     "text": [
      "                                                                            \r"
     ]
    },
    {
     "name": "stdout",
     "output_type": "stream",
     "text": [
      "\n",
      "Epoch 28:\n",
      "  Train Loss: 0.7363 | Train Acc: 0.6561\n",
      "  Val   Loss: 0.5280 | Val   Acc: 0.7651\n",
      "Saved new best model to best_mri_model.pth\n"
     ]
    },
    {
     "name": "stderr",
     "output_type": "stream",
     "text": [
      "                                                                               \r"
     ]
    },
    {
     "name": "stdout",
     "output_type": "stream",
     "text": [
      "\n",
      "Epoch 29:\n",
      "  Train Loss: 0.7320 | Train Acc: 0.6633\n",
      "  Val   Loss: 0.5316 | Val   Acc: 0.7919\n",
      "Saved new best model to best_mri_model.pth\n"
     ]
    },
    {
     "name": "stderr",
     "output_type": "stream",
     "text": [
      "                                                                            \r"
     ]
    },
    {
     "name": "stdout",
     "output_type": "stream",
     "text": [
      "\n",
      "Epoch 30:\n",
      "  Train Loss: 0.7241 | Train Acc: 0.6709\n",
      "  Val   Loss: 0.5415 | Val   Acc: 0.7628\n",
      "Saved new best model to best_mri_model.pth\n"
     ]
    },
    {
     "name": "stderr",
     "output_type": "stream",
     "text": [
      "                                                                            \r"
     ]
    },
    {
     "name": "stdout",
     "output_type": "stream",
     "text": [
      "\n",
      "Epoch 31:\n",
      "  Train Loss: 0.7203 | Train Acc: 0.6709\n",
      "  Val   Loss: 0.5525 | Val   Acc: 0.7782\n",
      "Saved new best model to best_mri_model.pth\n"
     ]
    },
    {
     "name": "stderr",
     "output_type": "stream",
     "text": [
      "                                                                            \r"
     ]
    },
    {
     "name": "stdout",
     "output_type": "stream",
     "text": [
      "\n",
      "Epoch 32:\n",
      "  Train Loss: 0.7081 | Train Acc: 0.6734\n",
      "  Val   Loss: 0.5637 | Val   Acc: 0.7799\n",
      "Saved new best model to best_mri_model.pth\n"
     ]
    },
    {
     "name": "stderr",
     "output_type": "stream",
     "text": [
      "                                                                            \r"
     ]
    },
    {
     "name": "stdout",
     "output_type": "stream",
     "text": [
      "\n",
      "Epoch 33:\n",
      "  Train Loss: 0.6849 | Train Acc: 0.6938\n",
      "  Val   Loss: 0.4669 | Val   Acc: 0.8170\n",
      "Saved new best model to best_mri_model.pth\n"
     ]
    },
    {
     "name": "stderr",
     "output_type": "stream",
     "text": [
      "                                                                            \r"
     ]
    },
    {
     "name": "stdout",
     "output_type": "stream",
     "text": [
      "\n",
      "Epoch 34:\n",
      "  Train Loss: 0.7149 | Train Acc: 0.6704\n",
      "  Val   Loss: 0.5657 | Val   Acc: 0.7132\n",
      "Saved new best model to best_mri_model.pth\n"
     ]
    },
    {
     "name": "stderr",
     "output_type": "stream",
     "text": [
      "                                                                            \r"
     ]
    },
    {
     "name": "stdout",
     "output_type": "stream",
     "text": [
      "\n",
      "Epoch 35:\n",
      "  Train Loss: 0.6841 | Train Acc: 0.6929\n",
      "  Val   Loss: 0.4953 | Val   Acc: 0.7469\n",
      "Saved new best model to best_mri_model.pth\n"
     ]
    },
    {
     "name": "stderr",
     "output_type": "stream",
     "text": [
      "                                                                               \r"
     ]
    },
    {
     "name": "stdout",
     "output_type": "stream",
     "text": [
      "\n",
      "Epoch 36:\n",
      "  Train Loss: 0.6751 | Train Acc: 0.6962\n",
      "  Val   Loss: 0.4808 | Val   Acc: 0.7851\n",
      "Saved new best model to best_mri_model.pth\n"
     ]
    },
    {
     "name": "stderr",
     "output_type": "stream",
     "text": [
      "                                                                            \r"
     ]
    },
    {
     "name": "stdout",
     "output_type": "stream",
     "text": [
      "\n",
      "Epoch 37:\n",
      "  Train Loss: 0.6655 | Train Acc: 0.7020\n",
      "  Val   Loss: 0.4954 | Val   Acc: 0.7913\n",
      "Saved new best model to best_mri_model.pth\n"
     ]
    },
    {
     "name": "stderr",
     "output_type": "stream",
     "text": [
      "                                                                            \r"
     ]
    },
    {
     "name": "stdout",
     "output_type": "stream",
     "text": [
      "\n",
      "Epoch 38:\n",
      "  Train Loss: 0.6781 | Train Acc: 0.7000\n",
      "  Val   Loss: 0.4373 | Val   Acc: 0.8193\n",
      "Saved new best model to best_mri_model.pth\n"
     ]
    },
    {
     "name": "stderr",
     "output_type": "stream",
     "text": [
      "                                                                            \r"
     ]
    },
    {
     "name": "stdout",
     "output_type": "stream",
     "text": [
      "\n",
      "Epoch 39:\n",
      "  Train Loss: 0.6638 | Train Acc: 0.7033\n",
      "  Val   Loss: 0.5027 | Val   Acc: 0.7702\n",
      "Saved new best model to best_mri_model.pth\n"
     ]
    },
    {
     "name": "stderr",
     "output_type": "stream",
     "text": [
      "                                                                            \r"
     ]
    },
    {
     "name": "stdout",
     "output_type": "stream",
     "text": [
      "\n",
      "Epoch 40:\n",
      "  Train Loss: 0.6605 | Train Acc: 0.7066\n",
      "  Val   Loss: 0.4493 | Val   Acc: 0.8062\n",
      "Saved new best model to best_mri_model.pth\n"
     ]
    },
    {
     "name": "stderr",
     "output_type": "stream",
     "text": [
      "                                                                            \r"
     ]
    },
    {
     "name": "stdout",
     "output_type": "stream",
     "text": [
      "\n",
      "Epoch 41:\n",
      "  Train Loss: 0.6503 | Train Acc: 0.7122\n",
      "  Val   Loss: 0.4563 | Val   Acc: 0.8062\n",
      "Saved new best model to best_mri_model.pth\n"
     ]
    },
    {
     "name": "stderr",
     "output_type": "stream",
     "text": [
      "                                                                            \r"
     ]
    },
    {
     "name": "stdout",
     "output_type": "stream",
     "text": [
      "\n",
      "Epoch 42:\n",
      "  Train Loss: 0.6238 | Train Acc: 0.7224\n",
      "  Val   Loss: 0.4414 | Val   Acc: 0.8096\n",
      "Saved new best model to best_mri_model.pth\n"
     ]
    },
    {
     "name": "stderr",
     "output_type": "stream",
     "text": [
      "                                                                            \r"
     ]
    },
    {
     "name": "stdout",
     "output_type": "stream",
     "text": [
      "\n",
      "Epoch 43:\n",
      "  Train Loss: 0.6409 | Train Acc: 0.7160\n",
      "  Val   Loss: 0.4540 | Val   Acc: 0.8147\n",
      "Saved new best model to best_mri_model.pth\n"
     ]
    },
    {
     "name": "stderr",
     "output_type": "stream",
     "text": [
      "                                                                            \r"
     ]
    },
    {
     "name": "stdout",
     "output_type": "stream",
     "text": [
      "\n",
      "Epoch 44:\n",
      "  Train Loss: 0.6364 | Train Acc: 0.7219\n",
      "  Val   Loss: 0.4310 | Val   Acc: 0.8176\n",
      "Saved new best model to best_mri_model.pth\n"
     ]
    },
    {
     "name": "stderr",
     "output_type": "stream",
     "text": [
      "                                                                            \r"
     ]
    },
    {
     "name": "stdout",
     "output_type": "stream",
     "text": [
      "\n",
      "Epoch 45:\n",
      "  Train Loss: 0.6409 | Train Acc: 0.7211\n",
      "  Val   Loss: 0.4264 | Val   Acc: 0.8432\n",
      "Saved new best model to best_mri_model.pth\n"
     ]
    },
    {
     "name": "stderr",
     "output_type": "stream",
     "text": [
      "                                                                            \r"
     ]
    },
    {
     "name": "stdout",
     "output_type": "stream",
     "text": [
      "\n",
      "Epoch 46:\n",
      "  Train Loss: 0.6150 | Train Acc: 0.7254\n",
      "  Val   Loss: 0.4232 | Val   Acc: 0.8455\n",
      "Saved new best model to best_mri_model.pth\n"
     ]
    },
    {
     "name": "stderr",
     "output_type": "stream",
     "text": [
      "                                                                            \r"
     ]
    },
    {
     "name": "stdout",
     "output_type": "stream",
     "text": [
      "\n",
      "Epoch 47:\n",
      "  Train Loss: 0.6296 | Train Acc: 0.7270\n",
      "  Val   Loss: 0.4494 | Val   Acc: 0.7885\n",
      "Saved new best model to best_mri_model.pth\n"
     ]
    },
    {
     "name": "stderr",
     "output_type": "stream",
     "text": [
      "                                                                            \r"
     ]
    },
    {
     "name": "stdout",
     "output_type": "stream",
     "text": [
      "\n",
      "Epoch 48:\n",
      "  Train Loss: 0.5993 | Train Acc: 0.7314\n",
      "  Val   Loss: 0.4077 | Val   Acc: 0.8301\n",
      "Saved new best model to best_mri_model.pth\n"
     ]
    },
    {
     "name": "stderr",
     "output_type": "stream",
     "text": [
      "                                                                            \r"
     ]
    },
    {
     "name": "stdout",
     "output_type": "stream",
     "text": [
      "\n",
      "Epoch 49:\n",
      "  Train Loss: 0.6167 | Train Acc: 0.7282\n",
      "  Val   Loss: 0.3770 | Val   Acc: 0.8529\n",
      "Saved new best model to best_mri_model.pth\n"
     ]
    },
    {
     "name": "stderr",
     "output_type": "stream",
     "text": [
      "                                                                            \r"
     ]
    },
    {
     "name": "stdout",
     "output_type": "stream",
     "text": [
      "\n",
      "Epoch 50:\n",
      "  Train Loss: 0.6203 | Train Acc: 0.7235\n",
      "  Val   Loss: 0.4054 | Val   Acc: 0.8398\n",
      "Saved new best model to best_mri_model.pth\n"
     ]
    },
    {
     "data": {
      "image/png": "[encoded data removed]",
      "text/plain": [
       "<Figure size 1200x500 with 2 Axes>"
      ]
     },
     "metadata": {},
     "output_type": "display_data"
    },
    {
     "name": "stdout",
     "output_type": "stream",
     "text": [
      "\n",
      " Test Loss: 0.4163 | Test Accuracy: 0.8305\n"
     ]
    }
   ],
   "source": [
    "device = torch.device(\"cuda\" if torch.cuda.is_available() else \"cpu\")\n",
    "train_dataset = MRIDataset(\"image_data/train_images\", \"image_data/train.csv\", transform=transform)\n",
    "valid_dataset = MRIDataset(\"image_data/valid_images\", \"image_data/valid.csv\", transform=transform)\n",
    "test_dataset = MRIDataset(\"image_data/test_images\", \"image_data/test.csv\", transform=transform)\n",
    "\n",
    "\n",
    "train_loader = DataLoader(train_dataset, batch_size=16, shuffle=True)\n",
    "valid_loader = DataLoader(valid_dataset, batch_size=16, shuffle=False)\n",
    "test_loader = DataLoader(test_dataset, batch_size=16, shuffle=True)\n",
    "\n",
    "# edit according to best config and modify epochs \n",
    "model = MRICNN(num_classes=4).to(device)\n",
    "criterion = nn.CrossEntropyLoss()\n",
    "optimizer = optim.AdamW(model.parameters(), lr=0.0005, weight_decay=0.01)\n",
    "scheduler = optim.lr_scheduler.StepLR(optimizer, step_size=2, gamma=0.5)\n",
    "\n",
    "\n",
    "train_model(model, train_loader, valid_loader, criterion, optimizer, num_epochs=50, patience=0)\n",
    "evaluate_on_test(model, test_loader, criterion, model_path=\"best_mri_model.pth\")   # Evaluate on test\n"
   ]
  },
  {
   "cell_type": "code",
   "execution_count": 612,
   "metadata": {},
   "outputs": [
    {
     "name": "stderr",
     "output_type": "stream",
     "text": [
      "                                                                           \r"
     ]
    },
    {
     "name": "stdout",
     "output_type": "stream",
     "text": [
      "\n",
      "Epoch 1:\n",
      "  Train Loss: 2.0100 | Train Acc: 0.4919\n",
      "  Val   Loss: 1.0286 | Val   Acc: 0.5182\n",
      "Saved new best model to best_mri_model.pth\n"
     ]
    },
    {
     "name": "stderr",
     "output_type": "stream",
     "text": [
      "                                                                           \r"
     ]
    },
    {
     "name": "stdout",
     "output_type": "stream",
     "text": [
      "\n",
      "Epoch 2:\n",
      "  Train Loss: 1.1197 | Train Acc: 0.4930\n",
      "  Val   Loss: 0.9353 | Val   Acc: 0.5701\n",
      "Saved new best model to best_mri_model.pth\n"
     ]
    },
    {
     "name": "stderr",
     "output_type": "stream",
     "text": [
      "                                                                           \r"
     ]
    },
    {
     "name": "stdout",
     "output_type": "stream",
     "text": [
      "\n",
      "Epoch 3:\n",
      "  Train Loss: 1.0624 | Train Acc: 0.5221\n",
      "  Val   Loss: 0.9325 | Val   Acc: 0.5946\n",
      "Saved new best model to best_mri_model.pth\n"
     ]
    },
    {
     "name": "stderr",
     "output_type": "stream",
     "text": [
      "                                                                           \r"
     ]
    },
    {
     "name": "stdout",
     "output_type": "stream",
     "text": [
      "\n",
      "Epoch 4:\n",
      "  Train Loss: 1.0455 | Train Acc: 0.5299\n",
      "  Val   Loss: 0.8872 | Val   Acc: 0.6203\n",
      "Saved new best model to best_mri_model.pth\n"
     ]
    },
    {
     "name": "stderr",
     "output_type": "stream",
     "text": [
      "                                                                           \r"
     ]
    },
    {
     "name": "stdout",
     "output_type": "stream",
     "text": [
      "\n",
      "Epoch 5:\n",
      "  Train Loss: 1.0578 | Train Acc: 0.5160\n",
      "  Val   Loss: 0.8834 | Val   Acc: 0.6135\n",
      "Saved new best model to best_mri_model.pth\n"
     ]
    },
    {
     "name": "stderr",
     "output_type": "stream",
     "text": [
      "                                                                           \r"
     ]
    },
    {
     "name": "stdout",
     "output_type": "stream",
     "text": [
      "\n",
      "Epoch 6:\n",
      "  Train Loss: 1.0354 | Train Acc: 0.5406\n",
      "  Val   Loss: 0.8635 | Val   Acc: 0.6152\n",
      "Saved new best model to best_mri_model.pth\n"
     ]
    },
    {
     "name": "stderr",
     "output_type": "stream",
     "text": [
      "                                                                           \r"
     ]
    },
    {
     "name": "stdout",
     "output_type": "stream",
     "text": [
      "\n",
      "Epoch 7:\n",
      "  Train Loss: 1.0283 | Train Acc: 0.5379\n",
      "  Val   Loss: 0.8838 | Val   Acc: 0.6129\n",
      "Saved new best model to best_mri_model.pth\n"
     ]
    },
    {
     "name": "stderr",
     "output_type": "stream",
     "text": [
      "                                                                           \r"
     ]
    },
    {
     "name": "stdout",
     "output_type": "stream",
     "text": [
      "\n",
      "Epoch 8:\n",
      "  Train Loss: 1.0153 | Train Acc: 0.5409\n",
      "  Val   Loss: 0.7962 | Val   Acc: 0.6397\n",
      "Saved new best model to best_mri_model.pth\n"
     ]
    },
    {
     "name": "stderr",
     "output_type": "stream",
     "text": [
      "                                                                           \r"
     ]
    },
    {
     "name": "stdout",
     "output_type": "stream",
     "text": [
      "\n",
      "Epoch 9:\n",
      "  Train Loss: 0.9757 | Train Acc: 0.5611\n",
      "  Val   Loss: 0.7687 | Val   Acc: 0.6505\n",
      "Saved new best model to best_mri_model.pth\n"
     ]
    },
    {
     "name": "stderr",
     "output_type": "stream",
     "text": [
      "                                                                            \r"
     ]
    },
    {
     "name": "stdout",
     "output_type": "stream",
     "text": [
      "\n",
      "Epoch 10:\n",
      "  Train Loss: 0.9480 | Train Acc: 0.5791\n",
      "  Val   Loss: 0.8128 | Val   Acc: 0.6585\n",
      "Saved new best model to best_mri_model.pth\n"
     ]
    },
    {
     "name": "stderr",
     "output_type": "stream",
     "text": [
      "                                                                            \r"
     ]
    },
    {
     "name": "stdout",
     "output_type": "stream",
     "text": [
      "\n",
      "Epoch 11:\n",
      "  Train Loss: 0.9299 | Train Acc: 0.5866\n",
      "  Val   Loss: 0.7875 | Val   Acc: 0.6117\n",
      "Saved new best model to best_mri_model.pth\n"
     ]
    },
    {
     "name": "stderr",
     "output_type": "stream",
     "text": [
      "                                                                            \r"
     ]
    },
    {
     "name": "stdout",
     "output_type": "stream",
     "text": [
      "\n",
      "Epoch 12:\n",
      "  Train Loss: 0.9276 | Train Acc: 0.5850\n",
      "  Val   Loss: 0.7616 | Val   Acc: 0.6499\n",
      "Saved new best model to best_mri_model.pth\n"
     ]
    },
    {
     "name": "stderr",
     "output_type": "stream",
     "text": [
      "                                                                            \r"
     ]
    },
    {
     "name": "stdout",
     "output_type": "stream",
     "text": [
      "\n",
      "Epoch 13:\n",
      "  Train Loss: 0.9160 | Train Acc: 0.5891\n",
      "  Val   Loss: 0.7481 | Val   Acc: 0.6534\n",
      "Saved new best model to best_mri_model.pth\n"
     ]
    },
    {
     "name": "stderr",
     "output_type": "stream",
     "text": [
      "                                                                            \r"
     ]
    },
    {
     "name": "stdout",
     "output_type": "stream",
     "text": [
      "\n",
      "Epoch 14:\n",
      "  Train Loss: 0.9003 | Train Acc: 0.5995\n",
      "  Val   Loss: 0.7708 | Val   Acc: 0.6517\n",
      "Saved new best model to best_mri_model.pth\n"
     ]
    },
    {
     "name": "stderr",
     "output_type": "stream",
     "text": [
      "                                                                            \r"
     ]
    },
    {
     "name": "stdout",
     "output_type": "stream",
     "text": [
      "\n",
      "Epoch 15:\n",
      "  Train Loss: 0.8808 | Train Acc: 0.6057\n",
      "  Val   Loss: 0.7483 | Val   Acc: 0.6784\n",
      "Saved new best model to best_mri_model.pth\n"
     ]
    },
    {
     "name": "stderr",
     "output_type": "stream",
     "text": [
      "                                                                            \r"
     ]
    },
    {
     "name": "stdout",
     "output_type": "stream",
     "text": [
      "\n",
      "Epoch 16:\n",
      "  Train Loss: 0.8801 | Train Acc: 0.6070\n",
      "  Val   Loss: 0.7074 | Val   Acc: 0.6705\n",
      "Saved new best model to best_mri_model.pth\n"
     ]
    },
    {
     "name": "stderr",
     "output_type": "stream",
     "text": [
      "                                                                            \r"
     ]
    },
    {
     "name": "stdout",
     "output_type": "stream",
     "text": [
      "\n",
      "Epoch 17:\n",
      "  Train Loss: 0.8684 | Train Acc: 0.6085\n",
      "  Val   Loss: 0.6748 | Val   Acc: 0.6819\n",
      "Saved new best model to best_mri_model.pth\n"
     ]
    },
    {
     "name": "stderr",
     "output_type": "stream",
     "text": [
      "                                                                            \r"
     ]
    },
    {
     "name": "stdout",
     "output_type": "stream",
     "text": [
      "\n",
      "Epoch 18:\n",
      "  Train Loss: 0.8483 | Train Acc: 0.6172\n",
      "  Val   Loss: 0.7263 | Val   Acc: 0.6739\n",
      "Saved new best model to best_mri_model.pth\n"
     ]
    },
    {
     "name": "stderr",
     "output_type": "stream",
     "text": [
      "                                                                            \r"
     ]
    },
    {
     "name": "stdout",
     "output_type": "stream",
     "text": [
      "\n",
      "Epoch 19:\n",
      "  Train Loss: 0.8389 | Train Acc: 0.6273\n",
      "  Val   Loss: 0.7093 | Val   Acc: 0.6830\n",
      "Saved new best model to best_mri_model.pth\n"
     ]
    },
    {
     "name": "stderr",
     "output_type": "stream",
     "text": [
      "                                                                            \r"
     ]
    },
    {
     "name": "stdout",
     "output_type": "stream",
     "text": [
      "\n",
      "Epoch 20:\n",
      "  Train Loss: 0.8382 | Train Acc: 0.6210\n",
      "  Val   Loss: 0.6747 | Val   Acc: 0.6938\n",
      "Saved new best model to best_mri_model.pth\n"
     ]
    },
    {
     "name": "stderr",
     "output_type": "stream",
     "text": [
      "                                                                            \r"
     ]
    },
    {
     "name": "stdout",
     "output_type": "stream",
     "text": [
      "\n",
      "Epoch 21:\n",
      "  Train Loss: 0.8346 | Train Acc: 0.6261\n",
      "  Val   Loss: 0.6704 | Val   Acc: 0.6893\n",
      "Saved new best model to best_mri_model.pth\n"
     ]
    },
    {
     "name": "stderr",
     "output_type": "stream",
     "text": [
      "                                                                            \r"
     ]
    },
    {
     "name": "stdout",
     "output_type": "stream",
     "text": [
      "\n",
      "Epoch 22:\n",
      "  Train Loss: 0.8106 | Train Acc: 0.6353\n",
      "  Val   Loss: 0.6738 | Val   Acc: 0.6984\n",
      "Saved new best model to best_mri_model.pth\n"
     ]
    },
    {
     "name": "stderr",
     "output_type": "stream",
     "text": [
      "                                                                            \r"
     ]
    },
    {
     "name": "stdout",
     "output_type": "stream",
     "text": [
      "\n",
      "Epoch 23:\n",
      "  Train Loss: 0.7983 | Train Acc: 0.6414\n",
      "  Val   Loss: 0.6233 | Val   Acc: 0.6927\n",
      "Saved new best model to best_mri_model.pth\n"
     ]
    },
    {
     "name": "stderr",
     "output_type": "stream",
     "text": [
      "                                                                            \r"
     ]
    },
    {
     "name": "stdout",
     "output_type": "stream",
     "text": [
      "\n",
      "Epoch 24:\n",
      "  Train Loss: 0.7823 | Train Acc: 0.6528\n",
      "  Val   Loss: 0.6559 | Val   Acc: 0.7013\n",
      "Saved new best model to best_mri_model.pth\n"
     ]
    },
    {
     "name": "stderr",
     "output_type": "stream",
     "text": [
      "                                                                            \r"
     ]
    },
    {
     "name": "stdout",
     "output_type": "stream",
     "text": [
      "\n",
      "Epoch 25:\n",
      "  Train Loss: 0.7721 | Train Acc: 0.6592\n",
      "  Val   Loss: 0.6343 | Val   Acc: 0.7132\n",
      "Saved new best model to best_mri_model.pth\n"
     ]
    },
    {
     "name": "stderr",
     "output_type": "stream",
     "text": [
      "                                                                            \r"
     ]
    },
    {
     "name": "stdout",
     "output_type": "stream",
     "text": [
      "\n",
      "Epoch 26:\n",
      "  Train Loss: 0.7637 | Train Acc: 0.6569\n",
      "  Val   Loss: 0.6404 | Val   Acc: 0.6790\n",
      "Saved new best model to best_mri_model.pth\n"
     ]
    },
    {
     "name": "stderr",
     "output_type": "stream",
     "text": [
      "                                                                            \r"
     ]
    },
    {
     "name": "stdout",
     "output_type": "stream",
     "text": [
      "\n",
      "Epoch 27:\n",
      "  Train Loss: 0.7377 | Train Acc: 0.6615\n",
      "  Val   Loss: 0.5778 | Val   Acc: 0.7172\n",
      "Saved new best model to best_mri_model.pth\n"
     ]
    },
    {
     "name": "stderr",
     "output_type": "stream",
     "text": [
      "                                                                            \r"
     ]
    },
    {
     "name": "stdout",
     "output_type": "stream",
     "text": [
      "\n",
      "Epoch 28:\n",
      "  Train Loss: 0.7200 | Train Acc: 0.6696\n",
      "  Val   Loss: 0.5268 | Val   Acc: 0.7514\n",
      "Saved new best model to best_mri_model.pth\n"
     ]
    },
    {
     "name": "stderr",
     "output_type": "stream",
     "text": [
      "                                                                            \r"
     ]
    },
    {
     "name": "stdout",
     "output_type": "stream",
     "text": [
      "\n",
      "Epoch 29:\n",
      "  Train Loss: 0.7061 | Train Acc: 0.6903\n",
      "  Val   Loss: 0.5065 | Val   Acc: 0.7828\n",
      "Saved new best model to best_mri_model.pth\n"
     ]
    },
    {
     "name": "stderr",
     "output_type": "stream",
     "text": [
      "                                                                            \r"
     ]
    },
    {
     "name": "stdout",
     "output_type": "stream",
     "text": [
      "\n",
      "Epoch 30:\n",
      "  Train Loss: 0.6839 | Train Acc: 0.7002\n",
      "  Val   Loss: 0.5384 | Val   Acc: 0.7982\n",
      "Saved new best model to best_mri_model.pth\n"
     ]
    },
    {
     "name": "stderr",
     "output_type": "stream",
     "text": [
      "                                                                            \r"
     ]
    },
    {
     "name": "stdout",
     "output_type": "stream",
     "text": [
      "\n",
      "Epoch 31:\n",
      "  Train Loss: 0.6571 | Train Acc: 0.7168\n",
      "  Val   Loss: 0.5558 | Val   Acc: 0.7691\n",
      "Saved new best model to best_mri_model.pth\n"
     ]
    },
    {
     "name": "stderr",
     "output_type": "stream",
     "text": [
      "                                                                            \r"
     ]
    },
    {
     "name": "stdout",
     "output_type": "stream",
     "text": [
      "\n",
      "Epoch 32:\n",
      "  Train Loss: 0.6422 | Train Acc: 0.7180\n",
      "  Val   Loss: 0.5077 | Val   Acc: 0.7959\n",
      "Saved new best model to best_mri_model.pth\n"
     ]
    },
    {
     "name": "stderr",
     "output_type": "stream",
     "text": [
      "                                                                            \r"
     ]
    },
    {
     "name": "stdout",
     "output_type": "stream",
     "text": [
      "\n",
      "Epoch 33:\n",
      "  Train Loss: 0.6317 | Train Acc: 0.7199\n",
      "  Val   Loss: 0.4722 | Val   Acc: 0.8119\n",
      "Saved new best model to best_mri_model.pth\n"
     ]
    },
    {
     "name": "stderr",
     "output_type": "stream",
     "text": [
      "                                                                            \r"
     ]
    },
    {
     "name": "stdout",
     "output_type": "stream",
     "text": [
      "\n",
      "Epoch 34:\n",
      "  Train Loss: 0.6051 | Train Acc: 0.7300\n",
      "  Val   Loss: 0.5002 | Val   Acc: 0.7948\n",
      "Saved new best model to best_mri_model.pth\n"
     ]
    },
    {
     "name": "stderr",
     "output_type": "stream",
     "text": [
      "                                                                            \r"
     ]
    },
    {
     "name": "stdout",
     "output_type": "stream",
     "text": [
      "\n",
      "Epoch 35:\n",
      "  Train Loss: 0.5827 | Train Acc: 0.7440\n",
      "  Val   Loss: 0.4763 | Val   Acc: 0.7896\n",
      "Saved new best model to best_mri_model.pth\n"
     ]
    },
    {
     "name": "stderr",
     "output_type": "stream",
     "text": [
      "                                                                            \r"
     ]
    },
    {
     "name": "stdout",
     "output_type": "stream",
     "text": [
      "\n",
      "Epoch 36:\n",
      "  Train Loss: 0.5730 | Train Acc: 0.7599\n",
      "  Val   Loss: 0.4086 | Val   Acc: 0.8461\n",
      "Saved new best model to best_mri_model.pth\n"
     ]
    },
    {
     "name": "stderr",
     "output_type": "stream",
     "text": [
      "                                                                            \r"
     ]
    },
    {
     "name": "stdout",
     "output_type": "stream",
     "text": [
      "\n",
      "Epoch 37:\n",
      "  Train Loss: 0.5782 | Train Acc: 0.7538\n",
      "  Val   Loss: 0.3895 | Val   Acc: 0.8495\n",
      "Saved new best model to best_mri_model.pth\n"
     ]
    },
    {
     "name": "stderr",
     "output_type": "stream",
     "text": [
      "                                                                            \r"
     ]
    },
    {
     "name": "stdout",
     "output_type": "stream",
     "text": [
      "\n",
      "Epoch 38:\n",
      "  Train Loss: 0.5543 | Train Acc: 0.7593\n",
      "  Val   Loss: 0.4383 | Val   Acc: 0.8438\n",
      "Saved new best model to best_mri_model.pth\n"
     ]
    },
    {
     "name": "stderr",
     "output_type": "stream",
     "text": [
      "                                                                            \r"
     ]
    },
    {
     "name": "stdout",
     "output_type": "stream",
     "text": [
      "\n",
      "Epoch 39:\n",
      "  Train Loss: 0.5301 | Train Acc: 0.7721\n",
      "  Val   Loss: 0.3886 | Val   Acc: 0.8552\n",
      "Saved new best model to best_mri_model.pth\n"
     ]
    },
    {
     "name": "stderr",
     "output_type": "stream",
     "text": [
      "                                                                            \r"
     ]
    },
    {
     "name": "stdout",
     "output_type": "stream",
     "text": [
      "\n",
      "Epoch 40:\n",
      "  Train Loss: 0.5099 | Train Acc: 0.7853\n",
      "  Val   Loss: 0.3948 | Val   Acc: 0.8444\n",
      "Saved new best model to best_mri_model.pth\n"
     ]
    },
    {
     "name": "stderr",
     "output_type": "stream",
     "text": [
      "                                                                             \r"
     ]
    },
    {
     "name": "stdout",
     "output_type": "stream",
     "text": [
      "\n",
      "Epoch 41:\n",
      "  Train Loss: 0.4889 | Train Acc: 0.8007\n",
      "  Val   Loss: 0.3549 | Val   Acc: 0.8706\n",
      "Saved new best model to best_mri_model.pth\n"
     ]
    },
    {
     "name": "stderr",
     "output_type": "stream",
     "text": [
      "                                                                            \r"
     ]
    },
    {
     "name": "stdout",
     "output_type": "stream",
     "text": [
      "\n",
      "Epoch 42:\n",
      "  Train Loss: 0.4867 | Train Acc: 0.7961\n",
      "  Val   Loss: 0.3219 | Val   Acc: 0.8797\n",
      "Saved new best model to best_mri_model.pth\n"
     ]
    },
    {
     "name": "stderr",
     "output_type": "stream",
     "text": [
      "                                                                             \r"
     ]
    },
    {
     "name": "stdout",
     "output_type": "stream",
     "text": [
      "\n",
      "Epoch 43:\n",
      "  Train Loss: 0.4665 | Train Acc: 0.8050\n",
      "  Val   Loss: 0.3150 | Val   Acc: 0.8848\n",
      "Saved new best model to best_mri_model.pth\n"
     ]
    },
    {
     "name": "stderr",
     "output_type": "stream",
     "text": [
      "                                                                             \r"
     ]
    },
    {
     "name": "stdout",
     "output_type": "stream",
     "text": [
      "\n",
      "Epoch 44:\n",
      "  Train Loss: 0.4592 | Train Acc: 0.8103\n",
      "  Val   Loss: 0.3284 | Val   Acc: 0.8826\n",
      "Saved new best model to best_mri_model.pth\n"
     ]
    },
    {
     "name": "stderr",
     "output_type": "stream",
     "text": [
      "                                                                             \r"
     ]
    },
    {
     "name": "stdout",
     "output_type": "stream",
     "text": [
      "\n",
      "Epoch 45:\n",
      "  Train Loss: 0.4429 | Train Acc: 0.8169\n",
      "  Val   Loss: 0.2804 | Val   Acc: 0.8985\n",
      "Saved new best model to best_mri_model.pth\n"
     ]
    },
    {
     "name": "stderr",
     "output_type": "stream",
     "text": [
      "                                                                            \r"
     ]
    },
    {
     "name": "stdout",
     "output_type": "stream",
     "text": [
      "\n",
      "Epoch 46:\n",
      "  Train Loss: 0.4250 | Train Acc: 0.8294\n",
      "  Val   Loss: 0.2858 | Val   Acc: 0.8962\n",
      "Saved new best model to best_mri_model.pth\n"
     ]
    },
    {
     "name": "stderr",
     "output_type": "stream",
     "text": [
      "                                                                             \r"
     ]
    },
    {
     "name": "stdout",
     "output_type": "stream",
     "text": [
      "\n",
      "Epoch 47:\n",
      "  Train Loss: 0.4098 | Train Acc: 0.8384\n",
      "  Val   Loss: 0.3667 | Val   Acc: 0.8774\n",
      "Saved new best model to best_mri_model.pth\n"
     ]
    },
    {
     "name": "stderr",
     "output_type": "stream",
     "text": [
      "                                                                             \r"
     ]
    },
    {
     "name": "stdout",
     "output_type": "stream",
     "text": [
      "\n",
      "Epoch 48:\n",
      "  Train Loss: 0.3934 | Train Acc: 0.8466\n",
      "  Val   Loss: 0.2691 | Val   Acc: 0.9054\n",
      "Saved new best model to best_mri_model.pth\n"
     ]
    },
    {
     "name": "stderr",
     "output_type": "stream",
     "text": [
      "                                                                             \r"
     ]
    },
    {
     "name": "stdout",
     "output_type": "stream",
     "text": [
      "\n",
      "Epoch 49:\n",
      "  Train Loss: 0.3690 | Train Acc: 0.8539\n",
      "  Val   Loss: 0.2769 | Val   Acc: 0.9054\n",
      "Saved new best model to best_mri_model.pth\n"
     ]
    },
    {
     "name": "stderr",
     "output_type": "stream",
     "text": [
      "                                                                             \r"
     ]
    },
    {
     "name": "stdout",
     "output_type": "stream",
     "text": [
      "\n",
      "Epoch 50:\n",
      "  Train Loss: 0.3913 | Train Acc: 0.8456\n",
      "  Val   Loss: 0.2673 | Val   Acc: 0.9082\n",
      "Saved new best model to best_mri_model.pth\n"
     ]
    },
    {
     "data": {
      "image/png": "[encoded data removed]",
      "text/plain": [
       "<Figure size 1200x500 with 2 Axes>"
      ]
     },
     "metadata": {},
     "output_type": "display_data"
    },
    {
     "name": "stdout",
     "output_type": "stream",
     "text": [
      "\n",
      " Test Loss: 0.2974 | Test Accuracy: 0.8958\n"
     ]
    }
   ],
   "source": [
    "device = torch.device(\"cuda\" if torch.cuda.is_available() else \"cpu\")\n",
    "train_dataset = MRIDataset(\"image_data/train_images\", \"image_data/train.csv\", transform=transform)\n",
    "valid_dataset = MRIDataset(\"image_data/valid_images\", \"image_data/valid.csv\", transform=transform)\n",
    "test_dataset = MRIDataset(\"image_data/test_images\", \"image_data/test.csv\", transform=transform)\n",
    "\n",
    "\n",
    "train_loader = DataLoader(train_dataset, batch_size=16, shuffle=True)\n",
    "valid_loader = DataLoader(valid_dataset, batch_size=16, shuffle=False)\n",
    "test_loader = DataLoader(test_dataset, batch_size=16, shuffle=True)\n",
    "\n",
    "# edit according to best config and modify epochs \n",
    "model = MRICNN(num_classes=4).to(device)\n",
    "criterion = nn.CrossEntropyLoss()\n",
    "optimizer = optim.AdamW(model.parameters(), lr=0.001, weight_decay=1e-4)\n",
    "scheduler = optim.lr_scheduler.StepLR(optimizer, step_size=2, gamma=0.5)\n",
    "\n",
    "\n",
    "train_model(model, train_loader, valid_loader, criterion, optimizer, num_epochs=50, patience=0)\n",
    "evaluate_on_test(model, test_loader, criterion, model_path=\"best_mri_model.pth\")   # Evaluate on test\n"
   ]
  },
  {
   "cell_type": "code",
   "execution_count": 614,
   "metadata": {},
   "outputs": [
    {
     "name": "stderr",
     "output_type": "stream",
     "text": [
      "                                                                           \r"
     ]
    },
    {
     "name": "stdout",
     "output_type": "stream",
     "text": [
      "\n",
      "Epoch 1:\n",
      "  Train Loss: 1.1119 | Train Acc: 0.5529\n",
      "  Val   Loss: 0.8197 | Val   Acc: 0.6317\n",
      "Saved new best model to best_mri_model.pth\n"
     ]
    },
    {
     "name": "stderr",
     "output_type": "stream",
     "text": [
      "                                                                           \r"
     ]
    },
    {
     "name": "stdout",
     "output_type": "stream",
     "text": [
      "\n",
      "Epoch 2:\n",
      "  Train Loss: 0.8894 | Train Acc: 0.6135\n",
      "  Val   Loss: 0.7459 | Val   Acc: 0.6693\n",
      "Saved new best model to best_mri_model.pth\n"
     ]
    },
    {
     "name": "stderr",
     "output_type": "stream",
     "text": [
      "                                                                           \r"
     ]
    },
    {
     "name": "stdout",
     "output_type": "stream",
     "text": [
      "\n",
      "Epoch 3:\n",
      "  Train Loss: 0.8249 | Train Acc: 0.6475\n",
      "  Val   Loss: 0.7263 | Val   Acc: 0.6836\n",
      "Saved new best model to best_mri_model.pth\n"
     ]
    },
    {
     "name": "stderr",
     "output_type": "stream",
     "text": [
      "                                                                           \r"
     ]
    },
    {
     "name": "stdout",
     "output_type": "stream",
     "text": [
      "\n",
      "Epoch 4:\n",
      "  Train Loss: 0.7742 | Train Acc: 0.6620\n",
      "  Val   Loss: 0.6593 | Val   Acc: 0.7047\n",
      "Saved new best model to best_mri_model.pth\n"
     ]
    },
    {
     "name": "stderr",
     "output_type": "stream",
     "text": [
      "                                                                           \r"
     ]
    },
    {
     "name": "stdout",
     "output_type": "stream",
     "text": [
      "\n",
      "Epoch 5:\n",
      "  Train Loss: 0.7394 | Train Acc: 0.6814\n",
      "  Val   Loss: 0.6094 | Val   Acc: 0.7275\n",
      "Saved new best model to best_mri_model.pth\n"
     ]
    },
    {
     "name": "stderr",
     "output_type": "stream",
     "text": [
      "                                                                           \r"
     ]
    },
    {
     "name": "stdout",
     "output_type": "stream",
     "text": [
      "\n",
      "Epoch 6:\n",
      "  Train Loss: 0.7195 | Train Acc: 0.6896\n",
      "  Val   Loss: 0.6170 | Val   Acc: 0.7206\n",
      "Saved new best model to best_mri_model.pth\n"
     ]
    },
    {
     "name": "stderr",
     "output_type": "stream",
     "text": [
      "                                                                           \r"
     ]
    },
    {
     "name": "stdout",
     "output_type": "stream",
     "text": [
      "\n",
      "Epoch 7:\n",
      "  Train Loss: 0.6866 | Train Acc: 0.7017\n",
      "  Val   Loss: 0.5705 | Val   Acc: 0.7497\n",
      "Saved new best model to best_mri_model.pth\n"
     ]
    },
    {
     "name": "stderr",
     "output_type": "stream",
     "text": [
      "                                                                           \r"
     ]
    },
    {
     "name": "stdout",
     "output_type": "stream",
     "text": [
      "\n",
      "Epoch 8:\n",
      "  Train Loss: 0.6487 | Train Acc: 0.7188\n",
      "  Val   Loss: 0.5948 | Val   Acc: 0.7275\n",
      "Saved new best model to best_mri_model.pth\n"
     ]
    },
    {
     "name": "stderr",
     "output_type": "stream",
     "text": [
      "                                                                           \r"
     ]
    },
    {
     "name": "stdout",
     "output_type": "stream",
     "text": [
      "\n",
      "Epoch 9:\n",
      "  Train Loss: 0.6217 | Train Acc: 0.7316\n",
      "  Val   Loss: 0.5568 | Val   Acc: 0.7765\n",
      "Saved new best model to best_mri_model.pth\n"
     ]
    },
    {
     "name": "stderr",
     "output_type": "stream",
     "text": [
      "                                                                            \r"
     ]
    },
    {
     "name": "stdout",
     "output_type": "stream",
     "text": [
      "\n",
      "Epoch 10:\n",
      "  Train Loss: 0.6199 | Train Acc: 0.7278\n",
      "  Val   Loss: 0.5093 | Val   Acc: 0.7702\n",
      "Saved new best model to best_mri_model.pth\n"
     ]
    },
    {
     "name": "stderr",
     "output_type": "stream",
     "text": [
      "                                                                            \r"
     ]
    },
    {
     "name": "stdout",
     "output_type": "stream",
     "text": [
      "\n",
      "Epoch 11:\n",
      "  Train Loss: 0.6126 | Train Acc: 0.7370\n",
      "  Val   Loss: 0.4828 | Val   Acc: 0.7970\n",
      "Saved new best model to best_mri_model.pth\n"
     ]
    },
    {
     "name": "stderr",
     "output_type": "stream",
     "text": [
      "                                                                            \r"
     ]
    },
    {
     "name": "stdout",
     "output_type": "stream",
     "text": [
      "\n",
      "Epoch 12:\n",
      "  Train Loss: 0.5755 | Train Acc: 0.7540\n",
      "  Val   Loss: 0.4667 | Val   Acc: 0.8050\n",
      "Saved new best model to best_mri_model.pth\n"
     ]
    },
    {
     "name": "stderr",
     "output_type": "stream",
     "text": [
      "                                                                            \r"
     ]
    },
    {
     "name": "stdout",
     "output_type": "stream",
     "text": [
      "\n",
      "Epoch 13:\n",
      "  Train Loss: 0.5646 | Train Acc: 0.7571\n",
      "  Val   Loss: 0.5044 | Val   Acc: 0.7965\n",
      "Saved new best model to best_mri_model.pth\n"
     ]
    },
    {
     "name": "stderr",
     "output_type": "stream",
     "text": [
      "                                                                            \r"
     ]
    },
    {
     "name": "stdout",
     "output_type": "stream",
     "text": [
      "\n",
      "Epoch 14:\n",
      "  Train Loss: 0.5521 | Train Acc: 0.7657\n",
      "  Val   Loss: 0.4753 | Val   Acc: 0.8238\n",
      "Saved new best model to best_mri_model.pth\n"
     ]
    },
    {
     "name": "stderr",
     "output_type": "stream",
     "text": [
      "                                                                            \r"
     ]
    },
    {
     "name": "stdout",
     "output_type": "stream",
     "text": [
      "\n",
      "Epoch 15:\n",
      "  Train Loss: 0.5360 | Train Acc: 0.7731\n",
      "  Val   Loss: 0.4658 | Val   Acc: 0.8141\n",
      "Saved new best model to best_mri_model.pth\n"
     ]
    },
    {
     "name": "stderr",
     "output_type": "stream",
     "text": [
      "                                                                            \r"
     ]
    },
    {
     "name": "stdout",
     "output_type": "stream",
     "text": [
      "\n",
      "Epoch 16:\n",
      "  Train Loss: 0.5325 | Train Acc: 0.7782\n",
      "  Val   Loss: 0.4373 | Val   Acc: 0.8341\n",
      "Saved new best model to best_mri_model.pth\n"
     ]
    },
    {
     "name": "stderr",
     "output_type": "stream",
     "text": [
      "                                                                            \r"
     ]
    },
    {
     "name": "stdout",
     "output_type": "stream",
     "text": [
      "\n",
      "Epoch 17:\n",
      "  Train Loss: 0.5131 | Train Acc: 0.7892\n",
      "  Val   Loss: 0.5850 | Val   Acc: 0.8005\n",
      "Saved new best model to best_mri_model.pth\n"
     ]
    },
    {
     "name": "stderr",
     "output_type": "stream",
     "text": [
      "                                                                            \r"
     ]
    },
    {
     "name": "stdout",
     "output_type": "stream",
     "text": [
      "\n",
      "Epoch 18:\n",
      "  Train Loss: 0.4994 | Train Acc: 0.7999\n",
      "  Val   Loss: 0.4545 | Val   Acc: 0.8261\n",
      "Saved new best model to best_mri_model.pth\n"
     ]
    },
    {
     "name": "stderr",
     "output_type": "stream",
     "text": [
      "                                                                            \r"
     ]
    },
    {
     "name": "stdout",
     "output_type": "stream",
     "text": [
      "\n",
      "Epoch 19:\n",
      "  Train Loss: 0.4958 | Train Acc: 0.7910\n",
      "  Val   Loss: 0.3952 | Val   Acc: 0.8518\n",
      "Saved new best model to best_mri_model.pth\n"
     ]
    },
    {
     "name": "stderr",
     "output_type": "stream",
     "text": [
      "                                                                            \r"
     ]
    },
    {
     "name": "stdout",
     "output_type": "stream",
     "text": [
      "\n",
      "Epoch 20:\n",
      "  Train Loss: 0.4783 | Train Acc: 0.8039\n",
      "  Val   Loss: 0.4128 | Val   Acc: 0.8432\n",
      "Saved new best model to best_mri_model.pth\n"
     ]
    },
    {
     "name": "stderr",
     "output_type": "stream",
     "text": [
      "                                                                             \r"
     ]
    },
    {
     "name": "stdout",
     "output_type": "stream",
     "text": [
      "\n",
      "Epoch 21:\n",
      "  Train Loss: 0.4719 | Train Acc: 0.8030\n",
      "  Val   Loss: 0.4993 | Val   Acc: 0.7982\n",
      "Saved new best model to best_mri_model.pth\n"
     ]
    },
    {
     "name": "stderr",
     "output_type": "stream",
     "text": [
      "                                                                             \r"
     ]
    },
    {
     "name": "stdout",
     "output_type": "stream",
     "text": [
      "\n",
      "Epoch 22:\n",
      "  Train Loss: 0.4715 | Train Acc: 0.8071\n",
      "  Val   Loss: 0.3680 | Val   Acc: 0.8518\n",
      "Saved new best model to best_mri_model.pth\n"
     ]
    },
    {
     "name": "stderr",
     "output_type": "stream",
     "text": [
      "                                                                             \r"
     ]
    },
    {
     "name": "stdout",
     "output_type": "stream",
     "text": [
      "\n",
      "Epoch 23:\n",
      "  Train Loss: 0.4695 | Train Acc: 0.8052\n",
      "  Val   Loss: 0.3710 | Val   Acc: 0.8655\n",
      "Saved new best model to best_mri_model.pth\n"
     ]
    },
    {
     "name": "stderr",
     "output_type": "stream",
     "text": [
      "                                                                             \r"
     ]
    },
    {
     "name": "stdout",
     "output_type": "stream",
     "text": [
      "\n",
      "Epoch 24:\n",
      "  Train Loss: 0.4453 | Train Acc: 0.8149\n",
      "  Val   Loss: 0.3491 | Val   Acc: 0.8643\n",
      "Saved new best model to best_mri_model.pth\n"
     ]
    },
    {
     "name": "stderr",
     "output_type": "stream",
     "text": [
      "                                                                            \r"
     ]
    },
    {
     "name": "stdout",
     "output_type": "stream",
     "text": [
      "\n",
      "Epoch 25:\n",
      "  Train Loss: 0.4416 | Train Acc: 0.8160\n",
      "  Val   Loss: 0.3404 | Val   Acc: 0.8729\n",
      "Saved new best model to best_mri_model.pth\n"
     ]
    },
    {
     "name": "stderr",
     "output_type": "stream",
     "text": [
      "                                                                            \r"
     ]
    },
    {
     "name": "stdout",
     "output_type": "stream",
     "text": [
      "\n",
      "Epoch 26:\n",
      "  Train Loss: 0.4422 | Train Acc: 0.8145\n",
      "  Val   Loss: 0.3799 | Val   Acc: 0.8540\n",
      "Saved new best model to best_mri_model.pth\n"
     ]
    },
    {
     "name": "stderr",
     "output_type": "stream",
     "text": [
      "                                                                             \r"
     ]
    },
    {
     "name": "stdout",
     "output_type": "stream",
     "text": [
      "\n",
      "Epoch 27:\n",
      "  Train Loss: 0.4318 | Train Acc: 0.8216\n",
      "  Val   Loss: 0.3896 | Val   Acc: 0.8523\n",
      "Saved new best model to best_mri_model.pth\n"
     ]
    },
    {
     "name": "stderr",
     "output_type": "stream",
     "text": [
      "                                                                             \r"
     ]
    },
    {
     "name": "stdout",
     "output_type": "stream",
     "text": [
      "\n",
      "Epoch 28:\n",
      "  Train Loss: 0.4282 | Train Acc: 0.8243\n",
      "  Val   Loss: 0.3430 | Val   Acc: 0.8649\n",
      "Saved new best model to best_mri_model.pth\n"
     ]
    },
    {
     "name": "stderr",
     "output_type": "stream",
     "text": [
      "                                                                            \r"
     ]
    },
    {
     "name": "stdout",
     "output_type": "stream",
     "text": [
      "\n",
      "Epoch 29:\n",
      "  Train Loss: 0.4324 | Train Acc: 0.8231\n",
      "  Val   Loss: 0.3665 | Val   Acc: 0.8563\n",
      "Saved new best model to best_mri_model.pth\n"
     ]
    },
    {
     "name": "stderr",
     "output_type": "stream",
     "text": [
      "                                                                             \r"
     ]
    },
    {
     "name": "stdout",
     "output_type": "stream",
     "text": [
      "\n",
      "Epoch 30:\n",
      "  Train Loss: 0.4206 | Train Acc: 0.8244\n",
      "  Val   Loss: 0.3244 | Val   Acc: 0.8769\n",
      "Saved new best model to best_mri_model.pth\n"
     ]
    },
    {
     "name": "stderr",
     "output_type": "stream",
     "text": [
      "                                                                             \r"
     ]
    },
    {
     "name": "stdout",
     "output_type": "stream",
     "text": [
      "\n",
      "Epoch 31:\n",
      "  Train Loss: 0.4215 | Train Acc: 0.8331\n",
      "  Val   Loss: 0.3272 | Val   Acc: 0.8808\n",
      "Saved new best model to best_mri_model.pth\n"
     ]
    },
    {
     "name": "stderr",
     "output_type": "stream",
     "text": [
      "                                                                             \r"
     ]
    },
    {
     "name": "stdout",
     "output_type": "stream",
     "text": [
      "\n",
      "Epoch 32:\n",
      "  Train Loss: 0.4008 | Train Acc: 0.8396\n",
      "  Val   Loss: 0.3176 | Val   Acc: 0.8780\n",
      "Saved new best model to best_mri_model.pth\n"
     ]
    },
    {
     "name": "stderr",
     "output_type": "stream",
     "text": [
      "                                                                             \r"
     ]
    },
    {
     "name": "stdout",
     "output_type": "stream",
     "text": [
      "\n",
      "Epoch 33:\n",
      "  Train Loss: 0.4020 | Train Acc: 0.8386\n",
      "  Val   Loss: 0.3230 | Val   Acc: 0.8786\n",
      "Saved new best model to best_mri_model.pth\n"
     ]
    },
    {
     "name": "stderr",
     "output_type": "stream",
     "text": [
      "                                                                             \r"
     ]
    },
    {
     "name": "stdout",
     "output_type": "stream",
     "text": [
      "\n",
      "Epoch 34:\n",
      "  Train Loss: 0.4006 | Train Acc: 0.8377\n",
      "  Val   Loss: 0.3209 | Val   Acc: 0.8763\n",
      "Saved new best model to best_mri_model.pth\n"
     ]
    },
    {
     "name": "stderr",
     "output_type": "stream",
     "text": [
      "                                                                            \r"
     ]
    },
    {
     "name": "stdout",
     "output_type": "stream",
     "text": [
      "\n",
      "Epoch 35:\n",
      "  Train Loss: 0.4054 | Train Acc: 0.8351\n",
      "  Val   Loss: 0.3033 | Val   Acc: 0.8831\n",
      "Saved new best model to best_mri_model.pth\n"
     ]
    },
    {
     "name": "stderr",
     "output_type": "stream",
     "text": [
      "                                                                             \r"
     ]
    },
    {
     "name": "stdout",
     "output_type": "stream",
     "text": [
      "\n",
      "Epoch 36:\n",
      "  Train Loss: 0.4045 | Train Acc: 0.8350\n",
      "  Val   Loss: 0.3130 | Val   Acc: 0.8746\n",
      "Saved new best model to best_mri_model.pth\n"
     ]
    },
    {
     "name": "stderr",
     "output_type": "stream",
     "text": [
      "                                                                             \r"
     ]
    },
    {
     "name": "stdout",
     "output_type": "stream",
     "text": [
      "\n",
      "Epoch 37:\n",
      "  Train Loss: 0.3840 | Train Acc: 0.8481\n",
      "  Val   Loss: 0.3144 | Val   Acc: 0.8865\n",
      "Saved new best model to best_mri_model.pth\n"
     ]
    },
    {
     "name": "stderr",
     "output_type": "stream",
     "text": [
      "                                                                             \r"
     ]
    },
    {
     "name": "stdout",
     "output_type": "stream",
     "text": [
      "\n",
      "Epoch 38:\n",
      "  Train Loss: 0.3870 | Train Acc: 0.8476\n",
      "  Val   Loss: 0.2912 | Val   Acc: 0.8905\n",
      "Saved new best model to best_mri_model.pth\n"
     ]
    },
    {
     "name": "stderr",
     "output_type": "stream",
     "text": [
      "                                                                             \r"
     ]
    },
    {
     "name": "stdout",
     "output_type": "stream",
     "text": [
      "\n",
      "Epoch 39:\n",
      "  Train Loss: 0.3836 | Train Acc: 0.8460\n",
      "  Val   Loss: 0.3266 | Val   Acc: 0.8700\n",
      "Saved new best model to best_mri_model.pth\n"
     ]
    },
    {
     "name": "stderr",
     "output_type": "stream",
     "text": [
      "                                                                             \r"
     ]
    },
    {
     "name": "stdout",
     "output_type": "stream",
     "text": [
      "\n",
      "Epoch 40:\n",
      "  Train Loss: 0.3669 | Train Acc: 0.8514\n",
      "  Val   Loss: 0.3126 | Val   Acc: 0.8763\n",
      "Saved new best model to best_mri_model.pth\n"
     ]
    },
    {
     "name": "stderr",
     "output_type": "stream",
     "text": [
      "                                                                             \r"
     ]
    },
    {
     "name": "stdout",
     "output_type": "stream",
     "text": [
      "\n",
      "Epoch 41:\n",
      "  Train Loss: 0.3731 | Train Acc: 0.8442\n",
      "  Val   Loss: 0.2941 | Val   Acc: 0.8905\n",
      "Saved new best model to best_mri_model.pth\n"
     ]
    },
    {
     "name": "stderr",
     "output_type": "stream",
     "text": [
      "                                                                             \r"
     ]
    },
    {
     "name": "stdout",
     "output_type": "stream",
     "text": [
      "\n",
      "Epoch 42:\n",
      "  Train Loss: 0.3728 | Train Acc: 0.8496\n",
      "  Val   Loss: 0.3055 | Val   Acc: 0.8888\n",
      "Saved new best model to best_mri_model.pth\n"
     ]
    },
    {
     "name": "stderr",
     "output_type": "stream",
     "text": [
      "                                                                             \r"
     ]
    },
    {
     "name": "stdout",
     "output_type": "stream",
     "text": [
      "\n",
      "Epoch 43:\n",
      "  Train Loss: 0.3721 | Train Acc: 0.8540\n",
      "  Val   Loss: 0.2921 | Val   Acc: 0.8911\n",
      "Saved new best model to best_mri_model.pth\n"
     ]
    },
    {
     "name": "stderr",
     "output_type": "stream",
     "text": [
      "                                                                             \r"
     ]
    },
    {
     "name": "stdout",
     "output_type": "stream",
     "text": [
      "\n",
      "Epoch 44:\n",
      "  Train Loss: 0.3625 | Train Acc: 0.8488\n",
      "  Val   Loss: 0.3031 | Val   Acc: 0.8774\n",
      "Saved new best model to best_mri_model.pth\n"
     ]
    },
    {
     "name": "stderr",
     "output_type": "stream",
     "text": [
      "                                                                             \r"
     ]
    },
    {
     "name": "stdout",
     "output_type": "stream",
     "text": [
      "\n",
      "Epoch 45:\n",
      "  Train Loss: 0.3512 | Train Acc: 0.8585\n",
      "  Val   Loss: 0.2628 | Val   Acc: 0.9048\n",
      "Saved new best model to best_mri_model.pth\n"
     ]
    },
    {
     "name": "stderr",
     "output_type": "stream",
     "text": [
      "                                                                             \r"
     ]
    },
    {
     "name": "stdout",
     "output_type": "stream",
     "text": [
      "\n",
      "Epoch 46:\n",
      "  Train Loss: 0.3657 | Train Acc: 0.8450\n",
      "  Val   Loss: 0.2857 | Val   Acc: 0.8894\n",
      "Saved new best model to best_mri_model.pth\n"
     ]
    },
    {
     "name": "stderr",
     "output_type": "stream",
     "text": [
      "                                                                             \r"
     ]
    },
    {
     "name": "stdout",
     "output_type": "stream",
     "text": [
      "\n",
      "Epoch 47:\n",
      "  Train Loss: 0.3562 | Train Acc: 0.8578\n",
      "  Val   Loss: 0.4140 | Val   Acc: 0.8369\n",
      "Saved new best model to best_mri_model.pth\n"
     ]
    },
    {
     "name": "stderr",
     "output_type": "stream",
     "text": [
      "                                                                             \r"
     ]
    },
    {
     "name": "stdout",
     "output_type": "stream",
     "text": [
      "\n",
      "Epoch 48:\n",
      "  Train Loss: 0.3510 | Train Acc: 0.8598\n",
      "  Val   Loss: 0.2683 | Val   Acc: 0.9008\n",
      "Saved new best model to best_mri_model.pth\n"
     ]
    },
    {
     "name": "stderr",
     "output_type": "stream",
     "text": [
      "                                                                             \r"
     ]
    },
    {
     "name": "stdout",
     "output_type": "stream",
     "text": [
      "\n",
      "Epoch 49:\n",
      "  Train Loss: 0.3430 | Train Acc: 0.8590\n",
      "  Val   Loss: 0.2909 | Val   Acc: 0.8865\n",
      "Saved new best model to best_mri_model.pth\n"
     ]
    },
    {
     "name": "stderr",
     "output_type": "stream",
     "text": [
      "                                                                             \r"
     ]
    },
    {
     "name": "stdout",
     "output_type": "stream",
     "text": [
      "\n",
      "Epoch 50:\n",
      "  Train Loss: 0.3464 | Train Acc: 0.8633\n",
      "  Val   Loss: 0.2650 | Val   Acc: 0.8883\n",
      "Saved new best model to best_mri_model.pth\n"
     ]
    },
    {
     "data": {
      "image/png": "[encoded data removed]",
      "text/plain": [
       "<Figure size 1200x500 with 2 Axes>"
      ]
     },
     "metadata": {},
     "output_type": "display_data"
    },
    {
     "name": "stdout",
     "output_type": "stream",
     "text": [
      "\n",
      " Test Loss: 0.2896 | Test Accuracy: 0.8981\n"
     ]
    }
   ],
   "source": [
    "device = torch.device(\"cuda\" if torch.cuda.is_available() else \"cpu\")\n",
    "train_dataset = MRIDataset(\"image_data/train_images\", \"image_data/train.csv\", transform=transform)\n",
    "valid_dataset = MRIDataset(\"image_data/valid_images\", \"image_data/valid.csv\", transform=transform)\n",
    "test_dataset = MRIDataset(\"image_data/test_images\", \"image_data/test.csv\", transform=transform)\n",
    "\n",
    "\n",
    "train_loader = DataLoader(train_dataset, batch_size=16, shuffle=True)\n",
    "valid_loader = DataLoader(valid_dataset, batch_size=16, shuffle=False)\n",
    "test_loader = DataLoader(test_dataset, batch_size=16, shuffle=True)\n",
    "\n",
    "# edit according to best config and modify epochs \n",
    "model = MRICNN(num_classes=4).to(device)\n",
    "criterion = nn.CrossEntropyLoss()\n",
    "optimizer = optim.AdamW(model.parameters(), lr=0.0001, weight_decay=1e-4)\n",
    "scheduler = optim.lr_scheduler.StepLR(optimizer, step_size=2, gamma=0.5)\n",
    "\n",
    "\n",
    "train_model(model, train_loader, valid_loader, criterion, optimizer, num_epochs=50, patience=3)\n",
    "evaluate_on_test(model, test_loader, criterion, model_path=\"best_mri_model.pth\")   # Evaluate on test\n"
   ]
  },
  {
   "cell_type": "code",
   "execution_count": 615,
   "metadata": {},
   "outputs": [
    {
     "name": "stderr",
     "output_type": "stream",
     "text": [
      "                                                                           \r"
     ]
    },
    {
     "name": "stdout",
     "output_type": "stream",
     "text": [
      "\n",
      "Epoch 1:\n",
      "  Train Loss: 0.8994 | Train Acc: 0.6352\n",
      "  Val   Loss: 0.5927 | Val   Acc: 0.7520\n",
      "Saved new best model to best_mri_model.pth\n"
     ]
    },
    {
     "name": "stderr",
     "output_type": "stream",
     "text": [
      "                                                                              \r"
     ]
    },
    {
     "name": "stdout",
     "output_type": "stream",
     "text": [
      "\n",
      "Epoch 2:\n",
      "  Train Loss: 0.5960 | Train Acc: 0.7495\n",
      "  Val   Loss: 0.4784 | Val   Acc: 0.8136\n",
      "Saved new best model to best_mri_model.pth\n"
     ]
    },
    {
     "name": "stderr",
     "output_type": "stream",
     "text": [
      "                                                                           \r"
     ]
    },
    {
     "name": "stdout",
     "output_type": "stream",
     "text": [
      "\n",
      "Epoch 3:\n",
      "  Train Loss: 0.4656 | Train Acc: 0.8119\n",
      "  Val   Loss: 0.3927 | Val   Acc: 0.8375\n",
      "Saved new best model to best_mri_model.pth\n"
     ]
    },
    {
     "name": "stderr",
     "output_type": "stream",
     "text": [
      "                                                                            \r"
     ]
    },
    {
     "name": "stdout",
     "output_type": "stream",
     "text": [
      "\n",
      "Epoch 4:\n",
      "  Train Loss: 0.3900 | Train Acc: 0.8427\n",
      "  Val   Loss: 0.2989 | Val   Acc: 0.8803\n",
      "Saved new best model to best_mri_model.pth\n"
     ]
    },
    {
     "name": "stderr",
     "output_type": "stream",
     "text": [
      "                                                                            \r"
     ]
    },
    {
     "name": "stdout",
     "output_type": "stream",
     "text": [
      "\n",
      "Epoch 5:\n",
      "  Train Loss: 0.3016 | Train Acc: 0.8870\n",
      "  Val   Loss: 0.2541 | Val   Acc: 0.9105\n",
      "Saved new best model to best_mri_model.pth\n"
     ]
    },
    {
     "name": "stderr",
     "output_type": "stream",
     "text": [
      "                                                                                 \r"
     ]
    },
    {
     "name": "stdout",
     "output_type": "stream",
     "text": [
      "\n",
      "Epoch 6:\n",
      "  Train Loss: 0.2632 | Train Acc: 0.8983\n",
      "  Val   Loss: 0.2219 | Val   Acc: 0.9270\n",
      "Saved new best model to best_mri_model.pth\n"
     ]
    },
    {
     "name": "stderr",
     "output_type": "stream",
     "text": [
      "                                                                                 \r"
     ]
    },
    {
     "name": "stdout",
     "output_type": "stream",
     "text": [
      "\n",
      "Epoch 7:\n",
      "  Train Loss: 0.2344 | Train Acc: 0.9077\n",
      "  Val   Loss: 0.2718 | Val   Acc: 0.8985\n",
      "Saved new best model to best_mri_model.pth\n"
     ]
    },
    {
     "name": "stderr",
     "output_type": "stream",
     "text": [
      "                                                                            \r"
     ]
    },
    {
     "name": "stdout",
     "output_type": "stream",
     "text": [
      "\n",
      "Epoch 8:\n",
      "  Train Loss: 0.2082 | Train Acc: 0.9230\n",
      "  Val   Loss: 0.1944 | Val   Acc: 0.9322\n",
      "Saved new best model to best_mri_model.pth\n"
     ]
    },
    {
     "name": "stderr",
     "output_type": "stream",
     "text": [
      "                                                                            \r"
     ]
    },
    {
     "name": "stdout",
     "output_type": "stream",
     "text": [
      "\n",
      "Epoch 9:\n",
      "  Train Loss: 0.1687 | Train Acc: 0.9337\n",
      "  Val   Loss: 0.2022 | Val   Acc: 0.9356\n",
      "Saved new best model to best_mri_model.pth\n"
     ]
    },
    {
     "name": "stderr",
     "output_type": "stream",
     "text": [
      "                                                                              \r"
     ]
    },
    {
     "name": "stdout",
     "output_type": "stream",
     "text": [
      "\n",
      "Epoch 10:\n",
      "  Train Loss: 0.1647 | Train Acc: 0.9327\n",
      "  Val   Loss: 0.2092 | Val   Acc: 0.9270\n",
      "Saved new best model to best_mri_model.pth\n"
     ]
    },
    {
     "name": "stderr",
     "output_type": "stream",
     "text": [
      "                                                                                  \r"
     ]
    },
    {
     "name": "stdout",
     "output_type": "stream",
     "text": [
      "\n",
      "Epoch 11:\n",
      "  Train Loss: 0.1352 | Train Acc: 0.9500\n",
      "  Val   Loss: 0.1646 | Val   Acc: 0.9493\n",
      "Saved new best model to best_mri_model.pth\n"
     ]
    },
    {
     "name": "stderr",
     "output_type": "stream",
     "text": [
      "                                                                              \r"
     ]
    },
    {
     "name": "stdout",
     "output_type": "stream",
     "text": [
      "\n",
      "Epoch 12:\n",
      "  Train Loss: 0.1163 | Train Acc: 0.9538\n",
      "  Val   Loss: 0.2443 | Val   Acc: 0.9230\n",
      "Saved new best model to best_mri_model.pth\n"
     ]
    },
    {
     "name": "stderr",
     "output_type": "stream",
     "text": [
      "                                                                              \r"
     ]
    },
    {
     "name": "stdout",
     "output_type": "stream",
     "text": [
      "\n",
      "Epoch 13:\n",
      "  Train Loss: 0.1277 | Train Acc: 0.9524\n",
      "  Val   Loss: 0.1575 | Val   Acc: 0.9561\n",
      "Saved new best model to best_mri_model.pth\n"
     ]
    },
    {
     "name": "stderr",
     "output_type": "stream",
     "text": [
      "                                                                              \r"
     ]
    },
    {
     "name": "stdout",
     "output_type": "stream",
     "text": [
      "\n",
      "Epoch 14:\n",
      "  Train Loss: 0.1130 | Train Acc: 0.9569\n",
      "  Val   Loss: 0.1288 | Val   Acc: 0.9647\n",
      "Saved new best model to best_mri_model.pth\n"
     ]
    },
    {
     "name": "stderr",
     "output_type": "stream",
     "text": [
      "                                                                               \r"
     ]
    },
    {
     "name": "stdout",
     "output_type": "stream",
     "text": [
      "\n",
      "Epoch 15:\n",
      "  Train Loss: 0.1093 | Train Acc: 0.9580\n",
      "  Val   Loss: 0.1533 | Val   Acc: 0.9510\n",
      "Saved new best model to best_mri_model.pth\n"
     ]
    },
    {
     "name": "stderr",
     "output_type": "stream",
     "text": [
      "                                                                                \r"
     ]
    },
    {
     "name": "stdout",
     "output_type": "stream",
     "text": [
      "\n",
      "Epoch 16:\n",
      "  Train Loss: 0.0930 | Train Acc: 0.9626\n",
      "  Val   Loss: 0.1530 | Val   Acc: 0.9641\n",
      "Saved new best model to best_mri_model.pth\n"
     ]
    },
    {
     "name": "stderr",
     "output_type": "stream",
     "text": [
      "                                                                              \r"
     ]
    },
    {
     "name": "stdout",
     "output_type": "stream",
     "text": [
      "\n",
      "Epoch 17:\n",
      "  Train Loss: 0.0919 | Train Acc: 0.9649\n",
      "  Val   Loss: 0.1708 | Val   Acc: 0.9624\n",
      "Saved new best model to best_mri_model.pth\n"
     ]
    },
    {
     "name": "stderr",
     "output_type": "stream",
     "text": [
      "                                                                               \r"
     ]
    },
    {
     "name": "stdout",
     "output_type": "stream",
     "text": [
      "\n",
      "Epoch 18:\n",
      "  Train Loss: 0.0824 | Train Acc: 0.9661\n",
      "  Val   Loss: 0.1517 | Val   Acc: 0.9635\n",
      "Saved new best model to best_mri_model.pth\n"
     ]
    },
    {
     "name": "stderr",
     "output_type": "stream",
     "text": [
      "                                                                               \r"
     ]
    },
    {
     "name": "stdout",
     "output_type": "stream",
     "text": [
      "\n",
      "Epoch 19:\n",
      "  Train Loss: 0.0703 | Train Acc: 0.9715\n",
      "  Val   Loss: 0.1480 | Val   Acc: 0.9641\n",
      "Saved new best model to best_mri_model.pth\n"
     ]
    },
    {
     "name": "stderr",
     "output_type": "stream",
     "text": [
      "                                                                                  \r"
     ]
    },
    {
     "name": "stdout",
     "output_type": "stream",
     "text": [
      "\n",
      "Epoch 20:\n",
      "  Train Loss: 0.0715 | Train Acc: 0.9704\n",
      "  Val   Loss: 0.1459 | Val   Acc: 0.9647\n",
      "Saved new best model to best_mri_model.pth\n"
     ]
    },
    {
     "name": "stderr",
     "output_type": "stream",
     "text": [
      "                                                                               \r"
     ]
    },
    {
     "name": "stdout",
     "output_type": "stream",
     "text": [
      "\n",
      "Epoch 21:\n",
      "  Train Loss: 0.0813 | Train Acc: 0.9702\n",
      "  Val   Loss: 0.1716 | Val   Acc: 0.9550\n",
      "Saved new best model to best_mri_model.pth\n"
     ]
    },
    {
     "name": "stderr",
     "output_type": "stream",
     "text": [
      "                                                                               \r"
     ]
    },
    {
     "name": "stdout",
     "output_type": "stream",
     "text": [
      "\n",
      "Epoch 22:\n",
      "  Train Loss: 0.0836 | Train Acc: 0.9674\n",
      "  Val   Loss: 0.1613 | Val   Acc: 0.9618\n",
      "Saved new best model to best_mri_model.pth\n"
     ]
    },
    {
     "name": "stderr",
     "output_type": "stream",
     "text": [
      "                                                                               \r"
     ]
    },
    {
     "name": "stdout",
     "output_type": "stream",
     "text": [
      "\n",
      "Epoch 23:\n",
      "  Train Loss: 0.0702 | Train Acc: 0.9724\n",
      "  Val   Loss: 0.1481 | Val   Acc: 0.9658\n",
      "Saved new best model to best_mri_model.pth\n"
     ]
    },
    {
     "name": "stderr",
     "output_type": "stream",
     "text": [
      "                                                                               \r"
     ]
    },
    {
     "name": "stdout",
     "output_type": "stream",
     "text": [
      "\n",
      "Epoch 24:\n",
      "  Train Loss: 0.0660 | Train Acc: 0.9738\n",
      "  Val   Loss: 0.1609 | Val   Acc: 0.9658\n",
      "Saved new best model to best_mri_model.pth\n"
     ]
    },
    {
     "name": "stderr",
     "output_type": "stream",
     "text": [
      "                                                                               \r"
     ]
    },
    {
     "name": "stdout",
     "output_type": "stream",
     "text": [
      "\n",
      "Epoch 25:\n",
      "  Train Loss: 0.0594 | Train Acc: 0.9768\n",
      "  Val   Loss: 0.1509 | Val   Acc: 0.9692\n",
      "Saved new best model to best_mri_model.pth\n"
     ]
    },
    {
     "name": "stderr",
     "output_type": "stream",
     "text": [
      "                                                                               \r"
     ]
    },
    {
     "name": "stdout",
     "output_type": "stream",
     "text": [
      "\n",
      "Epoch 26:\n",
      "  Train Loss: 0.0608 | Train Acc: 0.9779\n",
      "  Val   Loss: 0.1204 | Val   Acc: 0.9743\n",
      "Saved new best model to best_mri_model.pth\n"
     ]
    },
    {
     "name": "stderr",
     "output_type": "stream",
     "text": [
      "                                                                               \r"
     ]
    },
    {
     "name": "stdout",
     "output_type": "stream",
     "text": [
      "\n",
      "Epoch 27:\n",
      "  Train Loss: 0.0689 | Train Acc: 0.9728\n",
      "  Val   Loss: 0.1664 | Val   Acc: 0.9629\n",
      "Saved new best model to best_mri_model.pth\n"
     ]
    },
    {
     "name": "stderr",
     "output_type": "stream",
     "text": [
      "                                                                               \r"
     ]
    },
    {
     "name": "stdout",
     "output_type": "stream",
     "text": [
      "\n",
      "Epoch 28:\n",
      "  Train Loss: 0.0542 | Train Acc: 0.9794\n",
      "  Val   Loss: 0.1603 | Val   Acc: 0.9743\n",
      "Saved new best model to best_mri_model.pth\n"
     ]
    },
    {
     "name": "stderr",
     "output_type": "stream",
     "text": [
      "                                                                               \r"
     ]
    },
    {
     "name": "stdout",
     "output_type": "stream",
     "text": [
      "\n",
      "Epoch 29:\n",
      "  Train Loss: 0.0551 | Train Acc: 0.9788\n",
      "  Val   Loss: 0.1695 | Val   Acc: 0.9715\n",
      "Saved new best model to best_mri_model.pth\n"
     ]
    },
    {
     "name": "stderr",
     "output_type": "stream",
     "text": [
      "                                                                               \r"
     ]
    },
    {
     "name": "stdout",
     "output_type": "stream",
     "text": [
      "\n",
      "Epoch 30:\n",
      "  Train Loss: 0.0573 | Train Acc: 0.9756\n",
      "  Val   Loss: 0.1842 | Val   Acc: 0.9601\n",
      "Saved new best model to best_mri_model.pth\n"
     ]
    },
    {
     "name": "stderr",
     "output_type": "stream",
     "text": [
      "                                                                               \r"
     ]
    },
    {
     "name": "stdout",
     "output_type": "stream",
     "text": [
      "\n",
      "Epoch 31:\n",
      "  Train Loss: 0.0524 | Train Acc: 0.9779\n",
      "  Val   Loss: 0.1322 | Val   Acc: 0.9732\n",
      "Saved new best model to best_mri_model.pth\n"
     ]
    },
    {
     "name": "stderr",
     "output_type": "stream",
     "text": [
      "                                                                               \r"
     ]
    },
    {
     "name": "stdout",
     "output_type": "stream",
     "text": [
      "\n",
      "Epoch 32:\n",
      "  Train Loss: 0.0509 | Train Acc: 0.9786\n",
      "  Val   Loss: 0.1694 | Val   Acc: 0.9704\n",
      "Saved new best model to best_mri_model.pth\n"
     ]
    },
    {
     "name": "stderr",
     "output_type": "stream",
     "text": [
      "                                                                               \r"
     ]
    },
    {
     "name": "stdout",
     "output_type": "stream",
     "text": [
      "\n",
      "Epoch 33:\n",
      "  Train Loss: 0.0491 | Train Acc: 0.9796\n",
      "  Val   Loss: 0.1850 | Val   Acc: 0.9607\n",
      "Saved new best model to best_mri_model.pth\n"
     ]
    },
    {
     "name": "stderr",
     "output_type": "stream",
     "text": [
      "                                                                               \r"
     ]
    },
    {
     "name": "stdout",
     "output_type": "stream",
     "text": [
      "\n",
      "Epoch 34:\n",
      "  Train Loss: 0.0574 | Train Acc: 0.9778\n",
      "  Val   Loss: 0.1739 | Val   Acc: 0.9669\n",
      "Saved new best model to best_mri_model.pth\n"
     ]
    },
    {
     "name": "stderr",
     "output_type": "stream",
     "text": [
      "                                                                               \r"
     ]
    },
    {
     "name": "stdout",
     "output_type": "stream",
     "text": [
      "\n",
      "Epoch 35:\n",
      "  Train Loss: 0.0627 | Train Acc: 0.9758\n",
      "  Val   Loss: 0.1458 | Val   Acc: 0.9704\n",
      "Saved new best model to best_mri_model.pth\n"
     ]
    },
    {
     "name": "stderr",
     "output_type": "stream",
     "text": [
      "                                                                               \r"
     ]
    },
    {
     "name": "stdout",
     "output_type": "stream",
     "text": [
      "\n",
      "Epoch 36:\n",
      "  Train Loss: 0.0503 | Train Acc: 0.9786\n",
      "  Val   Loss: 0.1371 | Val   Acc: 0.9732\n",
      "Saved new best model to best_mri_model.pth\n"
     ]
    },
    {
     "name": "stderr",
     "output_type": "stream",
     "text": [
      "                                                                               \r"
     ]
    },
    {
     "name": "stdout",
     "output_type": "stream",
     "text": [
      "\n",
      "Epoch 37:\n",
      "  Train Loss: 0.0413 | Train Acc: 0.9835\n",
      "  Val   Loss: 0.1545 | Val   Acc: 0.9698\n",
      "Saved new best model to best_mri_model.pth\n"
     ]
    },
    {
     "name": "stderr",
     "output_type": "stream",
     "text": [
      "                                                                               \r"
     ]
    },
    {
     "name": "stdout",
     "output_type": "stream",
     "text": [
      "\n",
      "Epoch 38:\n",
      "  Train Loss: 0.0470 | Train Acc: 0.9801\n",
      "  Val   Loss: 0.1570 | Val   Acc: 0.9709\n",
      "Saved new best model to best_mri_model.pth\n"
     ]
    },
    {
     "name": "stderr",
     "output_type": "stream",
     "text": [
      "                                                                               \r"
     ]
    },
    {
     "name": "stdout",
     "output_type": "stream",
     "text": [
      "\n",
      "Epoch 39:\n",
      "  Train Loss: 0.0498 | Train Acc: 0.9784\n",
      "  Val   Loss: 0.1624 | Val   Acc: 0.9721\n",
      "Saved new best model to best_mri_model.pth\n"
     ]
    },
    {
     "name": "stderr",
     "output_type": "stream",
     "text": [
      "                                                                               \r"
     ]
    },
    {
     "name": "stdout",
     "output_type": "stream",
     "text": [
      "\n",
      "Epoch 40:\n",
      "  Train Loss: 0.0390 | Train Acc: 0.9827\n",
      "  Val   Loss: 0.1749 | Val   Acc: 0.9738\n",
      "Saved new best model to best_mri_model.pth\n"
     ]
    },
    {
     "name": "stderr",
     "output_type": "stream",
     "text": [
      "                                                                               \r"
     ]
    },
    {
     "name": "stdout",
     "output_type": "stream",
     "text": [
      "\n",
      "Epoch 41:\n",
      "  Train Loss: 0.0400 | Train Acc: 0.9834\n",
      "  Val   Loss: 0.1504 | Val   Acc: 0.9732\n",
      "Saved new best model to best_mri_model.pth\n"
     ]
    },
    {
     "name": "stderr",
     "output_type": "stream",
     "text": [
      "                                                                               \r"
     ]
    },
    {
     "name": "stdout",
     "output_type": "stream",
     "text": [
      "\n",
      "Epoch 42:\n",
      "  Train Loss: 0.0385 | Train Acc: 0.9832\n",
      "  Val   Loss: 0.2041 | Val   Acc: 0.9726\n",
      "Saved new best model to best_mri_model.pth\n"
     ]
    },
    {
     "name": "stderr",
     "output_type": "stream",
     "text": [
      "                                                                               \r"
     ]
    },
    {
     "name": "stdout",
     "output_type": "stream",
     "text": [
      "\n",
      "Epoch 43:\n",
      "  Train Loss: 0.0423 | Train Acc: 0.9839\n",
      "  Val   Loss: 0.1771 | Val   Acc: 0.9681\n",
      "Saved new best model to best_mri_model.pth\n"
     ]
    },
    {
     "name": "stderr",
     "output_type": "stream",
     "text": [
      "                                                                               \r"
     ]
    },
    {
     "name": "stdout",
     "output_type": "stream",
     "text": [
      "\n",
      "Epoch 44:\n",
      "  Train Loss: 0.0459 | Train Acc: 0.9799\n",
      "  Val   Loss: 0.1534 | Val   Acc: 0.9726\n",
      "Saved new best model to best_mri_model.pth\n"
     ]
    },
    {
     "name": "stderr",
     "output_type": "stream",
     "text": [
      "                                                                               \r"
     ]
    },
    {
     "name": "stdout",
     "output_type": "stream",
     "text": [
      "\n",
      "Epoch 45:\n",
      "  Train Loss: 0.0400 | Train Acc: 0.9826\n",
      "  Val   Loss: 0.1702 | Val   Acc: 0.9715\n",
      "Saved new best model to best_mri_model.pth\n"
     ]
    },
    {
     "name": "stderr",
     "output_type": "stream",
     "text": [
      "                                                                               \r"
     ]
    },
    {
     "name": "stdout",
     "output_type": "stream",
     "text": [
      "\n",
      "Epoch 46:\n",
      "  Train Loss: 0.0368 | Train Acc: 0.9852\n",
      "  Val   Loss: 0.2136 | Val   Acc: 0.9675\n",
      "Saved new best model to best_mri_model.pth\n"
     ]
    },
    {
     "name": "stderr",
     "output_type": "stream",
     "text": [
      "                                                                               \r"
     ]
    },
    {
     "name": "stdout",
     "output_type": "stream",
     "text": [
      "\n",
      "Epoch 47:\n",
      "  Train Loss: 0.0386 | Train Acc: 0.9842\n",
      "  Val   Loss: 0.1551 | Val   Acc: 0.9761\n",
      "Saved new best model to best_mri_model.pth\n"
     ]
    },
    {
     "name": "stderr",
     "output_type": "stream",
     "text": [
      "                                                                               \r"
     ]
    },
    {
     "name": "stdout",
     "output_type": "stream",
     "text": [
      "\n",
      "Epoch 48:\n",
      "  Train Loss: 0.0304 | Train Acc: 0.9870\n",
      "  Val   Loss: 0.1892 | Val   Acc: 0.9761\n",
      "Saved new best model to best_mri_model.pth\n"
     ]
    },
    {
     "name": "stderr",
     "output_type": "stream",
     "text": [
      "                                                                               \r"
     ]
    },
    {
     "name": "stdout",
     "output_type": "stream",
     "text": [
      "\n",
      "Epoch 49:\n",
      "  Train Loss: 0.0478 | Train Acc: 0.9804\n",
      "  Val   Loss: 0.2421 | Val   Acc: 0.9664\n",
      "Saved new best model to best_mri_model.pth\n"
     ]
    },
    {
     "name": "stderr",
     "output_type": "stream",
     "text": [
      "                                                                               \r"
     ]
    },
    {
     "name": "stdout",
     "output_type": "stream",
     "text": [
      "\n",
      "Epoch 50:\n",
      "  Train Loss: 0.0327 | Train Acc: 0.9870\n",
      "  Val   Loss: 0.2055 | Val   Acc: 0.9732\n",
      "Saved new best model to best_mri_model.pth\n"
     ]
    },
    {
     "data": {
      "image/png": "[encoded data removed]",
      "text/plain": [
       "<Figure size 1200x500 with 2 Axes>"
      ]
     },
     "metadata": {},
     "output_type": "display_data"
    },
    {
     "name": "stdout",
     "output_type": "stream",
     "text": [
      "\n",
      " Test Loss: 0.2059 | Test Accuracy: 0.9748\n"
     ]
    }
   ],
   "source": [
    "device = torch.device(\"cuda\" if torch.cuda.is_available() else \"cpu\")\n",
    "train_dataset = MRIDataset(\"image_data/train_images\", \"image_data/train.csv\", transform=None)\n",
    "valid_dataset = MRIDataset(\"image_data/valid_images\", \"image_data/valid.csv\", transform=None)\n",
    "test_dataset = MRIDataset(\"image_data/test_images\", \"image_data/test.csv\", transform=None)\n",
    "\n",
    "\n",
    "train_loader = DataLoader(train_dataset, batch_size=16, shuffle=True)\n",
    "valid_loader = DataLoader(valid_dataset, batch_size=16, shuffle=False)\n",
    "test_loader = DataLoader(test_dataset, batch_size=16, shuffle=True)\n",
    "\n",
    "model = MRICNN(num_classes=4).to(device)\n",
    "criterion = nn.CrossEntropyLoss()\n",
    "optimizer = optim.AdamW(model.parameters(), lr=0.0001, weight_decay=1e-4)\n",
    "scheduler = optim.lr_scheduler.StepLR(optimizer, step_size=2, gamma=0.5)\n",
    "\n",
    "\n",
    "train_model(model, train_loader, valid_loader, criterion, optimizer, num_epochs=50, patience=3)\n",
    "evaluate_on_test(model, test_loader, criterion, model_path=\"best_mri_model.pth\")   # Evaluate on test\n"
   ]
  },
  {
   "cell_type": "code",
   "execution_count": 627,
   "metadata": {},
   "outputs": [],
   "source": [
    "import cv2\n",
    "import torch\n",
    "\n",
    "def cv2_preprocess(image_path):\n",
    "    \"\"\"\n",
    "    Reads a single‐channel image from disk and applies exactly\n",
    "    the same resize→blur→normalize→scale pipeline you use in MRIDataset.\n",
    "    Returns a torch.FloatTensor of shape [1,1,128,128].\n",
    "    \"\"\"\n",
    "    # 1) load grayscale\n",
    "    img = cv2.imread(image_path, cv2.IMREAD_GRAYSCALE)\n",
    "    if img is None:\n",
    "        raise FileNotFoundError(f\"Could not read {image_path}\")\n",
    "\n",
    "    # 2) resize to 128×128\n",
    "    img = cv2.resize(img, (128,128))\n",
    "\n",
    "    # 3) median blur\n",
    "    img = cv2.medianBlur(img, 3)\n",
    "\n",
    "    # 4) normalize pixel values into [50,200]\n",
    "    img = cv2.normalize(img, None, 50, 200, cv2.NORM_MINMAX)\n",
    "\n",
    "    # 5) scale into [0,1]\n",
    "    img = img.astype(\"float32\") / 255.0\n",
    "\n",
    "    # 6) to tensor [1,1,H,W]\n",
    "    tensor = torch.from_numpy(img).unsqueeze(0).unsqueeze(0)\n",
    "    return tensor  # dtype=torch.float32\n",
    "\n",
    "def predict_single_image(image_path, model, device):\n",
    "    model.eval()\n",
    "    x = cv2_preprocess(image_path).to(device)\n",
    "    with torch.no_grad():\n",
    "        logits = model(x)\n",
    "        idx    = logits.argmax(dim=1).item()\n",
    "    return reversed_map[idx]\n",
    "\n",
    "def predict_and_save(model_path, image_dir, output_txt=\"predictions.txt\"):\n",
    "    device = torch.device(\"cuda\" if torch.cuda.is_available() else \"cpu\")\n",
    "    model  = MRICNN(num_classes=4).to(device)\n",
    "    model.load_state_dict(torch.load(model_path, map_location=device))\n",
    "\n",
    "    valid_exts = {\".jpg\",\".jpeg\",\".png\",\".bmp\",\".tif\",\".tiff\"}\n",
    "    lines = []\n",
    "\n",
    "    for fn in sorted(os.listdir(image_dir)):\n",
    "        if os.path.splitext(fn)[1].lower() not in valid_exts:\n",
    "            continue\n",
    "        path = os.path.join(image_dir, fn)\n",
    "        label = predict_single_image(path, model, device)\n",
    "        lines.append(f\"{fn}\\t{label}\")\n",
    "        print(f\"{fn} → {label}\")\n",
    "\n",
    "    with open(output_txt, \"w\") as f:\n",
    "        f.write(\"\\n\".join(lines))\n",
    "    print(f\"\\nWrote {len(lines)} predictions to {output_txt}\")\n"
   ]
  },
  {
   "cell_type": "code",
   "execution_count": 628,
   "metadata": {},
   "outputs": [
    {
     "name": "stdout",
     "output_type": "stream",
     "text": [
      "gl_0016_jpg.rf.99746694ea97fe0b73108832b462d48e.jpg → Glioma\n",
      "gl_0018_jpg.rf.7a670766b8083a1b516a49e241a636bc.jpg → Glioma\n",
      "gl_0028_jpg.rf.8098b9737048aac0dccb1b7c45046894.jpg → Glioma\n",
      "gl_0032_jpg.rf.e1e485b4f909d84c8e24cd26e0ad3c08.jpg → Glioma\n",
      "gl_0035_jpg.rf.7a7c96ab2e6245cf42a0c86b97f81b3e.jpg → Glioma\n",
      "gl_0037_jpg.rf.6ac80086817a5d840d3b634956299e40.jpg → Glioma\n",
      "gl_0040_jpg.rf.4e8e95e2b510b798b62954aa8d3e1847.jpg → Pituitary\n",
      "gl_0042_jpg.rf.c825249fca17c0579976c6455ed0f64d.jpg → Glioma\n",
      "gl_0075_jpg.rf.687ed8298bed6c85cb35c9c8f3ecbe2d.jpg → Glioma\n",
      "gl_0081_jpg.rf.cd6ff4a250465f60361ab931fe2cd91f.jpg → Glioma\n",
      "gl_0084_jpg.rf.a44aa8130cb9e42053acb60cbc60cb1e.jpg → Glioma\n",
      "gl_0086_jpg.rf.59bef0b3cef3bf10bfa5f3c2ae2c656e.jpg → Glioma\n",
      "gl_0093_jpg.rf.b5c9b66e96a5e1c0e472eaacac7ab14f.jpg → Glioma\n",
      "gl_0094_jpg.rf.1c0f0e197cfcf7728469ebc07bc6db14.jpg → Glioma\n",
      "gl_0099_jpg.rf.049ca340ff9cdd5a1ccd2b6cc48cc4fc.jpg → Meningioma\n",
      "gl_0101_jpg.rf.11f5cfff6b549f258a54d8c0c8fb3921.jpg → Glioma\n",
      "gl_0107_jpg.rf.99d300a7dac557a867ea2f33c1117108.jpg → Glioma\n",
      "gl_0121_jpg.rf.ede899bd8c81b842d216c978f578f7ae.jpg → Glioma\n",
      "gl_0124_jpg.rf.0eb7ae873c4589929956c7efc456869f.jpg → Glioma\n",
      "gl_0125_jpg.rf.a7fd02abaf318c872a8389a60bdfe12d.jpg → Glioma\n",
      "gl_0125_jpg.rf.daca61777bb4b2edeadac4f710ff2cff.jpg → Glioma\n",
      "gl_0126_jpg.rf.5a2014aa6255264e35325d1fafe13547.jpg → Glioma\n",
      "gl_0129_jpg.rf.b7e1bee7f70e8dbd91dcfb6ab7efc569.jpg → Glioma\n",
      "gl_0136_jpg.rf.4dec754b071df3e424e8ec2b7f81b8a5.jpg → Glioma\n",
      "gl_0145_jpg.rf.d3c502513655260a6addaf252fcec4b7.jpg → Glioma\n",
      "gl_0154_jpg.rf.4b3cd239f7611bdc94efd7faa55472cc.jpg → Glioma\n",
      "gl_0155_jpg.rf.d2a05fc53bfef0dcdf6cf2753fbfd287.jpg → Glioma\n",
      "gl_0158_jpg.rf.8c881bfeb23a0f287a4791b478bd3c0d.jpg → Glioma\n",
      "gl_0162_jpg.rf.8cbfb2507a5d66707d4cb67dacb4f0fe.jpg → Glioma\n",
      "gl_0163_jpg.rf.744856a107adc6196834a58021e16ca4.jpg → Glioma\n",
      "gl_0167_jpg.rf.95df992778067333dc088c8b8b728844.jpg → Glioma\n",
      "gl_0170_jpg.rf.2abe6a775aa6100208d31f1240e7127f.jpg → Glioma\n",
      "gl_0194_jpg.rf.2811d08c4753624b25d37e84f88dca92.jpg → Glioma\n",
      "gl_0205_jpg.rf.6a7d256ce9dc7645bc4767a4d8a570cc.jpg → Glioma\n",
      "gl_0208_jpg.rf.429e77dbb6ecf654d7df6e6bd8f2686a.jpg → Glioma\n",
      "gl_0208_jpg.rf.b73ed342b09fdd752ae87a3032c5ac32.jpg → Glioma\n",
      "gl_0216_jpg.rf.d2d74ab32cc19fed35821600fdbc305c.jpg → Glioma\n",
      "gl_0220_jpg.rf.86e6e095e1991eab8a6f1edf69fdc19d.jpg → Glioma\n",
      "gl_0224_jpg.rf.e72224d5291fc40fdf80ec90bcdf8555.jpg → Glioma\n",
      "gl_0226_jpg.rf.c82c827defa234bac8b7f134d1b980c3.jpg → Glioma\n",
      "gl_0238_jpg.rf.5ab3d156d6c0aaaf0abaee493d2f08f3.jpg → Glioma\n",
      "gl_0259_jpg.rf.c965a53e75bc7826919175cbcb1b448e.jpg → Glioma\n",
      "gl_0277_jpg.rf.1fc9f0b20b9a7a81fecd80c7a4990956.jpg → Glioma\n",
      "gl_0278_jpg.rf.2d2e5b394b899b5ee8e82a5d1487ddf0.jpg → Glioma\n",
      "gl_0301_jpg.rf.9e87b3d71315a64cc5b1d1562a430008.jpg → Glioma\n",
      "gl_0311_jpg.rf.505922913c93b1642361ba1506a5a229.jpg → Glioma\n",
      "gl_0314_jpg.rf.711486e6fc7048994a3b11ff86678f65.jpg → Glioma\n",
      "gl_0324_jpg.rf.76171d1d19c4bcaae70c10d28eee29e3.jpg → Glioma\n",
      "gl_0352_jpg.rf.ac4d1f13299b0464043fbc1f3ddb4628.jpg → Glioma\n",
      "gl_0355_jpg.rf.bba0320a1d658f38df1a0c046e1beecc.jpg → Glioma\n",
      "gl_0356_jpg.rf.085eb6362f544fa8cebb0c1a60fd750b.jpg → Glioma\n",
      "gl_0367_jpg.rf.6b18c8bb3bf2ce4d7a8bea418788f954.jpg → Glioma\n",
      "gl_0369_jpg.rf.05a79e2e0107ee8135ed6bc1cc4bd901.jpg → Glioma\n",
      "gl_0373_jpg.rf.6c247edc28cc7e6b345310327b3b15d2.jpg → Glioma\n",
      "gl_0381_jpg.rf.9389dcdc94c61b058b96aff07e6fecbb.jpg → Glioma\n",
      "gl_0386_jpg.rf.1323d579421a7a8b821ce882e2a0fdb1.jpg → Glioma\n",
      "gl_0386_jpg.rf.209ccb93011c037389109a32d2f7e6b2.jpg → Glioma\n",
      "gl_0400_jpg.rf.333b6def3021f57a2faebc5b0a5445a7.jpg → Glioma\n",
      "gl_0402_jpg.rf.5d48291cd294085664b6982e52853a54.jpg → Glioma\n",
      "gl_0407_jpg.rf.fa29802afcce0d1f55cc23e10c5a51f6.jpg → Glioma\n",
      "gl_0417_jpg.rf.5b07d6e9a8546e45afebaf7bc2bda478.jpg → Glioma\n",
      "gl_0427_jpg.rf.3e1435627fd05b75c73ecbba2a6b5ce2.jpg → Glioma\n",
      "gl_0440_jpg.rf.75211fdf388f179d6777e6e13e21b85a.jpg → Glioma\n",
      "gl_0449_jpg.rf.4fc20b9cd7c1d954621184c432f4b1c1.jpg → Glioma\n",
      "gl_0450_jpg.rf.6f5fdffaede01c3b1d195b18bee7729e.jpg → Glioma\n",
      "gl_0453_jpg.rf.ba60a5514d36db41411f4279f21f4bdd.jpg → Glioma\n",
      "gl_0461_jpg.rf.6e7f4f0ae16113a654362837cf191105.jpg → Glioma\n",
      "gl_0466_jpg.rf.5d94c0be6e42eb7b605239eff07747e3.jpg → Glioma\n",
      "gl_0470_jpg.rf.ba9585d16d33457f3fcc6deaca05aa11.jpg → Glioma\n",
      "gl_0477_jpg.rf.872384cd21d72edc01f98205d08ec56b.jpg → Glioma\n",
      "gl_0486_jpg.rf.e6b7a5aa7d3600d0ce2f1997e3ac5dd9.jpg → Glioma\n",
      "gl_0501_jpg.rf.f30db1aae1fe4d0018416d94c98b758c.jpg → Glioma\n",
      "gl_0502_jpg.rf.fded6def2bb6775f326a79a44f398b6e.jpg → Glioma\n",
      "gl_0516_jpg.rf.465f14d7e499d86c90ae673726c6826b.jpg → Glioma\n",
      "gl_0517_jpg.rf.2297fd67191bb4fe70145cb9dab13c1c.jpg → Glioma\n",
      "gl_0528_jpg.rf.aa863973db113d6c9a86c83d7756e0c3.jpg → Glioma\n",
      "gl_0539_jpg.rf.0838a09123057d28fef223771139ec3d.jpg → Glioma\n",
      "gl_0548_jpg.rf.dbb91bb5d2edac34db6dfc0bb6f8ed76.jpg → Glioma\n",
      "gl_0555_jpg.rf.8c04fc87ea89ca47e9a7772cbd55fb47.jpg → Glioma\n",
      "gl_0557_jpg.rf.fa1dac6024cf5c9375f14b1f152fab4f.jpg → Glioma\n",
      "gl_1849.jpg → Glioma\n",
      "gl_1862.jpg → Glioma\n",
      "gl_1870.jpg → Glioma\n",
      "gl_1894.jpg → Glioma\n",
      "gl_1935.jpg → Glioma\n",
      "gl_1960.jpg → Glioma\n",
      "gl_1970.jpg → Glioma\n",
      "gl_1984.jpg → Glioma\n",
      "gl_1992.jpg → Glioma\n",
      "gl_1997.jpg → Glioma\n",
      "gl_2005.jpg → Glioma\n",
      "gl_2013.jpg → Glioma\n",
      "gl_2018.jpg → Glioma\n",
      "gl_2020.jpg → Glioma\n",
      "gl_2024.jpg → Glioma\n",
      "gl_2033.jpg → Glioma\n",
      "gl_2047.jpg → Glioma\n",
      "gl_2050.jpg → Glioma\n",
      "gl_2052.jpg → Glioma\n",
      "gl_2056.jpg → Glioma\n",
      "gl_2058.jpg → Glioma\n",
      "gl_2083.jpg → Glioma\n",
      "gl_2093.jpg → Glioma\n",
      "gl_2095.jpg → Glioma\n",
      "gl_2133.jpg → Glioma\n",
      "gl_2146.jpg → Glioma\n",
      "gl_2151.jpg → Glioma\n",
      "gl_2152.jpg → Glioma\n",
      "gl_2174.jpg → Glioma\n",
      "gl_2181.jpg → Glioma\n",
      "gl_2182.jpg → Glioma\n",
      "gl_2183.jpg → Glioma\n",
      "gl_2208.jpg → Glioma\n",
      "gl_2224.jpg → Glioma\n",
      "gl_2228.jpg → Glioma\n",
      "gl_2235.jpg → Glioma\n",
      "gl_2238.jpg → Glioma\n",
      "gl_2253.jpg → Glioma\n",
      "gl_2258.jpg → Glioma\n",
      "gl_2265.jpg → Glioma\n",
      "gl_2290.jpg → Glioma\n",
      "gl_2296.jpg → Glioma\n",
      "gl_2325.jpg → Glioma\n",
      "gl_2330.jpg → Glioma\n",
      "gl_2372.jpg → Glioma\n",
      "gl_2386.jpg → Glioma\n",
      "gl_2393.jpg → Glioma\n",
      "gl_2408.jpg → Glioma\n",
      "gl_2413.jpg → Glioma\n",
      "gl_2440.jpg → Glioma\n",
      "gl_2449.jpg → Glioma\n",
      "gl_2456.jpg → Glioma\n",
      "gl_2475.jpg → Glioma\n",
      "gl_2480.jpg → Glioma\n",
      "gl_2483.jpg → Glioma\n",
      "gl_2492.jpg → Glioma\n",
      "gl_2497.jpg → Glioma\n",
      "gl_2502.jpg → Glioma\n",
      "gl_2503.jpg → Glioma\n",
      "gl_2505.jpg → Glioma\n",
      "gl_2519.jpg → Glioma\n",
      "gl_2524.jpg → Glioma\n",
      "gl_2531.jpg → Glioma\n",
      "gl_2535.jpg → Glioma\n",
      "gl_2543.jpg → Glioma\n",
      "gl_2546.jpg → Glioma\n",
      "gl_2548.jpg → Glioma\n",
      "gl_2562.jpg → Glioma\n",
      "gl_2564.jpg → Glioma\n",
      "gl_2568.jpg → Glioma\n",
      "gl_2571.jpg → Glioma\n",
      "gl_2594.jpg → Glioma\n",
      "gl_2630.jpg → Glioma\n",
      "gl_2659.jpg → Glioma\n",
      "gl_2667.jpg → Glioma\n",
      "gl_2668.jpg → Glioma\n",
      "gl_2669.jpg → Glioma\n",
      "gl_2679.jpg → Glioma\n",
      "gl_2686.jpg → Glioma\n",
      "gl_2687.jpg → Glioma\n",
      "gl_2694.jpg → Glioma\n",
      "gl_2699.jpg → Glioma\n",
      "gl_2700.jpg → Glioma\n",
      "gl_2732.jpg → Glioma\n",
      "gl_2735.jpg → Glioma\n",
      "gl_2745.jpg → Glioma\n",
      "gl_2787.jpg → Glioma\n",
      "gl_2800.jpg → Glioma\n",
      "gl_2810.jpg → Glioma\n",
      "gl_2836.jpg → Glioma\n",
      "gl_2840.jpg → Glioma\n",
      "gl_2869.jpg → Glioma\n",
      "gl_2883.jpg → Glioma\n",
      "gl_2894.jpg → Glioma\n",
      "gl_2903.jpg → Glioma\n",
      "gl_2908.jpg → Glioma\n",
      "gl_2921.jpg → Glioma\n",
      "gl_2932.jpg → Glioma\n",
      "gl_2933.jpg → Glioma\n",
      "gl_2947.jpg → Glioma\n",
      "gl_2974.jpg → Glioma\n",
      "gl_2975.jpg → Glioma\n",
      "gl_2977.jpg → Glioma\n",
      "gl_3008.jpg → Glioma\n",
      "gl_3009.jpg → Glioma\n",
      "gl_3011.jpg → Glioma\n",
      "gl_3012.jpg → Glioma\n",
      "gl_3039.jpg → Glioma\n",
      "gl_3041.jpg → Glioma\n",
      "gl_3044.jpg → Glioma\n",
      "gl_3048.jpg → Glioma\n",
      "gl_3059.jpg → Glioma\n",
      "gl_731.jpg → Glioma\n",
      "gl_735.jpg → Glioma\n",
      "gl_802.jpg → Glioma\n",
      "gl_803.jpg → Glioma\n",
      "gl_806.jpg → Glioma\n",
      "gl_807.jpg → Glioma\n",
      "gl_809.jpg → Glioma\n",
      "gl_817.jpg → Glioma\n",
      "gl_823.jpg → Glioma\n",
      "gl_828.jpg → Glioma\n",
      "gl_831.jpg → Glioma\n",
      "gl_846.jpg → Meningioma\n",
      "gl_851.jpg → Glioma\n",
      "gl_854.jpg → Glioma\n",
      "gl_885.jpg → Glioma\n",
      "gl_890.jpg → Glioma\n",
      "gl_892.jpg → Glioma\n",
      "gl_897.jpg → Glioma\n",
      "gl_899.jpg → Glioma\n",
      "gl_900.jpg → Glioma\n",
      "gl_904.jpg → Glioma\n",
      "gl_907.jpg → Glioma\n",
      "gl_916.jpg → Glioma\n",
      "gl_gg (102).jpg → Glioma\n",
      "gl_gg (107).jpg → Glioma\n",
      "gl_gg (118).jpg → Glioma\n",
      "gl_gg (13).jpg → Glioma\n",
      "gl_gg (148).jpg → Glioma\n",
      "gl_gg (163).jpg → Glioma\n",
      "gl_gg (164).jpg → Glioma\n",
      "gl_gg (167).jpg → Glioma\n",
      "gl_gg (169).jpg → Glioma\n",
      "gl_gg (170).jpg → Glioma\n",
      "gl_gg (177).jpg → Glioma\n",
      "gl_gg (18).jpg → Glioma\n",
      "gl_gg (193).jpg → Glioma\n",
      "gl_gg (196).jpg → Glioma\n",
      "gl_gg (200).jpg → Glioma\n",
      "gl_gg (204).jpg → Glioma\n",
      "gl_gg (218).jpg → Glioma\n",
      "gl_gg (221).jpg → Glioma\n",
      "gl_gg (24).jpg → Glioma\n",
      "gl_gg (253).jpg → Glioma\n",
      "gl_gg (265).jpg → Glioma\n",
      "gl_gg (268).jpg → Glioma\n",
      "gl_gg (272).jpg → Glioma\n",
      "gl_gg (275).jpg → Glioma\n",
      "gl_gg (280).jpg → Glioma\n",
      "gl_gg (334).jpg → Glioma\n",
      "gl_gg (337).jpg → Glioma\n",
      "gl_gg (340).jpg → Glioma\n",
      "gl_gg (356).jpg → Glioma\n",
      "gl_gg (365).jpg → Glioma\n",
      "gl_gg (366).jpg → Glioma\n",
      "gl_gg (375).jpg → Glioma\n",
      "gl_gg (381).jpg → Glioma\n",
      "gl_gg (383).jpg → Glioma\n",
      "gl_gg (388).jpg → Glioma\n",
      "gl_gg (414).jpg → Glioma\n",
      "gl_gg (429).jpg → Glioma\n",
      "gl_gg (433).jpg → Glioma\n",
      "gl_gg (435).jpg → Glioma\n",
      "gl_gg (468).jpg → Glioma\n",
      "gl_gg (477).jpg → Glioma\n",
      "gl_gg (51).jpg → Glioma\n",
      "gl_gg (510).jpg → Glioma\n",
      "gl_gg (519).jpg → Glioma\n",
      "gl_gg (526).jpg → Glioma\n",
      "gl_gg (540).jpg → Glioma\n",
      "gl_gg (547).jpg → Glioma\n",
      "gl_gg (548).jpg → Glioma\n",
      "gl_gg (56).jpg → Glioma\n",
      "gl_gg (562).jpg → Glioma\n",
      "gl_gg (563).jpg → Glioma\n",
      "gl_gg (57).jpg → Glioma\n",
      "gl_gg (583).jpg → Glioma\n",
      "gl_gg (589).jpg → Glioma\n",
      "gl_gg (591).jpg → Glioma\n",
      "gl_gg (615).jpg → Glioma\n",
      "gl_gg (624).jpg → Glioma\n",
      "gl_gg (626).jpg → Glioma\n",
      "gl_gg (636).jpg → Glioma\n",
      "gl_gg (639).jpg → Glioma\n",
      "gl_gg (643).jpg → Glioma\n",
      "gl_gg (645).jpg → Glioma\n",
      "gl_gg (646).jpg → Glioma\n",
      "gl_gg (649).jpg → Glioma\n",
      "gl_gg (651).jpg → Glioma\n",
      "gl_gg (655).jpg → Glioma\n",
      "gl_gg (657).jpg → Glioma\n",
      "gl_gg (659).jpg → Glioma\n",
      "gl_gg (668).jpg → Glioma\n",
      "gl_gg (680).jpg → Glioma\n",
      "gl_gg (685).jpg → Glioma\n",
      "gl_gg (696).jpg → Glioma\n",
      "gl_gg (697).jpg → Glioma\n",
      "gl_gg (70).jpg → Glioma\n",
      "gl_gg (715).jpg → Glioma\n",
      "gl_gg (733).jpg → Glioma\n",
      "gl_gg (735).jpg → Glioma\n",
      "gl_gg (748).jpg → Glioma\n",
      "gl_gg (754).jpg → Glioma\n",
      "gl_gg (759).jpg → Glioma\n",
      "gl_gg (77).jpg → Glioma\n",
      "gl_gg (784).jpg → Glioma\n",
      "gl_gg (804).jpg → Glioma\n",
      "gl_gg (807).jpg → Glioma\n",
      "gl_gg (811).jpg → Glioma\n",
      "gl_gg (816).jpg → Glioma\n",
      "gl_gg (84).jpg → Glioma\n",
      "gl_gg (89).jpg → Glioma\n",
      "gl_gg (99).jpg → Glioma\n",
      "gl_image(16).jpg → No_Tumor\n",
      "gl_image(21).jpg → Pituitary\n",
      "gl_image(22).jpg → Meningioma\n",
      "gl_image(28).jpg → No_Tumor\n",
      "gl_image(35).jpg → Meningioma\n",
      "gl_image(40).jpg → Glioma\n",
      "gl_image(47).jpg → Meningioma\n",
      "gl_image(50).jpg → Glioma\n",
      "gl_image(68).jpg → Glioma\n",
      "gl_image(70).jpg → Glioma\n",
      "gl_image(79).jpg → No_Tumor\n",
      "gl_image(90).jpg → Glioma\n",
      "me_0010_jpg.rf.64b09cdfd6ad5f8352e473a7d3015dba.jpg → Meningioma\n",
      "me_0035_jpg.rf.e4f21c06c7ce665e5258c3e0489185c5.jpg → Meningioma\n",
      "me_0041_jpg.rf.fd18fa5bcabe05b6cdd3987743a49315.jpg → Meningioma\n",
      "me_0044_jpg.rf.0223369274dd825d3ff27ace105f878f.jpg → Meningioma\n",
      "me_0046_jpg.rf.fb1ef3480d81c1063299a7a2eb723411.jpg → Meningioma\n",
      "me_0059_jpg.rf.a7ddf325d1b4508eb5e9048c5cb9133d.jpg → Meningioma\n",
      "me_0060_jpg.rf.00fc106bc4d8afdd87385a496cc62c2c.jpg → Meningioma\n",
      "me_0069_jpg.rf.332331a0dda2f9e803c7bff6ad5ae3eb.jpg → Meningioma\n",
      "me_0084_jpg.rf.8da0909e5ac2b199b846a7b8a7ae18d0.jpg → Meningioma\n",
      "me_0088_jpg.rf.e61e56a612e513fe2556d7a23c910913.jpg → Meningioma\n",
      "me_0095_jpg.rf.6bfd18915c4925497a3d61dfcba79d6b.jpg → Meningioma\n",
      "me_0106_jpg.rf.55da295db7da9492bda3302329abc6db.jpg → Meningioma\n",
      "me_0120_jpg.rf.b6179666710d2cfc633b488ee4cf72d5.jpg → Meningioma\n",
      "me_0142_jpg.rf.d76c5b45f09b846727afa1acd1bcd606.jpg → Meningioma\n",
      "me_0143_jpg.rf.05f1fad0d3ae0848b844e86f0f0e8af6.jpg → Meningioma\n",
      "me_0144_jpg.rf.5ee15b2414969f68ca4dff9783f85058.jpg → Meningioma\n",
      "me_0160_jpg.rf.1f4ca673d246a990414e02bba94d28e2.jpg → Meningioma\n",
      "me_0161_jpg.rf.e488e823e3c93bb05856ed51e7247431.jpg → Meningioma\n",
      "me_0166_jpg.rf.ac1c7bd72675c2de94d614d1dc2e6147.jpg → Meningioma\n",
      "me_0170_jpg.rf.1143a3b1eec7ccbebdcdc37652ffcb24.jpg → Meningioma\n",
      "me_0177_jpg.rf.a50ab4209367fef5b45e5ae40e2eda01.jpg → Meningioma\n",
      "me_0181_jpg.rf.27b31887ec6041b959ea67bf3faf4cdc.jpg → Meningioma\n",
      "me_0184_jpg.rf.c2d56ac3525725e509cfa81b034ee0e1.jpg → Meningioma\n",
      "me_0194_jpg.rf.de84814eeddc99c52f384852cab10c9e.jpg → Meningioma\n",
      "me_0196_jpg.rf.245fcd795fa1359c89b664e10aab4074.jpg → Meningioma\n",
      "me_0204_jpg.rf.d1fa4e262ca19e166d495e95940fca60.jpg → Meningioma\n",
      "me_0219_jpg.rf.2eae832652a74f8747b52e2d8085a81b.jpg → Meningioma\n",
      "me_0232_jpg.rf.b4b2d9b36fe0be548a90031510a404e1.jpg → Meningioma\n",
      "me_0233_jpg.rf.392bbe6980734b332993f74e69da89d5.jpg → Meningioma\n",
      "me_0243_jpg.rf.4427ea2db0ddd40540c0cbe9edddae57.jpg → Meningioma\n",
      "me_0256_jpg.rf.48d31d4aea4379f35483cc8f8b3083f4.jpg → Meningioma\n",
      "me_0269_jpg.rf.6b5995aa24f6172f4fc91d74510ab107.jpg → Meningioma\n",
      "me_0271_jpg.rf.ec6d449ea98b3ade118067850306274d.jpg → Meningioma\n",
      "me_0275_jpg.rf.37fb1736bbca6bccc64455f729927fe8.jpg → Meningioma\n",
      "me_0290_jpg.rf.d2147251718406cf69061b8dd75c01f1.jpg → Meningioma\n",
      "me_0293_jpg.rf.a352c8addd6322dbfd61239afa553cbf.jpg → Meningioma\n",
      "me_0294_jpg.rf.516fb7db4b45f6bf8ef84dc0bbd6a2b7.jpg → Meningioma\n",
      "me_0306_jpg.rf.dbbdbcc52dae31fb4705497760244c9b.jpg → Meningioma\n",
      "me_0321_jpg.rf.293afc9d48528f4b9ae3b550b4dd9edd.jpg → Meningioma\n",
      "me_0334_jpg.rf.9f27c921129a8d9d7037d58852219dfd.jpg → Meningioma\n",
      "me_0348_jpg.rf.2d2264edd57fa32329f3757fb139709b.jpg → Meningioma\n",
      "me_0351_jpg.rf.ad680f4e51acc68288b74538cdc9642b.jpg → Meningioma\n",
      "me_0360_jpg.rf.3e80d126bad9b02a024d354ea7ef55d6.jpg → No_Tumor\n",
      "me_0362_jpg.rf.37cd80d39b685bf4a7a5e821188ed6d4.jpg → Meningioma\n",
      "me_0369_jpg.rf.4a6e535bfd8d551c226f875da2170f12.jpg → Meningioma\n",
      "me_0379_jpg.rf.3e6f5b8ba74d851aab826d7821c7d011.jpg → Meningioma\n",
      "me_0380_jpg.rf.cee73c7527b07c233df8ed493e43a499.jpg → Meningioma\n",
      "me_0392_jpg.rf.88aa5dba00c925102e9f7408307d30c5.jpg → Meningioma\n",
      "me_0403_jpg.rf.f5dc0942037bc6516f6ab30cfb858714.jpg → Meningioma\n",
      "me_0410_jpg.rf.d663927ea1285825921cc97f4275ac70.jpg → Meningioma\n",
      "me_0418_jpg.rf.82a12b3c3b1fcbbb1f68980cee935db0.jpg → Meningioma\n",
      "me_0432_jpg.rf.b963fd0cc0ec2305b73e8b4d9a3480b9.jpg → Meningioma\n",
      "me_0434_jpg.rf.09d244ad2805d05fab4a944774006945.jpg → Meningioma\n",
      "me_0446_jpg.rf.4c344f1f1db81971df7e7b3a6d4e17d1.jpg → Meningioma\n",
      "me_0452_jpg.rf.e03914140e3214057f5577735cd20a73.jpg → Meningioma\n",
      "me_0477_jpg.rf.207cf2e0409c7e50674cd7a7aa9f7c82.jpg → Meningioma\n",
      "me_0478_jpg.rf.6c5e2cb36dcd6326515ebed99aa7b2ce.jpg → Meningioma\n",
      "me_0482_jpg.rf.cfb05747f2e8aa6be8c32132c6253376.jpg → Meningioma\n",
      "me_0490_jpg.rf.a68a12b6d92b4ca664b67d258b448753.jpg → Meningioma\n",
      "me_0494_jpg.rf.23ee1c6c7f9c5559c510417cdd6bd84d.jpg → Meningioma\n",
      "me_0507_jpg.rf.d7d0e74e427a860d16f180b958a03120.jpg → Meningioma\n",
      "me_0515_jpg.rf.0d94d96dae98ea725db2e7ae2a7085bd.jpg → Meningioma\n",
      "me_0543_jpg.rf.c59a09c22534c2c029bd030a7c1b32fc.jpg → Meningioma\n",
      "me_101.jpg → Meningioma\n",
      "me_111.jpg → Meningioma\n",
      "me_140.jpg → Meningioma\n",
      "me_152.jpg → Meningioma\n",
      "me_155.jpg → Meningioma\n",
      "me_165.jpg → Meningioma\n",
      "me_172.jpg → Meningioma\n",
      "me_173.jpg → Meningioma\n",
      "me_181.jpg → Meningioma\n",
      "me_201.jpg → Meningioma\n",
      "me_207.jpg → Meningioma\n",
      "me_213.jpg → Meningioma\n",
      "me_217.jpg → Meningioma\n",
      "me_235.jpg → Meningioma\n",
      "me_259.jpg → Meningioma\n",
      "me_295.jpg → Meningioma\n",
      "me_299.jpg → Meningioma\n",
      "me_305.jpg → Meningioma\n",
      "me_314.jpg → Meningioma\n",
      "me_33.jpg → Meningioma\n",
      "me_348.jpg → Meningioma\n",
      "me_351.jpg → Meningioma\n",
      "me_367.jpg → Meningioma\n",
      "me_373.jpg → Meningioma\n",
      "me_41.jpg → Meningioma\n",
      "me_410.jpg → Meningioma\n",
      "me_413.jpg → Meningioma\n",
      "me_414.jpg → Meningioma\n",
      "me_417.jpg → Meningioma\n",
      "me_42.jpg → Meningioma\n",
      "me_420.jpg → Meningioma\n",
      "me_433.jpg → Meningioma\n",
      "me_437.jpg → Meningioma\n",
      "me_464.jpg → Meningioma\n",
      "me_466.jpg → Meningioma\n",
      "me_479.jpg → Meningioma\n",
      "me_500.jpg → Meningioma\n",
      "me_503.jpg → Meningioma\n",
      "me_505.jpg → Meningioma\n",
      "me_515.jpg → Meningioma\n",
      "me_518.jpg → Meningioma\n",
      "me_521.jpg → Meningioma\n",
      "me_533.jpg → Meningioma\n",
      "me_548.jpg → Meningioma\n",
      "me_562.jpg → Meningioma\n",
      "me_576.jpg → Meningioma\n",
      "me_581.jpg → Meningioma\n",
      "me_592.jpg → Meningioma\n",
      "me_605.jpg → Meningioma\n",
      "me_630.jpg → Glioma\n",
      "me_636.jpg → Glioma\n",
      "me_641.jpg → Meningioma\n",
      "me_644.jpg → Meningioma\n",
      "me_663.jpg → Meningioma\n",
      "me_665.jpg → Meningioma\n",
      "me_666.jpg → Meningioma\n",
      "me_669.jpg → Meningioma\n",
      "me_67.jpg → Meningioma\n",
      "me_670.jpg → Meningioma\n",
      "me_674.jpg → Meningioma\n",
      "me_689.jpg → Meningioma\n",
      "me_7.jpg → Meningioma\n",
      "me_707.jpg → Meningioma\n",
      "me_89.jpg → Meningioma\n",
      "me_92.jpg → Meningioma\n",
      "me_96.jpg → Meningioma\n",
      "me_99.jpg → Meningioma\n",
      "me_image(112).jpg → Meningioma\n",
      "me_image(26).jpg → Meningioma\n",
      "me_image(31).jpg → Meningioma\n",
      "me_image(34).jpg → Meningioma\n",
      "me_image(36).jpg → Meningioma\n",
      "me_image(43).jpg → Meningioma\n",
      "me_image(47).jpg → Meningioma\n",
      "me_image(6).jpg → Meningioma\n",
      "me_image(62).jpg → Meningioma\n",
      "me_image(70).jpg → Meningioma\n",
      "me_image(79).jpg → Meningioma\n",
      "me_image(91).jpg → Meningioma\n",
      "me_m (100).jpg → Meningioma\n",
      "me_m (107).jpg → Meningioma\n",
      "me_m (108).jpg → Meningioma\n",
      "me_m (120).jpg → Meningioma\n",
      "me_m (131).jpg → Meningioma\n",
      "me_m (147).jpg → Meningioma\n",
      "me_m (150).jpg → Meningioma\n",
      "me_m (151).jpg → Meningioma\n",
      "me_m (17).jpg → Meningioma\n",
      "me_m (184).jpg → Meningioma\n",
      "me_m (186).jpg → Meningioma\n",
      "me_m (190).jpg → Meningioma\n",
      "me_m (195).jpg → Meningioma\n",
      "me_m (199).jpg → Meningioma\n",
      "me_m (200).jpg → Meningioma\n",
      "me_m (31).jpg → Meningioma\n",
      "me_m (39).jpg → Meningioma\n",
      "me_m (40).jpg → Meningioma\n",
      "me_m (45).jpg → Meningioma\n",
      "me_m (55).jpg → Meningioma\n",
      "me_m (62).jpg → Meningioma\n",
      "me_m (90).jpg → Meningioma\n",
      "me_m1(103).jpg → Meningioma\n",
      "me_m1(113).jpg → Meningioma\n",
      "me_m1(114).jpg → Meningioma\n",
      "me_m1(120).jpg → Meningioma\n",
      "me_m1(121).jpg → Meningioma\n",
      "me_m1(143).jpg → Meningioma\n",
      "me_m1(154).jpg → Meningioma\n",
      "me_m1(165).jpg → Meningioma\n",
      "me_m1(166).jpg → Meningioma\n",
      "me_m1(178).jpg → Meningioma\n",
      "me_m1(190).jpg → Meningioma\n",
      "me_m1(193).jpg → Meningioma\n",
      "me_m1(202).jpg → Meningioma\n",
      "me_m1(26).jpg → Meningioma\n",
      "me_m1(27).jpg → Meningioma\n",
      "me_m1(30).jpg → Meningioma\n",
      "me_m1(33).jpg → Meningioma\n",
      "me_m1(42).jpg → Meningioma\n",
      "me_m1(44).jpg → Meningioma\n",
      "me_m1(45).jpg → Meningioma\n",
      "me_m1(49).jpg → Meningioma\n",
      "me_m1(52).jpg → Meningioma\n",
      "me_m1(56).jpg → Meningioma\n",
      "me_m1(66).jpg → Meningioma\n",
      "me_m1(69).jpg → Meningioma\n",
      "me_m1(78).jpg → Meningioma\n",
      "me_m2 (106).jpg → Meningioma\n",
      "me_m2 (119).jpg → Meningioma\n",
      "me_m2 (129).jpg → Meningioma\n",
      "me_m2 (15).jpg → Meningioma\n",
      "me_m2 (150).jpg → Meningioma\n",
      "me_m2 (152).jpg → Meningioma\n",
      "me_m2 (159).jpg → Meningioma\n",
      "me_m2 (17).jpg → Meningioma\n",
      "me_m2 (2).jpg → Meningioma\n",
      "me_m2 (42).jpg → Meningioma\n",
      "me_m2 (48).jpg → Meningioma\n",
      "me_m2 (6).jpg → Meningioma\n",
      "me_m2 (75).jpg → Meningioma\n",
      "me_m2 (76).jpg → Meningioma\n",
      "me_m2 (79).jpg → Meningioma\n",
      "me_m2 (80).jpg → Meningioma\n",
      "me_m2 (96).jpg → Meningioma\n",
      "me_m2 (97).jpg → Meningioma\n",
      "me_m3 (103).jpg → Meningioma\n",
      "me_m3 (104).jpg → Meningioma\n",
      "me_m3 (121).jpg → Meningioma\n",
      "me_m3 (141).jpg → Meningioma\n",
      "me_m3 (143).jpg → No_Tumor\n",
      "me_m3 (15).jpg → Meningioma\n",
      "me_m3 (156).jpg → Meningioma\n",
      "me_m3 (160).jpg → Meningioma\n",
      "me_m3 (187).jpg → Meningioma\n",
      "me_m3 (195).jpg → Meningioma\n",
      "me_m3 (202).jpg → Meningioma\n",
      "me_m3 (222).jpg → Meningioma\n",
      "me_m3 (231).jpg → Meningioma\n",
      "me_m3 (234).jpg → Meningioma\n",
      "me_m3 (42).jpg → Meningioma\n",
      "me_m3 (51).jpg → Glioma\n",
      "me_m3 (63).jpg → Meningioma\n",
      "me_m3 (74).jpg → Meningioma\n",
      "me_m3 (92).jpg → Meningioma\n",
      "no_0017_jpg.rf.2cedc1f6703d5a0b33b09208957d9223.jpg → No_Tumor\n",
      "no_0022_jpg.rf.450e5c79c994c8f3ccfd6e41b45147b6.jpg → No_Tumor\n",
      "no_0032_jpg.rf.1d31f39f4254f6f632457fe7cf03ceef.jpg → No_Tumor\n",
      "no_0043_jpg.rf.5224aefedc2bd0860814754ea61bb631.jpg → No_Tumor\n",
      "no_0049_jpg.rf.ebfa4b818a60023078468e4a497d6b32.jpg → No_Tumor\n",
      "no_0055_jpg.rf.f1be184ee2cee634dd82670955bfba81.jpg → No_Tumor\n",
      "no_0091_jpg.rf.3d049f5d6d7b909d8192f3cfa4a2b39f.jpg → No_Tumor\n",
      "no_0102_jpg.rf.5dc9cb55c27336399cd0c9cf5219c497.jpg → No_Tumor\n",
      "no_0108_jpg.rf.43faf021fc7d612544a9e52b4a5ae745.jpg → No_Tumor\n",
      "no_0133_jpg.rf.7adafcb0e41d35cee0a50459b6d60fc5.jpg → No_Tumor\n",
      "no_0139_jpg.rf.51497327a9205e13b0b0477b6743efff.jpg → No_Tumor\n",
      "no_0147_jpg.rf.dca2c4b12d8ef4b78c69305aa85dd55a.jpg → No_Tumor\n",
      "no_0156_jpg.rf.6c52d1019acf21cb655e74d69a0e9cbc.jpg → No_Tumor\n",
      "no_0165_jpg.rf.58e2b30d093b808eb95fd265ff984b94.jpg → No_Tumor\n",
      "no_0172_jpg.rf.e2ceabc3d79ed534b4b41a8d77c8496d.jpg → No_Tumor\n",
      "no_0191_jpg.rf.0acd81d9a0b6a11b7b158f1269dabd02.jpg → No_Tumor\n",
      "no_0203_jpg.rf.d9e1103b277744eb876c5c7035a31eff.jpg → No_Tumor\n",
      "no_0207_jpg.rf.c11cf70c91097ed667a38a5b6ba447b6.jpg → No_Tumor\n",
      "no_0213_jpg.rf.9f86eb86c0acc685b5da37c4b6ce347b.jpg → No_Tumor\n",
      "no_0262_jpg.rf.66849b1fc907abea3e3349fd0980b445.jpg → No_Tumor\n",
      "no_0277_jpg.rf.f002e96feb13347f05b2edc2fc59e526.jpg → No_Tumor\n",
      "no_0278_jpg.rf.caf8b68b5360cd29270f7ac6c23139d0.jpg → No_Tumor\n",
      "no_0287_jpg.rf.83294e4ac324045d071cbeba40a3d094.jpg → No_Tumor\n",
      "no_0296_jpg.rf.60f8ac7faf208efd7073530cde38f74e.jpg → No_Tumor\n",
      "no_0306_jpg.rf.87aced1d7aa0c4a8f21b656422ca4646.jpg → No_Tumor\n",
      "no_0308_jpg.rf.e09b8408ed3772905a59c690ef227dde.jpg → No_Tumor\n",
      "no_0315_jpg.rf.02011509f6d3c9485379923a5e0eb799.jpg → No_Tumor\n",
      "no_0321_jpg.rf.9b3e3ad4c2cd3b66baec50645517548b.jpg → No_Tumor\n",
      "no_0330_jpg.rf.079b6fbbbbd8ccba5741abc8785578e0.jpg → No_Tumor\n",
      "no_0354_jpg.rf.0ed513834d63efa327c86f216b573d4c.jpg → No_Tumor\n",
      "no_0355_jpg.rf.5b2f13daeaaf08ae40f02be713a62f42.jpg → No_Tumor\n",
      "no_0356_jpg.rf.180b56b48ed657c88c22809df17fda1f.jpg → No_Tumor\n",
      "no_0430_jpg.rf.8787467038198f3985421efe5d70b07a.jpg → Pituitary\n",
      "no_0437_jpg.rf.ef7da7bdf423d16bf218dbf3f264c657.jpg → No_Tumor\n",
      "no_0440_jpg.rf.6e2faf1cbaa4f8b724b236c1b80ebb05.jpg → No_Tumor\n",
      "no_0451_jpg.rf.f625e63c5658f260be3b9ed07068c92d.jpg → No_Tumor\n",
      "no_0464_jpg.rf.db86209bd1b0cd3e758824d5bd49da27.jpg → Pituitary\n",
      "no_0466_jpg.rf.abeeb51c69ba93bf3e6f6844dd4155df.jpg → No_Tumor\n",
      "no_0477_jpg.rf.19bfdb70a263ae878bd1a2b39719baee.jpg → No_Tumor\n",
      "no_0497_jpg.rf.794f6bcdc5450c8971635a6c94abfcc1.jpg → No_Tumor\n",
      "no_0509_jpg.rf.a76158ac5b58e43a2ee742f2adf976d1.jpg → No_Tumor\n",
      "no_0527_jpg.rf.7aae6c5ee63cc6099c51e3bc8c11ba28.jpg → No_Tumor\n",
      "no_0530_jpg.rf.8d2847e95d8135bb9bd13c8383e4ce8c.jpg → No_Tumor\n",
      "no_0532_jpg.rf.77d3f998ddc8a5da35ef24a82f3d4362.jpg → No_Tumor\n",
      "no_0533_jpg.rf.acf2150cc93395e975eccb2fce3d0a4c.jpg → No_Tumor\n",
      "no_0538_jpg.rf.8ce5df7bab7eafb82ed246d5d84c558b.jpg → No_Tumor\n",
      "no_0543_jpg.rf.737604d886c8c0502bc121179c07e1f5.jpg → No_Tumor\n",
      "no_0544_jpg.rf.9b5db984a9f381909d5cbfda3c97c7df.jpg → No_Tumor\n",
      "no_0550_jpg.rf.961727cb5c596daea01f27b939b709c8.jpg → No_Tumor\n",
      "no_1.jpg → Meningioma\n",
      "no_image(100).jpg → No_Tumor\n",
      "no_image(101).jpg → No_Tumor\n",
      "no_image(21).jpg → No_Tumor\n",
      "no_image(24).jpg → No_Tumor\n",
      "no_image(31).jpg → No_Tumor\n",
      "no_image(37).jpg → No_Tumor\n",
      "no_image(7).jpg → No_Tumor\n",
      "no_image(78).jpg → No_Tumor\n",
      "no_image(83).jpg → No_Tumor\n",
      "no_image(87).jpg → No_Tumor\n",
      "no_image(99).jpg → No_Tumor\n",
      "no_image_10.jpg → No_Tumor\n",
      "no_image_11.jpg → No_Tumor\n",
      "no_image_114.jpg → No_Tumor\n",
      "no_image_115.jpg → No_Tumor\n",
      "no_image_129.jpg → No_Tumor\n",
      "no_image_13.jpg → No_Tumor\n",
      "no_image_134.jpg → No_Tumor\n",
      "no_image_139.jpg → No_Tumor\n",
      "no_image_148.jpg → No_Tumor\n",
      "no_image_152.jpg → No_Tumor\n",
      "no_image_16.jpg → No_Tumor\n",
      "no_image_172.jpg → No_Tumor\n",
      "no_image_183.jpg → No_Tumor\n",
      "no_image_209.jpg → No_Tumor\n",
      "no_image_215.jpg → No_Tumor\n",
      "no_image_217.jpg → No_Tumor\n",
      "no_image_245.jpg → No_Tumor\n",
      "no_image_246.jpg → No_Tumor\n",
      "no_image_25.jpg → No_Tumor\n",
      "no_image_256.jpg → No_Tumor\n",
      "no_image_259.jpg → No_Tumor\n",
      "no_image_269.jpg → No_Tumor\n",
      "no_image_271.jpg → No_Tumor\n",
      "no_image_287.jpg → No_Tumor\n",
      "no_image_298.jpg → No_Tumor\n",
      "no_image_323.jpg → No_Tumor\n",
      "no_image_48.jpg → No_Tumor\n",
      "no_image_53.jpg → No_Tumor\n",
      "no_image_57.jpg → No_Tumor\n",
      "no_image_73.jpg → No_Tumor\n",
      "no_image_88.jpg → No_Tumor\n",
      "no_image_92.jpg → No_Tumor\n",
      "pi_0038_jpg.rf.50c4875c32834d727e1b02ce11ca571b.jpg → Pituitary\n",
      "pi_0090_jpg.rf.c08e55649aa763919fefc64964f2e6b4.jpg → Pituitary\n",
      "pi_0098_jpg.rf.eec9da587fa75dd9a461ef02380e8225.jpg → Pituitary\n",
      "pi_0103_jpg.rf.e4149a2b693bbe8fe259acbefc31cfc0.jpg → Pituitary\n",
      "pi_0115_jpg.rf.23b8edbb6cef3898b66019cb8d1c8127.jpg → Pituitary\n",
      "pi_0130_jpg.rf.15adee5c88949e10f62a9c54294adaf9.jpg → Pituitary\n",
      "pi_0134_jpg.rf.fe52bea9481b28a403f0436ab88dafee.jpg → Pituitary\n",
      "pi_0151_jpg.rf.29da072b2854ac8013c749591d2fa269.jpg → Pituitary\n",
      "pi_0158_jpg.rf.e934d7a11ed39795f78dba33bcbdd3d2.jpg → Pituitary\n",
      "pi_0190_jpg.rf.9c11456c61516da0b1d588c401d6c9cf.jpg → Pituitary\n",
      "pi_0192_jpg.rf.7a829f518629b0cc146ab2ce78f739ba.jpg → Pituitary\n",
      "pi_0203_jpg.rf.31e12e37a8b442628f750d6c2454043d.jpg → Pituitary\n",
      "pi_0210_jpg.rf.30b9c7aaf29c122ec745a43cbb486979.jpg → Pituitary\n",
      "pi_0225_jpg.rf.ca30ee4e6edd9d9aa3be1690dc54f6d3.jpg → Pituitary\n",
      "pi_0228_jpg.rf.d3b7f2ad851d1d3ff3fb571db20f451c.jpg → Pituitary\n",
      "pi_0229_jpg.rf.ae7d37ef9124e20a24089069410e9230.jpg → Pituitary\n",
      "pi_0242_jpg.rf.4d873e77a42417473c39d36f43d708e6.jpg → Pituitary\n",
      "pi_0247_jpg.rf.f01c38dbcbae83ca541f31c95367bf97.jpg → Pituitary\n",
      "pi_0249_jpg.rf.dbf4536eb1cea8f2d5f5af3f9bcda797.jpg → Pituitary\n",
      "pi_0254_jpg.rf.86fc340eae95d639c851617ec07e805a.jpg → Pituitary\n",
      "pi_0287_jpg.rf.3b0aa682458a6c64747485ac8fb2f16c.jpg → Pituitary\n",
      "pi_0288_jpg.rf.93bc1605cd5f22831e1f8e2b7e3c80bf.jpg → Pituitary\n",
      "pi_0314_jpg.rf.6b75dc6719fbba56c18c2ccc3860884c.jpg → Pituitary\n",
      "pi_0340_jpg.rf.51dd41ec5a9e5eb62094388c8dddb391.jpg → Pituitary\n",
      "pi_0347_jpg.rf.4235c24459b415bc6c1839b1b7d00c02.jpg → Pituitary\n",
      "pi_0349_jpg.rf.6b42058928c6076e7f53401777c52c08.jpg → Pituitary\n",
      "pi_0376_jpg.rf.ecf3d775893487c3664bab31dfe41c6a.jpg → Pituitary\n",
      "pi_0382_jpg.rf.a330dc0c62193d9c1b7842764d588ca2.jpg → Pituitary\n",
      "pi_0394_jpg.rf.e6e45b0efc2c95a0c04b785f7f766d47.jpg → Pituitary\n",
      "pi_0397_jpg.rf.661aa3bad2506a3ad381a611a9c5e9ba.jpg → Pituitary\n",
      "pi_0406_jpg.rf.58ca168b4c5618e8cb70dcccb6d3e4b1.jpg → Pituitary\n",
      "pi_0418_jpg.rf.d894e0e32ac3f6b2c39a33c3c3f5b157.jpg → Pituitary\n",
      "pi_0419_jpg.rf.c0305a9cf6fd37631835e706585b6bdd.jpg → Pituitary\n",
      "pi_0422_jpg.rf.d2ab544f99ae8e77800c3ec6f3d9835b.jpg → Pituitary\n",
      "pi_0440_jpg.rf.404dce921af830a0eba817c31a453e5a.jpg → Pituitary\n",
      "pi_0459_jpg.rf.aadee49967df0eddb56b2fb865fad7a3.jpg → Pituitary\n",
      "pi_0463_jpg.rf.b03d58e124d675c70511762322dbec5c.jpg → Pituitary\n",
      "pi_0470_jpg.rf.0c5912c4c0ccc53bf22308d4b2d33b23.jpg → Pituitary\n",
      "pi_0472_jpg.rf.b842eae53c49035866bfe30412875113.jpg → Pituitary\n",
      "pi_0488_jpg.rf.b9e662366fa7eb323337bd2122e0e4aa.jpg → Pituitary\n",
      "pi_0489_jpg.rf.1dfdbca45760bc09f866831a24ddaeb0.jpg → Pituitary\n",
      "pi_0496_jpg.rf.e2c2de64aa9b397e3372065d634748bd.jpg → Pituitary\n",
      "pi_0508_jpg.rf.99be47a24afc974d5a9fb8d670dadc68.jpg → Pituitary\n",
      "pi_0519_jpg.rf.ee5ee202a402bb9e276d15b0afdcd365.jpg → Pituitary\n",
      "pi_0523_jpg.rf.897eedb7dd5f6227a74311944a4ed63e.jpg → Pituitary\n",
      "pi_0537_jpg.rf.fe2f30dd6e2f1ea090da9679259a608e.jpg → Pituitary\n",
      "pi_0546_jpg.rf.35560e8472a6241fee84472a49f93e9e.jpg → Pituitary\n",
      "pi_0562_jpg.rf.b7d629887a6dc9b22011837fafad9948.jpg → Pituitary\n",
      "pi_0568_jpg.rf.71ddbc307577726d6a0b846fc72985e8.jpg → Pituitary\n",
      "pi_0603_jpg.rf.9e70cdd6216523136af1865866797f50.jpg → Pituitary\n",
      "pi_0614_jpg.rf.38a5afc04dbd629b16f0bbd855bcb086.jpg → Pituitary\n",
      "pi_0636_jpg.rf.609ee034c63ba7e5b9f443de105b1b58.jpg → Pituitary\n",
      "pi_0646_jpg.rf.d3e36be566da199204d83608fc892ec0.jpg → Pituitary\n",
      "pi_0657_jpg.rf.1be85a960e376fd98fa1311070225b19.jpg → Pituitary\n",
      "pi_1014.jpg → Pituitary\n",
      "pi_1031.jpg → Pituitary\n",
      "pi_1032.jpg → Pituitary\n",
      "pi_1038.jpg → Pituitary\n",
      "pi_1039.jpg → Pituitary\n",
      "pi_1045.jpg → Pituitary\n",
      "pi_1049.jpg → Pituitary\n",
      "pi_1055.jpg → Pituitary\n",
      "pi_1056.jpg → Pituitary\n",
      "pi_1066.jpg → Pituitary\n",
      "pi_1080.jpg → Pituitary\n",
      "pi_1082.jpg → Pituitary\n",
      "pi_1085.jpg → Pituitary\n",
      "pi_1091.jpg → Pituitary\n",
      "pi_1103.jpg → Pituitary\n",
      "pi_1122.jpg → Pituitary\n",
      "pi_1132.jpg → Pituitary\n",
      "pi_1135.jpg → Pituitary\n",
      "pi_1138.jpg → Pituitary\n",
      "pi_1153.jpg → Pituitary\n",
      "pi_1155.jpg → Pituitary\n",
      "pi_1162.jpg → Pituitary\n",
      "pi_1169.jpg → Pituitary\n",
      "pi_1175.jpg → Pituitary\n",
      "pi_1177.jpg → Pituitary\n",
      "pi_1203.jpg → Pituitary\n",
      "pi_1211.jpg → Pituitary\n",
      "pi_1219.jpg → Pituitary\n",
      "pi_1267.jpg → Pituitary\n",
      "pi_1272.jpg → Pituitary\n",
      "pi_1284.jpg → Pituitary\n",
      "pi_1286.jpg → Pituitary\n",
      "pi_1287.jpg → Pituitary\n",
      "pi_1291.jpg → Pituitary\n",
      "pi_1293.jpg → Pituitary\n",
      "pi_1311.jpg → Pituitary\n",
      "pi_1317.jpg → Pituitary\n",
      "pi_1326.jpg → Pituitary\n",
      "pi_1327.jpg → Pituitary\n",
      "pi_1336.jpg → Pituitary\n",
      "pi_1342.jpg → Pituitary\n",
      "pi_1349.jpg → Pituitary\n",
      "pi_1376.jpg → Pituitary\n",
      "pi_1382.jpg → Pituitary\n",
      "pi_1395.jpg → Pituitary\n",
      "pi_1408.jpg → Glioma\n",
      "pi_1409.jpg → Glioma\n",
      "pi_1418.jpg → Pituitary\n",
      "pi_1433.jpg → Pituitary\n",
      "pi_1435.jpg → Pituitary\n",
      "pi_1441.jpg → Pituitary\n",
      "pi_1442.jpg → Pituitary\n",
      "pi_1458.jpg → Pituitary\n",
      "pi_1461.jpg → Pituitary\n",
      "pi_1465.jpg → Pituitary\n",
      "pi_1468.jpg → Pituitary\n",
      "pi_1482.jpg → Pituitary\n",
      "pi_1485.jpg → Pituitary\n",
      "pi_1504.jpg → Pituitary\n",
      "pi_1529.jpg → Pituitary\n",
      "pi_1530.jpg → Pituitary\n",
      "pi_1535.jpg → Pituitary\n",
      "pi_1542.jpg → Pituitary\n",
      "pi_1545.jpg → Pituitary\n",
      "pi_1550.jpg → Pituitary\n",
      "pi_1565.jpg → Pituitary\n",
      "pi_1568.jpg → Pituitary\n",
      "pi_1576.jpg → Pituitary\n",
      "pi_1580.jpg → Pituitary\n",
      "pi_1588.jpg → Pituitary\n",
      "pi_1594.jpg → Pituitary\n",
      "pi_1633.jpg → Pituitary\n",
      "pi_1639.jpg → Pituitary\n",
      "pi_1640.jpg → Pituitary\n",
      "pi_1647.jpg → Pituitary\n",
      "pi_1650.jpg → Pituitary\n",
      "pi_1657.jpg → Pituitary\n",
      "pi_1668.jpg → Pituitary\n",
      "pi_1690.jpg → Pituitary\n",
      "pi_1708.jpg → Pituitary\n",
      "pi_1710.jpg → Pituitary\n",
      "pi_1713.jpg → Pituitary\n",
      "pi_1725.jpg → Pituitary\n",
      "pi_1739.jpg → Pituitary\n",
      "pi_1754.jpg → Pituitary\n",
      "pi_1776.jpg → Pituitary\n",
      "pi_1800.jpg → Pituitary\n",
      "pi_1814.jpg → Pituitary\n",
      "pi_1818.jpg → Pituitary\n",
      "pi_1821.jpg → Pituitary\n",
      "pi_1829.jpg → Pituitary\n",
      "pi_1832.jpg → Pituitary\n",
      "pi_59.jpg → Pituitary\n",
      "pi_921.jpg → Pituitary\n",
      "pi_926.jpg → Pituitary\n",
      "pi_930.jpg → Pituitary\n",
      "pi_936.jpg → Pituitary\n",
      "pi_939.jpg → Pituitary\n",
      "pi_943.jpg → Pituitary\n",
      "pi_957.jpg → Pituitary\n",
      "pi_973.jpg → Meningioma\n",
      "pi_978.jpg → Pituitary\n",
      "pi_995.jpg → Pituitary\n",
      "pi_image(10).jpg → Pituitary\n",
      "pi_image(3).jpg → Pituitary\n",
      "pi_image(30).jpg → Pituitary\n",
      "pi_image(38).jpg → Pituitary\n",
      "pi_image(55).jpg → Pituitary\n",
      "pi_image(66).jpg → Meningioma\n",
      "pi_image(69).jpg → Pituitary\n",
      "pi_image(77).jpg → Pituitary\n",
      "pi_image(95).jpg → Pituitary\n",
      "pi_image.jpg → Pituitary\n",
      "pi_p (1).jpg → Pituitary\n",
      "pi_p (104).jpg → Pituitary\n",
      "pi_p (113).jpg → Pituitary\n",
      "pi_p (114).jpg → Pituitary\n",
      "pi_p (120).jpg → Pituitary\n",
      "pi_p (129).jpg → Pituitary\n",
      "pi_p (154).jpg → Pituitary\n",
      "pi_p (190).jpg → Pituitary\n",
      "pi_p (194).jpg → Pituitary\n",
      "pi_p (20).jpg → Pituitary\n",
      "pi_p (214).jpg → Pituitary\n",
      "pi_p (215).jpg → Pituitary\n",
      "pi_p (222).jpg → Pituitary\n",
      "pi_p (228).jpg → Pituitary\n",
      "pi_p (238).jpg → Pituitary\n",
      "pi_p (243).jpg → Pituitary\n",
      "pi_p (253).jpg → Pituitary\n",
      "pi_p (255).jpg → Pituitary\n",
      "pi_p (27).jpg → Pituitary\n",
      "pi_p (270).jpg → Pituitary\n",
      "pi_p (288).jpg → Pituitary\n",
      "pi_p (293).jpg → Pituitary\n",
      "pi_p (294).jpg → Pituitary\n",
      "pi_p (3).jpg → Pituitary\n",
      "pi_p (302).jpg → Pituitary\n",
      "pi_p (307).jpg → Pituitary\n",
      "pi_p (326).jpg → Pituitary\n",
      "pi_p (340).jpg → Pituitary\n",
      "pi_p (362).jpg → Pituitary\n",
      "pi_p (371).jpg → Pituitary\n",
      "pi_p (38).jpg → Pituitary\n",
      "pi_p (385).jpg → Pituitary\n",
      "pi_p (430).jpg → Pituitary\n",
      "pi_p (448).jpg → Pituitary\n",
      "pi_p (449).jpg → Pituitary\n",
      "pi_p (462).jpg → Pituitary\n",
      "pi_p (465).jpg → Pituitary\n",
      "pi_p (471).jpg → Pituitary\n",
      "pi_p (474).jpg → Pituitary\n",
      "pi_p (494).jpg → Pituitary\n",
      "pi_p (51).jpg → Pituitary\n",
      "pi_p (510).jpg → Pituitary\n",
      "pi_p (530).jpg → Pituitary\n",
      "pi_p (535).jpg → Pituitary\n",
      "pi_p (538).jpg → Pituitary\n",
      "pi_p (544).jpg → Pituitary\n",
      "pi_p (552).jpg → Pituitary\n",
      "pi_p (577).jpg → Pituitary\n",
      "pi_p (587).jpg → Pituitary\n",
      "pi_p (588).jpg → Pituitary\n",
      "pi_p (602).jpg → Pituitary\n",
      "pi_p (625).jpg → Pituitary\n",
      "pi_p (631).jpg → Pituitary\n",
      "pi_p (636).jpg → Pituitary\n",
      "pi_p (639).jpg → Pituitary\n",
      "pi_p (644).jpg → Pituitary\n",
      "pi_p (664).jpg → Pituitary\n",
      "pi_p (670).jpg → Pituitary\n",
      "pi_p (678).jpg → Pituitary\n",
      "pi_p (70).jpg → Pituitary\n",
      "pi_p (703).jpg → Pituitary\n",
      "pi_p (707).jpg → Pituitary\n",
      "pi_p (757).jpg → Pituitary\n",
      "pi_p (774).jpg → Pituitary\n",
      "pi_p (796).jpg → Pituitary\n",
      "pi_p (80).jpg → Pituitary\n",
      "pi_p (800).jpg → Pituitary\n",
      "pi_p (807).jpg → Pituitary\n",
      "pi_p (81).jpg → Pituitary\n",
      "pi_p (812).jpg → Pituitary\n",
      "\n",
      "Wrote 873 predictions to predictions.txt\n"
     ]
    }
   ],
   "source": [
    "predict_and_save(\n",
    "  model_path=\"best_mri_model.pth\",\n",
    "  image_dir=\"image_data/test_images\",\n",
    "  output_txt=\"predictions.txt\"\n",
    ")\n"
   ]
  },
  {
   "cell_type": "code",
   "execution_count": 629,
   "metadata": {},
   "outputs": [
    {
     "name": "stdout",
     "output_type": "stream",
     "text": [
      "Matched 851 out of 873 images.\n",
      "Accuracy: 97.48%\n"
     ]
    }
   ],
   "source": [
    "gt = pd.read_csv(\"image_data/test.csv\", header=None, names=[\"filename\",\"true_label\"])\n",
    "\n",
    "# 2) Load your predictions\n",
    "pred = pd.read_csv(\"predictions.txt\", sep=\"\\t\", header=None, names=[\"filename\",\"pred_label\"])\n",
    "\n",
    "# 3) Merge on filename\n",
    "df = gt.merge(pred, on=\"filename\", how=\"inner\")\n",
    "\n",
    "# 4) Compute accuracy\n",
    "df[\"correct\"] = (df[\"true_label\"] == df[\"pred_label\"])\n",
    "accuracy = df[\"correct\"].mean()\n",
    "\n",
    "print(f\"Matched {df['correct'].sum()} out of {len(df)} images.\")\n",
    "print(f\"Accuracy: {accuracy*100:.2f}%\")"
   ]
  },
  {
   "cell_type": "markdown",
   "metadata": {},
   "source": [
    "# Confusion Matrix "
   ]
  },
  {
   "cell_type": "code",
   "execution_count": 630,
   "metadata": {},
   "outputs": [
    {
     "data": {
      "image/png": "[encoded data removed]",
      "text/plain": [
       "<Figure size 800x600 with 2 Axes>"
      ]
     },
     "metadata": {},
     "output_type": "display_data"
    }
   ],
   "source": [
    "def compute_confusion_matrix(model, data_loader, device):\n",
    "    \"\"\"\n",
    "    Returns a confusion matrix (2D numpy array) for model vs. labels in data_loader.\n",
    "    \"\"\"\n",
    "    model.eval()\n",
    "    y_true, y_pred = [], []\n",
    "    with torch.no_grad():\n",
    "        for images, labels in data_loader:\n",
    "            images, labels = images.to(device), labels.to(device)\n",
    "            outputs = model(images)\n",
    "            preds = outputs.argmax(dim=1)\n",
    "            y_true.extend(labels.cpu().numpy())\n",
    "            y_pred.extend(preds.cpu().numpy())\n",
    "    return confusion_matrix(y_true, y_pred)\n",
    "\n",
    "def plot_confusion_matrix(cm, class_names, figsize=(8,6)):\n",
    "    \"\"\"\n",
    "    Plots the given confusion matrix (cm) with seaborn heatmap.\n",
    "    \"\"\"\n",
    "    plt.figure(figsize=figsize)\n",
    "    sns.heatmap(cm, annot=True, fmt=\"d\", cmap=\"Blues\",\n",
    "                xticklabels=class_names,\n",
    "                yticklabels=class_names)\n",
    "    plt.xlabel(\"Predicted label\")\n",
    "    plt.ylabel(\"True label\")\n",
    "    plt.title(\"Confusion Matrix\")\n",
    "    plt.tight_layout()\n",
    "    plt.show()\n",
    "\n",
    "# — example usage —\n",
    "\n",
    "device = torch.device(\"cuda\" if torch.cuda.is_available() else \"cpu\")\n",
    "\n",
    "# 1) Load your best model\n",
    "model = MRICNN(num_classes=4).to(device)\n",
    "model.load_state_dict(torch.load(\"best_mri_model.pth\", map_location=device))\n",
    "\n",
    "# 2) Compute\n",
    "cm = compute_confusion_matrix(model, test_loader, device)\n",
    "\n",
    "# 3) Plot\n",
    "class_names = [\"Glioma\", \"Meningioma\", \"Pituitary\", \"No_Tumor\"]\n",
    "plot_confusion_matrix(cm, class_names)\n"
   ]
  },
  {
   "cell_type": "code",
   "execution_count": 633,
   "metadata": {},
   "outputs": [
    {
     "data": {
      "image/png": "[encoded data removed]",
      "text/plain": [
       "<Figure size 800x600 with 1 Axes>"
      ]
     },
     "metadata": {},
     "output_type": "display_data"
    }
   ],
   "source": [
    "from sklearn.metrics import roc_curve, auc\n",
    "\n",
    "device = torch.device(\"cpu\")\n",
    "model = MRICNN(num_classes=4)\n",
    "state = torch.load(\"best_mri_model.pth\", map_location=device)\n",
    "model.load_state_dict(state)\n",
    "model.to(device).eval()\n",
    "\n",
    "# 2) Collect true labels and predicted probabilities\n",
    "y_true = []\n",
    "y_score = []\n",
    "with torch.no_grad():\n",
    "    for images, labels in test_loader:\n",
    "        images = images.to(device)\n",
    "        logits = model(images)\n",
    "        probs = torch.softmax(logits, dim=1).cpu().numpy()\n",
    "        y_score.append(probs)\n",
    "        y_true.append(labels.numpy())\n",
    "\n",
    "y_true = np.concatenate(y_true)      # shape (N,)\n",
    "y_score = np.concatenate(y_score)    # shape (N, num_classes)\n",
    "\n",
    "# 3) Binarize labels for multi‑class ROC\n",
    "n_classes = y_score.shape[1]\n",
    "y_true_bin = np.zeros((len(y_true), n_classes))\n",
    "for i in range(n_classes):\n",
    "    y_true_bin[:, i] = (y_true == i).astype(int)\n",
    "\n",
    "fpr = {}\n",
    "tpr = {}\n",
    "roc_auc = {}\n",
    "for i in range(n_classes):\n",
    "    fpr[i], tpr[i], _ = roc_curve(y_true_bin[:, i], y_score[:, i])\n",
    "    roc_auc[i] = auc(fpr[i], tpr[i])\n",
    "\n",
    "# 5) Plot all ROC curves\n",
    "plt.figure(figsize=(8, 6))\n",
    "for i in range(n_classes):\n",
    "    plt.plot(fpr[i], tpr[i],\n",
    "             label=f\"{reversed_map[i]} (AUC = {roc_auc[i]:.2f})\")\n",
    "\n",
    "plt.plot([0, 1], [0, 1], \"k--\", label=\"Chance\")\n",
    "plt.xlabel(\"False Positive Rate\")\n",
    "plt.ylabel(\"True Positive Rate\")\n",
    "plt.title(\"ROC Curves & AUC per Class\")\n",
    "plt.legend(loc=\"lower right\")\n",
    "plt.tight_layout()\n",
    "plt.show()\n"
   ]
  },
  {
   "cell_type": "code",
   "execution_count": 635,
   "metadata": {},
   "outputs": [
    {
     "data": {
      "image/png": "[encoded data removed]",
      "text/plain": [
       "<Figure size 800x600 with 1 Axes>"
      ]
     },
     "metadata": {},
     "output_type": "display_data"
    }
   ],
   "source": [
    "from sklearn.metrics import precision_recall_curve, average_precision_score\n",
    "\n",
    "# 2) Run the test_loader to collect true labels and predicted probabilities\n",
    "y_true = []\n",
    "y_score = []\n",
    "with torch.no_grad():\n",
    "    for images, labels in test_loader:\n",
    "        images = images.to(device)\n",
    "        logits = model(images)\n",
    "        probs = torch.softmax(logits, dim=1).cpu().numpy()\n",
    "        y_score.append(probs)\n",
    "        y_true.append(labels.numpy())\n",
    "\n",
    "y_true  = np.concatenate(y_true)   # shape (N,)\n",
    "y_score = np.concatenate(y_score)  # shape (N, num_classes)\n",
    "\n",
    "# 3) Binarize labels for multi‐class PR\n",
    "num_classes = y_score.shape[1]\n",
    "y_true_bin = np.zeros((len(y_true), num_classes))\n",
    "for i in range(num_classes):\n",
    "    y_true_bin[:, i] = (y_true == i).astype(int)\n",
    "\n",
    "# 4) Compute precision, recall, and AP for each class\n",
    "precision = {}\n",
    "recall    = {}\n",
    "avg_prec  = {}\n",
    "for i in range(num_classes):\n",
    "    precision[i], recall[i], _  = precision_recall_curve(y_true_bin[:, i], y_score[:, i])\n",
    "    avg_prec[i] = average_precision_score(y_true_bin[:, i], y_score[:, i])\n",
    "\n",
    "# 5) Plot Precision–Recall curves\n",
    "plt.figure(figsize=(8, 6))\n",
    "for i in range(num_classes):\n",
    "    plt.plot(recall[i], precision[i],\n",
    "             label=f\"{reversed_map[i]} (AP = {avg_prec[i]:.2f})\")\n",
    "\n",
    "plt.xlabel(\"Recall\")\n",
    "plt.ylabel(\"Precision\")\n",
    "plt.title(\"Precision–Recall Curves & Average Precision per Class\")\n",
    "plt.legend(loc=\"lower left\")\n",
    "plt.tight_layout()\n",
    "plt.show()\n"
   ]
  }
 ],
 "metadata": {
  "kernelspec": {
   "display_name": "mri-venv",
   "language": "python",
   "name": "python3"
  },
  "language_info": {
   "codemirror_mode": {
    "name": "ipython",
    "version": 3
   },
   "file_extension": ".py",
   "mimetype": "text/x-python",
   "name": "python",
   "nbconvert_exporter": "python",
   "pygments_lexer": "ipython3",
   "version": "3.11.7"
  }
 },
 "nbformat": 4,
 "nbformat_minor": 2
}
